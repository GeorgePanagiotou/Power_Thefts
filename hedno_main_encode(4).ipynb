{
  "cells": [
    {
      "cell_type": "markdown",
      "metadata": {
        "id": "view-in-github",
        "colab_type": "text"
      },
      "source": [
        "<a href=\"https://colab.research.google.com/github/ElenaNtm/power-thefts-investigation/blob/main/hedno_main_encode(4).ipynb\" target=\"_parent\"><img src=\"https://colab.research.google.com/assets/colab-badge.svg\" alt=\"Open In Colab\"/></a>"
      ]
    },
    {
      "cell_type": "markdown",
      "metadata": {
        "id": "5lomwjLgPobz"
      },
      "source": [
        "#Libraries"
      ]
    },
    {
      "cell_type": "code",
      "execution_count": 1,
      "metadata": {
        "id": "SmJ8m1EdxtzB"
      },
      "outputs": [],
      "source": [
        "import pandas as pd \n",
        "import numpy as np\n",
        "import math\n",
        "import operator \n",
        "import seaborn as sns\n",
        "from sklearn.metrics import mean_squared_error\n",
        "from sklearn.metrics import balanced_accuracy_score\n",
        "import sklearn\n",
        "from sklearn.model_selection import train_test_split\n",
        "from sklearn.metrics import confusion_matrix\n",
        "from sklearn.ensemble import HistGradientBoostingClassifier\n",
        "from sklearn.preprocessing import OrdinalEncoder\n",
        "#from sklearn.preprocessing import LabelEncoder\n",
        "from sklearn.compose import make_column_selector as selector\n",
        "from sklearn.preprocessing import StandardScaler\n",
        "from sklearn.compose import ColumnTransformer\n",
        "#from sklearn.preprocessing import OneHotEncoder"
      ]
    },
    {
      "cell_type": "code",
      "execution_count": 2,
      "metadata": {
        "id": "8EUCB6SaU88K"
      },
      "outputs": [],
      "source": [
        "from sklearn.experimental import enable_halving_search_cv\n",
        "from sklearn.model_selection import HalvingGridSearchCV"
      ]
    },
    {
      "cell_type": "code",
      "execution_count": 3,
      "metadata": {
        "colab": {
          "base_uri": "https://localhost:8080/"
        },
        "id": "0z4wQsy3xu6Q",
        "outputId": "d458f135-3eff-4c0a-ad1a-12ed4f0d5c3b"
      },
      "outputs": [
        {
          "output_type": "stream",
          "name": "stdout",
          "text": [
            "Mounted at /content/drive\n"
          ]
        }
      ],
      "source": [
        "from google.colab import drive\n",
        "drive.mount('/content/drive')"
      ]
    },
    {
      "cell_type": "code",
      "execution_count": 4,
      "metadata": {
        "id": "0AOAgzxmnUWM"
      },
      "outputs": [],
      "source": [
        "\n",
        "#scoring \n",
        "def rmsle(y, y_pred):\n",
        "    return np.sqrt(mean_squared_error(y, y_pred))"
      ]
    },
    {
      "cell_type": "markdown",
      "metadata": {
        "id": "axo7h0AGSTvy"
      },
      "source": [
        "#Data"
      ]
    },
    {
      "cell_type": "code",
      "source": [
        "path = \"/content/drive/MyDrive/HEDNO/Edo_ola/train_data.csv\"\n",
        "train = pd.read_csv(path)"
      ],
      "metadata": {
        "id": "0UvwsLu8Zrs6",
        "colab": {
          "base_uri": "https://localhost:8080/"
        },
        "outputId": "eeae37bd-94d4-4a6d-e7d5-8141b212292f"
      },
      "execution_count": 5,
      "outputs": [
        {
          "output_type": "stream",
          "name": "stderr",
          "text": [
            "<ipython-input-5-10fbcb9d1eb7>:2: DtypeWarning: Columns (16) have mixed types. Specify dtype option on import or set low_memory=False.\n",
            "  train = pd.read_csv(path)\n"
          ]
        }
      ]
    },
    {
      "cell_type": "code",
      "source": [
        "path = \"/content/drive/MyDrive/HEDNO/Edo_ola/test_data.csv\"\n",
        "test = pd.read_csv(path)"
      ],
      "metadata": {
        "id": "RanGSRUO1iDm"
      },
      "execution_count": 6,
      "outputs": []
    },
    {
      "cell_type": "code",
      "source": [
        "train.columns"
      ],
      "metadata": {
        "colab": {
          "base_uri": "https://localhost:8080/"
        },
        "id": "ND3ADSQZKnzT",
        "outputId": "72a00492-1d5b-4577-8f37-2c2150499928"
      },
      "execution_count": 7,
      "outputs": [
        {
          "output_type": "execute_result",
          "data": {
            "text/plain": [
              "Index(['Unnamed: 0', 'ACCT_NBR', 'SUCCESSOR', 'VOLTAGE', 'PARNO', 'XRHSH',\n",
              "       'CONTRACT_CAPACITY', 'ACCT_CONTROL', 'ACCT_WGS84_X', 'ACCT_WGS84_Y',\n",
              "       'TOTAL_SUPPLIER', 'LAST_SUPPLIER', 'SUPPLIER', 'START_DATE', 'END_DATE',\n",
              "       'TOTAL_MS_METER_NBR', 'BS_RATE', 'target'],\n",
              "      dtype='object')"
            ]
          },
          "metadata": {},
          "execution_count": 7
        }
      ]
    },
    {
      "cell_type": "code",
      "source": [
        "test.columns"
      ],
      "metadata": {
        "colab": {
          "base_uri": "https://localhost:8080/"
        },
        "id": "Ue8_5-eXKn4L",
        "outputId": "1a7524e8-1460-4d44-f167-93f77d4a9f9e"
      },
      "execution_count": 8,
      "outputs": [
        {
          "output_type": "execute_result",
          "data": {
            "text/plain": [
              "Index(['Unnamed: 0.1', 'Unnamed: 0', 'ACCT_NBR', 'SUCCESSOR', 'VOLTAGE',\n",
              "       'PARNO', 'XRHSH', 'CONTRACT_CAPACITY', 'ACCT_CONTROL', 'ACCT_WGS84_X',\n",
              "       'ACCT_WGS84_Y', 'TOTAL_SUPPLIER', 'LAST_SUPPLIER', 'SUPPLIER',\n",
              "       'START_DATE', 'END_DATE', 'TOTAL_MS_METER_NBR', 'BS_RATE'],\n",
              "      dtype='object')"
            ]
          },
          "metadata": {},
          "execution_count": 8
        }
      ]
    },
    {
      "cell_type": "code",
      "source": [
        "train.drop(['Unnamed: 0'],axis=1, inplace=True)\n",
        "test.drop(['Unnamed: 0.1','Unnamed: 0'],axis=1, inplace=True)"
      ],
      "metadata": {
        "id": "GR0pH1X8D2Qd"
      },
      "execution_count": 10,
      "outputs": []
    },
    {
      "cell_type": "markdown",
      "metadata": {
        "id": "8IXP5VWmTDvi"
      },
      "source": [
        "#Reset Index"
      ]
    },
    {
      "cell_type": "code",
      "execution_count": 11,
      "metadata": {
        "id": "L_otmXcJTG6U"
      },
      "outputs": [],
      "source": [
        "train = train.set_index(['ACCT_NBR', 'SUCCESSOR'])"
      ]
    },
    {
      "cell_type": "code",
      "execution_count": 12,
      "metadata": {
        "id": "LoGZJMQCTG9k"
      },
      "outputs": [],
      "source": [
        "test = test.set_index(['ACCT_NBR', 'SUCCESSOR'])"
      ]
    },
    {
      "cell_type": "markdown",
      "metadata": {
        "id": "TDM8e24CLaCG"
      },
      "source": [
        "# Delete columns"
      ]
    },
    {
      "cell_type": "code",
      "source": [
        "train.columns"
      ],
      "metadata": {
        "colab": {
          "base_uri": "https://localhost:8080/"
        },
        "id": "TilDdho012yN",
        "outputId": "e3e58a04-8c4c-41c8-df35-57cca4e329b1"
      },
      "execution_count": 13,
      "outputs": [
        {
          "output_type": "execute_result",
          "data": {
            "text/plain": [
              "Index(['VOLTAGE', 'PARNO', 'XRHSH', 'CONTRACT_CAPACITY', 'ACCT_CONTROL',\n",
              "       'ACCT_WGS84_X', 'ACCT_WGS84_Y', 'TOTAL_SUPPLIER', 'LAST_SUPPLIER',\n",
              "       'SUPPLIER', 'START_DATE', 'END_DATE', 'TOTAL_MS_METER_NBR', 'BS_RATE',\n",
              "       'target'],\n",
              "      dtype='object')"
            ]
          },
          "metadata": {},
          "execution_count": 13
        }
      ]
    },
    {
      "cell_type": "code",
      "execution_count": 14,
      "metadata": {
        "id": "D_2bCkAzA-YE"
      },
      "outputs": [],
      "source": [
        "train.drop(['BS_RATE'], axis=1, inplace = True)"
      ]
    },
    {
      "cell_type": "code",
      "source": [
        "test.columns"
      ],
      "metadata": {
        "colab": {
          "base_uri": "https://localhost:8080/"
        },
        "id": "UrYK_UzF2AxT",
        "outputId": "9a9a9c2a-b255-4e33-a9d7-2ef7ad1f4835"
      },
      "execution_count": 15,
      "outputs": [
        {
          "output_type": "execute_result",
          "data": {
            "text/plain": [
              "Index(['VOLTAGE', 'PARNO', 'XRHSH', 'CONTRACT_CAPACITY', 'ACCT_CONTROL',\n",
              "       'ACCT_WGS84_X', 'ACCT_WGS84_Y', 'TOTAL_SUPPLIER', 'LAST_SUPPLIER',\n",
              "       'SUPPLIER', 'START_DATE', 'END_DATE', 'TOTAL_MS_METER_NBR', 'BS_RATE'],\n",
              "      dtype='object')"
            ]
          },
          "metadata": {},
          "execution_count": 15
        }
      ]
    },
    {
      "cell_type": "code",
      "execution_count": 16,
      "metadata": {
        "id": "yvtuzBkvA-cY"
      },
      "outputs": [],
      "source": [
        "test.drop(['BS_RATE'], axis=1, inplace = True)"
      ]
    },
    {
      "cell_type": "markdown",
      "metadata": {
        "id": "hZgzZFYj9uql"
      },
      "source": [
        "#Find if all TOTAL_SUPPLIER=1-NOT TO RUN"
      ]
    },
    {
      "cell_type": "code",
      "execution_count": null,
      "metadata": {
        "colab": {
          "base_uri": "https://localhost:8080/"
        },
        "id": "b8IJloDm9z-F",
        "outputId": "fbd5512a-b3c2-4e04-ee66-4fc65cfa110f"
      },
      "outputs": [
        {
          "output_type": "stream",
          "name": "stdout",
          "text": [
            "Not all values are equal to 1 in column TOTAL_SUPPLIER\n"
          ]
        }
      ],
      "source": [
        "if (train_data['TOTAL_SUPPLIER'] == train_data['TOTAL_SUPPLIER'][0]).all():\n",
        "    print(\"All values are equal in column TOTAL_SUPPLIER\")\n",
        "else:\n",
        "    print(\"Not all values are equal to 1 in column TOTAL_SUPPLIER\")"
      ]
    },
    {
      "cell_type": "markdown",
      "metadata": {
        "id": "9kMYYjCI-Zcn"
      },
      "source": [
        "άρα δεν έχουμε παντού ταυτιση SUPPLIER με LAST_SUPPLIER"
      ]
    },
    {
      "cell_type": "code",
      "execution_count": null,
      "metadata": {
        "colab": {
          "base_uri": "https://localhost:8080/"
        },
        "id": "B-jH0LavBt4e",
        "outputId": "d30c98c9-b88a-4e5e-e4f6-82071f94dec7"
      },
      "outputs": [
        {
          "output_type": "stream",
          "name": "stdout",
          "text": [
            "All values are equal in column TOTAL_SUPPLIER\n"
          ]
        }
      ],
      "source": [
        "if (test_data['TOTAL_SUPPLIER'] == test_data['TOTAL_SUPPLIER'][0]).all():\n",
        "    print(\"All values are equal in column TOTAL_SUPPLIER\")\n",
        "else:\n",
        "    print(\"Not all values are equal to 1 in column TOTAL_SUPPLIER\")"
      ]
    },
    {
      "cell_type": "markdown",
      "metadata": {
        "id": "586QgXL5B3bi"
      },
      "source": [
        "Ίσως μπορούμε να δουλέψουμε μόνο με τους LAST_SUPPLIER τελικά"
      ]
    },
    {
      "cell_type": "markdown",
      "metadata": {
        "id": "PDbFgTpW0qqu"
      },
      "source": [
        "#SUPPLIER PROBLEM"
      ]
    },
    {
      "cell_type": "code",
      "execution_count": null,
      "metadata": {
        "id": "S34FnodQ0wwK"
      },
      "outputs": [],
      "source": [
        "#a = train['SUPPLIER'].unique()\n",
        "#print(a)"
      ]
    },
    {
      "cell_type": "code",
      "execution_count": null,
      "metadata": {
        "id": "g3xgKwmM06pt"
      },
      "outputs": [],
      "source": [
        "#b = test['SUPPLIER'].unique()\n",
        "#print(b)"
      ]
    },
    {
      "cell_type": "markdown",
      "metadata": {
        "id": "buE9kcx29GAQ"
      },
      "source": [
        "Στοιχεία του b (test) που δεν υπάρχουν στο a (train)"
      ]
    },
    {
      "cell_type": "code",
      "execution_count": null,
      "metadata": {
        "id": "Z4bN-pim2Uih"
      },
      "outputs": [],
      "source": [
        "#d = list(set(a).difference(b))\n",
        "#d = set(a) - set(b)\n",
        "#print(d)"
      ]
    },
    {
      "cell_type": "markdown",
      "metadata": {
        "id": "BelnszDS9Ry0"
      },
      "source": [
        "Στοιχεία του a (train) που δεν υπάρχουν στο b (test)"
      ]
    },
    {
      "cell_type": "code",
      "execution_count": null,
      "metadata": {
        "id": "7p3O4N9I9PCA"
      },
      "outputs": [],
      "source": [
        "#e =  list(set(b).difference(a))\n",
        "#print(e)"
      ]
    },
    {
      "cell_type": "code",
      "execution_count": null,
      "metadata": {
        "id": "-NHKUujp_jEA"
      },
      "outputs": [],
      "source": [
        "#not_in_range_value = d[0]"
      ]
    },
    {
      "cell_type": "markdown",
      "metadata": {
        "id": "gV8G9UsfBbXN"
      },
      "source": [
        "Βγάζω τις γραμμές με τους supplier που δεν υπάρχουν στο test, δες το όμως κι εσύ να σιγουρευτείς ότι δεν έχω κάνει ανάποδα τη δουλειά (δεν παίζει)"
      ]
    },
    {
      "cell_type": "code",
      "execution_count": null,
      "metadata": {
        "id": "C0S34j_p2H3w"
      },
      "outputs": [],
      "source": [
        "#train.drop(train_data.loc[train_data['SUPPLIER']== not_in_range_value].index, inplace=True)"
      ]
    },
    {
      "cell_type": "markdown",
      "metadata": {
        "id": "b1jI2GGaAbI8"
      },
      "source": [
        "Κάνω την ίδια δουλειά για last supplier"
      ]
    },
    {
      "cell_type": "code",
      "execution_count": null,
      "metadata": {
        "id": "ObaHXgKCAYO2"
      },
      "outputs": [],
      "source": [
        "#a = train_data['LAST_SUPPLIER'].unique()\n",
        "#print(a)"
      ]
    },
    {
      "cell_type": "code",
      "execution_count": null,
      "metadata": {
        "id": "gf4JDZfBAimU"
      },
      "outputs": [],
      "source": [
        "#b = test_data['LAST_SUPPLIER'].unique()\n",
        "#print(b)"
      ]
    },
    {
      "cell_type": "code",
      "execution_count": null,
      "metadata": {
        "id": "kn5R3CZ5Aipe"
      },
      "outputs": [],
      "source": [
        "#d = list(set(a).difference(b))\n",
        "#d = set(a) - set(b)\n",
        "#print(d)"
      ]
    },
    {
      "cell_type": "markdown",
      "metadata": {
        "id": "Lu2P5DCHWDl3"
      },
      "source": [
        "#Split categorical and numerical Data NOT TO RUN"
      ]
    },
    {
      "cell_type": "code",
      "execution_count": 17,
      "metadata": {
        "colab": {
          "base_uri": "https://localhost:8080/"
        },
        "id": "FMVzfI6SWDGt",
        "outputId": "12357e6e-6536-468c-8fd0-8b5e8094eca0"
      },
      "outputs": [
        {
          "output_type": "stream",
          "name": "stdout",
          "text": [
            "categorical ['VOLTAGE', 'ACCT_WGS84_X', 'ACCT_WGS84_Y', 'LAST_SUPPLIER', 'SUPPLIER']\n",
            "numerical ['PARNO', 'XRHSH', 'CONTRACT_CAPACITY', 'ACCT_CONTROL', 'TOTAL_SUPPLIER', 'START_DATE', 'END_DATE', 'TOTAL_MS_METER_NBR', 'target']\n"
          ]
        }
      ],
      "source": [
        "categorical_columns_selector = selector(dtype_include=object)\n",
        "numerical_columns_selector = selector(dtype_exclude=object)\n",
        "\n",
        "categorical_train = categorical_columns_selector(train)\n",
        "numerical_train = numerical_columns_selector(train)\n",
        "\n",
        "print('categorical', categorical_train)\n",
        "print('numerical', numerical_train)"
      ]
    },
    {
      "cell_type": "code",
      "source": [
        "#train_data.info()"
      ],
      "metadata": {
        "id": "FsqB146MJK_T"
      },
      "execution_count": null,
      "outputs": []
    },
    {
      "cell_type": "code",
      "execution_count": null,
      "metadata": {
        "id": "Je52hHbZWcMg"
      },
      "outputs": [],
      "source": [
        "#categorical_preprocessor =  OneHotEncoder(handle_unknown=\"ignore\")\n",
        "#numerical_preprocessor = StandardScaler()\n",
        "#preprocessor = ColumnTransformer([\n",
        " #   ('ordinal-encoder', categorical_preprocessor, categorical_train),\n",
        "  #  ('standard_scaler', numerical_preprocessor, numerical_train)])"
      ]
    },
    {
      "cell_type": "markdown",
      "metadata": {
        "id": "0hkAo7rLDTeE"
      },
      "source": [
        "#Encoder"
      ]
    },
    {
      "cell_type": "code",
      "execution_count": 18,
      "metadata": {
        "id": "-zLlvR1EQYPG"
      },
      "outputs": [],
      "source": [
        "enc = OrdinalEncoder()"
      ]
    },
    {
      "cell_type": "code",
      "execution_count": 19,
      "metadata": {
        "colab": {
          "base_uri": "https://localhost:8080/",
          "height": 75
        },
        "id": "6GFvct9ZQYPG",
        "outputId": "2345ce50-9333-4c72-b154-aeff00e555a6"
      },
      "outputs": [
        {
          "output_type": "execute_result",
          "data": {
            "text/plain": [
              "OrdinalEncoder()"
            ],
            "text/html": [
              "<style>#sk-container-id-1 {color: black;background-color: white;}#sk-container-id-1 pre{padding: 0;}#sk-container-id-1 div.sk-toggleable {background-color: white;}#sk-container-id-1 label.sk-toggleable__label {cursor: pointer;display: block;width: 100%;margin-bottom: 0;padding: 0.3em;box-sizing: border-box;text-align: center;}#sk-container-id-1 label.sk-toggleable__label-arrow:before {content: \"▸\";float: left;margin-right: 0.25em;color: #696969;}#sk-container-id-1 label.sk-toggleable__label-arrow:hover:before {color: black;}#sk-container-id-1 div.sk-estimator:hover label.sk-toggleable__label-arrow:before {color: black;}#sk-container-id-1 div.sk-toggleable__content {max-height: 0;max-width: 0;overflow: hidden;text-align: left;background-color: #f0f8ff;}#sk-container-id-1 div.sk-toggleable__content pre {margin: 0.2em;color: black;border-radius: 0.25em;background-color: #f0f8ff;}#sk-container-id-1 input.sk-toggleable__control:checked~div.sk-toggleable__content {max-height: 200px;max-width: 100%;overflow: auto;}#sk-container-id-1 input.sk-toggleable__control:checked~label.sk-toggleable__label-arrow:before {content: \"▾\";}#sk-container-id-1 div.sk-estimator input.sk-toggleable__control:checked~label.sk-toggleable__label {background-color: #d4ebff;}#sk-container-id-1 div.sk-label input.sk-toggleable__control:checked~label.sk-toggleable__label {background-color: #d4ebff;}#sk-container-id-1 input.sk-hidden--visually {border: 0;clip: rect(1px 1px 1px 1px);clip: rect(1px, 1px, 1px, 1px);height: 1px;margin: -1px;overflow: hidden;padding: 0;position: absolute;width: 1px;}#sk-container-id-1 div.sk-estimator {font-family: monospace;background-color: #f0f8ff;border: 1px dotted black;border-radius: 0.25em;box-sizing: border-box;margin-bottom: 0.5em;}#sk-container-id-1 div.sk-estimator:hover {background-color: #d4ebff;}#sk-container-id-1 div.sk-parallel-item::after {content: \"\";width: 100%;border-bottom: 1px solid gray;flex-grow: 1;}#sk-container-id-1 div.sk-label:hover label.sk-toggleable__label {background-color: #d4ebff;}#sk-container-id-1 div.sk-serial::before {content: \"\";position: absolute;border-left: 1px solid gray;box-sizing: border-box;top: 0;bottom: 0;left: 50%;z-index: 0;}#sk-container-id-1 div.sk-serial {display: flex;flex-direction: column;align-items: center;background-color: white;padding-right: 0.2em;padding-left: 0.2em;position: relative;}#sk-container-id-1 div.sk-item {position: relative;z-index: 1;}#sk-container-id-1 div.sk-parallel {display: flex;align-items: stretch;justify-content: center;background-color: white;position: relative;}#sk-container-id-1 div.sk-item::before, #sk-container-id-1 div.sk-parallel-item::before {content: \"\";position: absolute;border-left: 1px solid gray;box-sizing: border-box;top: 0;bottom: 0;left: 50%;z-index: -1;}#sk-container-id-1 div.sk-parallel-item {display: flex;flex-direction: column;z-index: 1;position: relative;background-color: white;}#sk-container-id-1 div.sk-parallel-item:first-child::after {align-self: flex-end;width: 50%;}#sk-container-id-1 div.sk-parallel-item:last-child::after {align-self: flex-start;width: 50%;}#sk-container-id-1 div.sk-parallel-item:only-child::after {width: 0;}#sk-container-id-1 div.sk-dashed-wrapped {border: 1px dashed gray;margin: 0 0.4em 0.5em 0.4em;box-sizing: border-box;padding-bottom: 0.4em;background-color: white;}#sk-container-id-1 div.sk-label label {font-family: monospace;font-weight: bold;display: inline-block;line-height: 1.2em;}#sk-container-id-1 div.sk-label-container {text-align: center;}#sk-container-id-1 div.sk-container {/* jupyter's `normalize.less` sets `[hidden] { display: none; }` but bootstrap.min.css set `[hidden] { display: none !important; }` so we also need the `!important` here to be able to override the default hidden behavior on the sphinx rendered scikit-learn.org. See: https://github.com/scikit-learn/scikit-learn/issues/21755 */display: inline-block !important;position: relative;}#sk-container-id-1 div.sk-text-repr-fallback {display: none;}</style><div id=\"sk-container-id-1\" class=\"sk-top-container\"><div class=\"sk-text-repr-fallback\"><pre>OrdinalEncoder()</pre><b>In a Jupyter environment, please rerun this cell to show the HTML representation or trust the notebook. <br />On GitHub, the HTML representation is unable to render, please try loading this page with nbviewer.org.</b></div><div class=\"sk-container\" hidden><div class=\"sk-item\"><div class=\"sk-estimator sk-toggleable\"><input class=\"sk-toggleable__control sk-hidden--visually\" id=\"sk-estimator-id-1\" type=\"checkbox\" checked><label for=\"sk-estimator-id-1\" class=\"sk-toggleable__label sk-toggleable__label-arrow\">OrdinalEncoder</label><div class=\"sk-toggleable__content\"><pre>OrdinalEncoder()</pre></div></div></div></div></div>"
            ]
          },
          "metadata": {},
          "execution_count": 19
        }
      ],
      "source": [
        "enc.fit(train[['VOLTAGE', 'LAST_SUPPLIER']])"
      ]
    },
    {
      "cell_type": "code",
      "execution_count": 20,
      "metadata": {
        "id": "z1Ej4UXpQYPH"
      },
      "outputs": [],
      "source": [
        "train[['VOLTAGE', 'LAST_SUPPLIER']] = enc.transform(train[['VOLTAGE', 'LAST_SUPPLIER']])"
      ]
    },
    {
      "cell_type": "code",
      "execution_count": 21,
      "metadata": {
        "id": "WvAJC2KQR5m6"
      },
      "outputs": [],
      "source": [
        "#test\n",
        "test[['VOLTAGE', 'LAST_SUPPLIER']] = enc.transform(test[['VOLTAGE', 'LAST_SUPPLIER']])"
      ]
    },
    {
      "cell_type": "markdown",
      "metadata": {
        "id": "Iw17EalTOf_U"
      },
      "source": [
        "#We save the encoded data to the existing files\n"
      ]
    },
    {
      "cell_type": "code",
      "execution_count": 22,
      "metadata": {
        "colab": {
          "base_uri": "https://localhost:8080/",
          "height": 302
        },
        "id": "NP44rtJQOyW_",
        "outputId": "96d95453-3128-4e69-f83e-cd87bc80f49e"
      },
      "outputs": [
        {
          "output_type": "execute_result",
          "data": {
            "text/plain": [
              "                                                              VOLTAGE  PARNO  \\\n",
              "ACCT_NBR                                           SUCCESSOR                   \n",
              "000A31FE38C6F648845941B642E287FE0200000000004AD... 1              0.0      0   \n",
              "                                                   1              0.0      0   \n",
              "                                                   1              0.0      0   \n",
              "                                                   1              0.0      0   \n",
              "000A31FE38C6F648845941B642E287FE0200000000008D3... 1              0.0      0   \n",
              "\n",
              "                                                              XRHSH  \\\n",
              "ACCT_NBR                                           SUCCESSOR          \n",
              "000A31FE38C6F648845941B642E287FE0200000000004AD... 1              2   \n",
              "                                                   1              2   \n",
              "                                                   1              2   \n",
              "                                                   1              2   \n",
              "000A31FE38C6F648845941B642E287FE0200000000008D3... 1              2   \n",
              "\n",
              "                                                              CONTRACT_CAPACITY  \\\n",
              "ACCT_NBR                                           SUCCESSOR                      \n",
              "000A31FE38C6F648845941B642E287FE0200000000004AD... 1                       12.0   \n",
              "                                                   1                       12.0   \n",
              "                                                   1                       12.0   \n",
              "                                                   1                       12.0   \n",
              "000A31FE38C6F648845941B642E287FE0200000000008D3... 1                       12.0   \n",
              "\n",
              "                                                              ACCT_CONTROL  \\\n",
              "ACCT_NBR                                           SUCCESSOR                 \n",
              "000A31FE38C6F648845941B642E287FE0200000000004AD... 1                     0   \n",
              "                                                   1                     0   \n",
              "                                                   1                     0   \n",
              "                                                   1                     0   \n",
              "000A31FE38C6F648845941B642E287FE0200000000008D3... 1                     0   \n",
              "\n",
              "                                                                    ACCT_WGS84_X  \\\n",
              "ACCT_NBR                                           SUCCESSOR                       \n",
              "000A31FE38C6F648845941B642E287FE0200000000004AD... 1          53,422551543686701   \n",
              "                                                   1          53,422551543686701   \n",
              "                                                   1          53,422551543686701   \n",
              "                                                   1          53,422551543686701   \n",
              "000A31FE38C6F648845941B642E287FE0200000000008D3... 1          53,407108521588633   \n",
              "\n",
              "                                                                    ACCT_WGS84_Y  \\\n",
              "ACCT_NBR                                           SUCCESSOR                       \n",
              "000A31FE38C6F648845941B642E287FE0200000000004AD... 1          19,592757873078753   \n",
              "                                                   1          19,592757873078753   \n",
              "                                                   1          19,592757873078753   \n",
              "                                                   1          19,592757873078753   \n",
              "000A31FE38C6F648845941B642E287FE0200000000008D3... 1          19,569743639932696   \n",
              "\n",
              "                                                              TOTAL_SUPPLIER  \\\n",
              "ACCT_NBR                                           SUCCESSOR                   \n",
              "000A31FE38C6F648845941B642E287FE0200000000004AD... 1                     1.0   \n",
              "                                                   1                     1.0   \n",
              "                                                   1                     1.0   \n",
              "                                                   1                     1.0   \n",
              "000A31FE38C6F648845941B642E287FE0200000000008D3... 1                     1.0   \n",
              "\n",
              "                                                              LAST_SUPPLIER  \\\n",
              "ACCT_NBR                                           SUCCESSOR                  \n",
              "000A31FE38C6F648845941B642E287FE0200000000004AD... 1                   23.0   \n",
              "                                                   1                   23.0   \n",
              "                                                   1                   23.0   \n",
              "                                                   1                   23.0   \n",
              "000A31FE38C6F648845941B642E287FE0200000000008D3... 1                   23.0   \n",
              "\n",
              "                                                             SUPPLIER  \\\n",
              "ACCT_NBR                                           SUCCESSOR            \n",
              "000A31FE38C6F648845941B642E287FE0200000000004AD... 1                Δ   \n",
              "                                                   1                Δ   \n",
              "                                                   1                Δ   \n",
              "                                                   1                Δ   \n",
              "000A31FE38C6F648845941B642E287FE0200000000008D3... 1                Δ   \n",
              "\n",
              "                                                              START_DATE  \\\n",
              "ACCT_NBR                                           SUCCESSOR               \n",
              "000A31FE38C6F648845941B642E287FE0200000000004AD... 1               434.0   \n",
              "                                                   1               434.0   \n",
              "                                                   1               434.0   \n",
              "                                                   1               434.0   \n",
              "000A31FE38C6F648845941B642E287FE0200000000008D3... 1               307.0   \n",
              "\n",
              "                                                              END_DATE  \\\n",
              "ACCT_NBR                                           SUCCESSOR             \n",
              "000A31FE38C6F648845941B642E287FE0200000000004AD... 1             925.0   \n",
              "                                                   1             925.0   \n",
              "                                                   1             925.0   \n",
              "                                                   1             925.0   \n",
              "000A31FE38C6F648845941B642E287FE0200000000008D3... 1             111.0   \n",
              "\n",
              "                                                              TOTAL_MS_METER_NBR  \\\n",
              "ACCT_NBR                                           SUCCESSOR                       \n",
              "000A31FE38C6F648845941B642E287FE0200000000004AD... 1                         1.0   \n",
              "                                                   1                         1.0   \n",
              "                                                   1                         1.0   \n",
              "                                                   1                         1.0   \n",
              "000A31FE38C6F648845941B642E287FE0200000000008D3... 1                         1.0   \n",
              "\n",
              "                                                              target  \n",
              "ACCT_NBR                                           SUCCESSOR          \n",
              "000A31FE38C6F648845941B642E287FE0200000000004AD... 1               0  \n",
              "                                                   1               0  \n",
              "                                                   1               0  \n",
              "                                                   1               0  \n",
              "000A31FE38C6F648845941B642E287FE0200000000008D3... 1               0  "
            ],
            "text/html": [
              "\n",
              "  <div id=\"df-0df52372-fab1-435c-812e-d61538dcf7f8\">\n",
              "    <div class=\"colab-df-container\">\n",
              "      <div>\n",
              "<style scoped>\n",
              "    .dataframe tbody tr th:only-of-type {\n",
              "        vertical-align: middle;\n",
              "    }\n",
              "\n",
              "    .dataframe tbody tr th {\n",
              "        vertical-align: top;\n",
              "    }\n",
              "\n",
              "    .dataframe thead th {\n",
              "        text-align: right;\n",
              "    }\n",
              "</style>\n",
              "<table border=\"1\" class=\"dataframe\">\n",
              "  <thead>\n",
              "    <tr style=\"text-align: right;\">\n",
              "      <th></th>\n",
              "      <th></th>\n",
              "      <th>VOLTAGE</th>\n",
              "      <th>PARNO</th>\n",
              "      <th>XRHSH</th>\n",
              "      <th>CONTRACT_CAPACITY</th>\n",
              "      <th>ACCT_CONTROL</th>\n",
              "      <th>ACCT_WGS84_X</th>\n",
              "      <th>ACCT_WGS84_Y</th>\n",
              "      <th>TOTAL_SUPPLIER</th>\n",
              "      <th>LAST_SUPPLIER</th>\n",
              "      <th>SUPPLIER</th>\n",
              "      <th>START_DATE</th>\n",
              "      <th>END_DATE</th>\n",
              "      <th>TOTAL_MS_METER_NBR</th>\n",
              "      <th>target</th>\n",
              "    </tr>\n",
              "    <tr>\n",
              "      <th>ACCT_NBR</th>\n",
              "      <th>SUCCESSOR</th>\n",
              "      <th></th>\n",
              "      <th></th>\n",
              "      <th></th>\n",
              "      <th></th>\n",
              "      <th></th>\n",
              "      <th></th>\n",
              "      <th></th>\n",
              "      <th></th>\n",
              "      <th></th>\n",
              "      <th></th>\n",
              "      <th></th>\n",
              "      <th></th>\n",
              "      <th></th>\n",
              "      <th></th>\n",
              "    </tr>\n",
              "  </thead>\n",
              "  <tbody>\n",
              "    <tr>\n",
              "      <th rowspan=\"4\" valign=\"top\">000A31FE38C6F648845941B642E287FE0200000000004ADC937A091E96FC278134AA5A957C5DC3719045BF70F60E7BBC08C2EAC275F0E669E9DA12DDC242521A67C34603</th>\n",
              "      <th>1</th>\n",
              "      <td>0.0</td>\n",
              "      <td>0</td>\n",
              "      <td>2</td>\n",
              "      <td>12.0</td>\n",
              "      <td>0</td>\n",
              "      <td>53,422551543686701</td>\n",
              "      <td>19,592757873078753</td>\n",
              "      <td>1.0</td>\n",
              "      <td>23.0</td>\n",
              "      <td>Δ</td>\n",
              "      <td>434.0</td>\n",
              "      <td>925.0</td>\n",
              "      <td>1.0</td>\n",
              "      <td>0</td>\n",
              "    </tr>\n",
              "    <tr>\n",
              "      <th>1</th>\n",
              "      <td>0.0</td>\n",
              "      <td>0</td>\n",
              "      <td>2</td>\n",
              "      <td>12.0</td>\n",
              "      <td>0</td>\n",
              "      <td>53,422551543686701</td>\n",
              "      <td>19,592757873078753</td>\n",
              "      <td>1.0</td>\n",
              "      <td>23.0</td>\n",
              "      <td>Δ</td>\n",
              "      <td>434.0</td>\n",
              "      <td>925.0</td>\n",
              "      <td>1.0</td>\n",
              "      <td>0</td>\n",
              "    </tr>\n",
              "    <tr>\n",
              "      <th>1</th>\n",
              "      <td>0.0</td>\n",
              "      <td>0</td>\n",
              "      <td>2</td>\n",
              "      <td>12.0</td>\n",
              "      <td>0</td>\n",
              "      <td>53,422551543686701</td>\n",
              "      <td>19,592757873078753</td>\n",
              "      <td>1.0</td>\n",
              "      <td>23.0</td>\n",
              "      <td>Δ</td>\n",
              "      <td>434.0</td>\n",
              "      <td>925.0</td>\n",
              "      <td>1.0</td>\n",
              "      <td>0</td>\n",
              "    </tr>\n",
              "    <tr>\n",
              "      <th>1</th>\n",
              "      <td>0.0</td>\n",
              "      <td>0</td>\n",
              "      <td>2</td>\n",
              "      <td>12.0</td>\n",
              "      <td>0</td>\n",
              "      <td>53,422551543686701</td>\n",
              "      <td>19,592757873078753</td>\n",
              "      <td>1.0</td>\n",
              "      <td>23.0</td>\n",
              "      <td>Δ</td>\n",
              "      <td>434.0</td>\n",
              "      <td>925.0</td>\n",
              "      <td>1.0</td>\n",
              "      <td>0</td>\n",
              "    </tr>\n",
              "    <tr>\n",
              "      <th>000A31FE38C6F648845941B642E287FE0200000000008D3F160EBFD6AB4F42A9C12D32B9040BC182F649B304179696516630F3AC54BE7C2F7A85C8484FFF4A09FAA497AF</th>\n",
              "      <th>1</th>\n",
              "      <td>0.0</td>\n",
              "      <td>0</td>\n",
              "      <td>2</td>\n",
              "      <td>12.0</td>\n",
              "      <td>0</td>\n",
              "      <td>53,407108521588633</td>\n",
              "      <td>19,569743639932696</td>\n",
              "      <td>1.0</td>\n",
              "      <td>23.0</td>\n",
              "      <td>Δ</td>\n",
              "      <td>307.0</td>\n",
              "      <td>111.0</td>\n",
              "      <td>1.0</td>\n",
              "      <td>0</td>\n",
              "    </tr>\n",
              "  </tbody>\n",
              "</table>\n",
              "</div>\n",
              "      <button class=\"colab-df-convert\" onclick=\"convertToInteractive('df-0df52372-fab1-435c-812e-d61538dcf7f8')\"\n",
              "              title=\"Convert this dataframe to an interactive table.\"\n",
              "              style=\"display:none;\">\n",
              "        \n",
              "  <svg xmlns=\"http://www.w3.org/2000/svg\" height=\"24px\"viewBox=\"0 0 24 24\"\n",
              "       width=\"24px\">\n",
              "    <path d=\"M0 0h24v24H0V0z\" fill=\"none\"/>\n",
              "    <path d=\"M18.56 5.44l.94 2.06.94-2.06 2.06-.94-2.06-.94-.94-2.06-.94 2.06-2.06.94zm-11 1L8.5 8.5l.94-2.06 2.06-.94-2.06-.94L8.5 2.5l-.94 2.06-2.06.94zm10 10l.94 2.06.94-2.06 2.06-.94-2.06-.94-.94-2.06-.94 2.06-2.06.94z\"/><path d=\"M17.41 7.96l-1.37-1.37c-.4-.4-.92-.59-1.43-.59-.52 0-1.04.2-1.43.59L10.3 9.45l-7.72 7.72c-.78.78-.78 2.05 0 2.83L4 21.41c.39.39.9.59 1.41.59.51 0 1.02-.2 1.41-.59l7.78-7.78 2.81-2.81c.8-.78.8-2.07 0-2.86zM5.41 20L4 18.59l7.72-7.72 1.47 1.35L5.41 20z\"/>\n",
              "  </svg>\n",
              "      </button>\n",
              "      \n",
              "  <style>\n",
              "    .colab-df-container {\n",
              "      display:flex;\n",
              "      flex-wrap:wrap;\n",
              "      gap: 12px;\n",
              "    }\n",
              "\n",
              "    .colab-df-convert {\n",
              "      background-color: #E8F0FE;\n",
              "      border: none;\n",
              "      border-radius: 50%;\n",
              "      cursor: pointer;\n",
              "      display: none;\n",
              "      fill: #1967D2;\n",
              "      height: 32px;\n",
              "      padding: 0 0 0 0;\n",
              "      width: 32px;\n",
              "    }\n",
              "\n",
              "    .colab-df-convert:hover {\n",
              "      background-color: #E2EBFA;\n",
              "      box-shadow: 0px 1px 2px rgba(60, 64, 67, 0.3), 0px 1px 3px 1px rgba(60, 64, 67, 0.15);\n",
              "      fill: #174EA6;\n",
              "    }\n",
              "\n",
              "    [theme=dark] .colab-df-convert {\n",
              "      background-color: #3B4455;\n",
              "      fill: #D2E3FC;\n",
              "    }\n",
              "\n",
              "    [theme=dark] .colab-df-convert:hover {\n",
              "      background-color: #434B5C;\n",
              "      box-shadow: 0px 1px 3px 1px rgba(0, 0, 0, 0.15);\n",
              "      filter: drop-shadow(0px 1px 2px rgba(0, 0, 0, 0.3));\n",
              "      fill: #FFFFFF;\n",
              "    }\n",
              "  </style>\n",
              "\n",
              "      <script>\n",
              "        const buttonEl =\n",
              "          document.querySelector('#df-0df52372-fab1-435c-812e-d61538dcf7f8 button.colab-df-convert');\n",
              "        buttonEl.style.display =\n",
              "          google.colab.kernel.accessAllowed ? 'block' : 'none';\n",
              "\n",
              "        async function convertToInteractive(key) {\n",
              "          const element = document.querySelector('#df-0df52372-fab1-435c-812e-d61538dcf7f8');\n",
              "          const dataTable =\n",
              "            await google.colab.kernel.invokeFunction('convertToInteractive',\n",
              "                                                     [key], {});\n",
              "          if (!dataTable) return;\n",
              "\n",
              "          const docLinkHtml = 'Like what you see? Visit the ' +\n",
              "            '<a target=\"_blank\" href=https://colab.research.google.com/notebooks/data_table.ipynb>data table notebook</a>'\n",
              "            + ' to learn more about interactive tables.';\n",
              "          element.innerHTML = '';\n",
              "          dataTable['output_type'] = 'display_data';\n",
              "          await google.colab.output.renderOutput(dataTable, element);\n",
              "          const docLink = document.createElement('div');\n",
              "          docLink.innerHTML = docLinkHtml;\n",
              "          element.appendChild(docLink);\n",
              "        }\n",
              "      </script>\n",
              "    </div>\n",
              "  </div>\n",
              "  "
            ]
          },
          "metadata": {},
          "execution_count": 22
        }
      ],
      "source": [
        "train.head()"
      ]
    },
    {
      "cell_type": "code",
      "source": [
        "train.info()"
      ],
      "metadata": {
        "colab": {
          "base_uri": "https://localhost:8080/"
        },
        "id": "K0Zho-EVy_hu",
        "outputId": "251adfd5-c447-403a-dfbf-2a1c8bacb7e5"
      },
      "execution_count": 23,
      "outputs": [
        {
          "output_type": "stream",
          "name": "stdout",
          "text": [
            "<class 'pandas.core.frame.DataFrame'>\n",
            "MultiIndex: 9739534 entries, ('000A31FE38C6F648845941B642E287FE0200000000004ADC937A091E96FC278134AA5A957C5DC3719045BF70F60E7BBC08C2EAC275F0E669E9DA12DDC242521A67C34603', 1) to ('000A31FE38C6F648845941B642E287FE02000000FFFFD895A616413D8F12370B41DBDD161ADEBB39FE1746576860B8901C3B81BDDFE67C28A5CBD98CAE1E0BF1869C107E', 3)\n",
            "Data columns (total 14 columns):\n",
            " #   Column              Dtype  \n",
            "---  ------              -----  \n",
            " 0   VOLTAGE             float64\n",
            " 1   PARNO               int64  \n",
            " 2   XRHSH               int64  \n",
            " 3   CONTRACT_CAPACITY   float64\n",
            " 4   ACCT_CONTROL        int64  \n",
            " 5   ACCT_WGS84_X        object \n",
            " 6   ACCT_WGS84_Y        object \n",
            " 7   TOTAL_SUPPLIER      float64\n",
            " 8   LAST_SUPPLIER       float64\n",
            " 9   SUPPLIER            object \n",
            " 10  START_DATE          float64\n",
            " 11  END_DATE            float64\n",
            " 12  TOTAL_MS_METER_NBR  float64\n",
            " 13  target              int64  \n",
            "dtypes: float64(7), int64(4), object(3)\n",
            "memory usage: 1.1+ GB\n"
          ]
        }
      ]
    },
    {
      "cell_type": "code",
      "source": [
        "test.info()"
      ],
      "metadata": {
        "colab": {
          "base_uri": "https://localhost:8080/"
        },
        "id": "WVRkyHGD0BYT",
        "outputId": "2020a9b6-31a0-4870-b5dc-bdc3bbfe69a1"
      },
      "execution_count": 24,
      "outputs": [
        {
          "output_type": "stream",
          "name": "stdout",
          "text": [
            "<class 'pandas.core.frame.DataFrame'>\n",
            "MultiIndex: 787246 entries, ('000A31FE38C6F648845941B642E287FE0200000000006DA0F81C7B34516BCA84E6BCA0AA9B50D8259400B2DCE41040ABA5315450F7A570DBC66F778B3CD920C475F6EA9D', 1) to ('000A31FE38C6F648845941B642E287FE02000000FFFB878F35668F34C39359D0609390A7ADC27C79E9B34799A600C4C001C0F194FB08FF65BA537F37D24F775A9FBEA9EE', 1)\n",
            "Data columns (total 13 columns):\n",
            " #   Column              Non-Null Count   Dtype  \n",
            "---  ------              --------------   -----  \n",
            " 0   VOLTAGE             787246 non-null  float64\n",
            " 1   PARNO               787246 non-null  int64  \n",
            " 2   XRHSH               787246 non-null  int64  \n",
            " 3   CONTRACT_CAPACITY   787246 non-null  int64  \n",
            " 4   ACCT_CONTROL        787246 non-null  int64  \n",
            " 5   ACCT_WGS84_X        787246 non-null  object \n",
            " 6   ACCT_WGS84_Y        787246 non-null  object \n",
            " 7   TOTAL_SUPPLIER      787246 non-null  float64\n",
            " 8   LAST_SUPPLIER       787246 non-null  float64\n",
            " 9   SUPPLIER            787246 non-null  object \n",
            " 10  START_DATE          787246 non-null  float64\n",
            " 11  END_DATE            787246 non-null  float64\n",
            " 12  TOTAL_MS_METER_NBR  787246 non-null  float64\n",
            "dtypes: float64(6), int64(4), object(3)\n",
            "memory usage: 84.3+ MB\n"
          ]
        }
      ]
    },
    {
      "cell_type": "code",
      "execution_count": null,
      "metadata": {
        "id": "0TUfTdHWOe1v"
      },
      "outputs": [],
      "source": [
        "path = \"/content/drive/MyDrive/HEDNO/Edo_ola/train_data\"\n",
        "with open(path, 'w', encoding = 'utf-8-sig') as f:\n",
        "  train.to_csv(f)"
      ]
    },
    {
      "cell_type": "code",
      "execution_count": null,
      "metadata": {
        "id": "xYUbYN0MO6Fg"
      },
      "outputs": [],
      "source": [
        "path = \"/content/drive/MyDrive/HEDNO/Edo_ola/test_data\"\n",
        "with open(path, 'w', encoding = 'utf-8-sig') as f:\n",
        "  test.to_csv(f)"
      ]
    }
  ],
  "metadata": {
    "colab": {
      "collapsed_sections": [
        "hZgzZFYj9uql",
        "PDbFgTpW0qqu",
        "hheuQ5qbEJo4",
        "CcTaZb2BdUqh",
        "1wXB2kR2kCCG"
      ],
      "provenance": [],
      "include_colab_link": true
    },
    "kernelspec": {
      "display_name": "Python 3",
      "name": "python3"
    },
    "language_info": {
      "name": "python"
    }
  },
  "nbformat": 4,
  "nbformat_minor": 0
}