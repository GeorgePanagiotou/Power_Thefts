{
  "nbformat": 4,
  "nbformat_minor": 0,
  "metadata": {
    "colab": {
      "provenance": [],
      "authorship_tag": "ABX9TyOtjt1tFMSvZVPjjc5cep+A",
      "include_colab_link": true
    },
    "kernelspec": {
      "name": "python3",
      "display_name": "Python 3"
    },
    "language_info": {
      "name": "python"
    }
  },
  "cells": [
    {
      "cell_type": "markdown",
      "metadata": {
        "id": "view-in-github",
        "colab_type": "text"
      },
      "source": [
        "<a href=\"https://colab.research.google.com/github/ElenaNtm/power-thefts-investigation/blob/main/hedno_SQL(2).ipynb\" target=\"_parent\"><img src=\"https://colab.research.google.com/assets/colab-badge.svg\" alt=\"Open In Colab\"/></a>"
      ]
    },
    {
      "cell_type": "markdown",
      "metadata": {
        "id": "v2KY2O-n_rvN"
      },
      "source": [
        "# Libraries"
      ]
    },
    {
      "cell_type": "code",
      "execution_count": 1,
      "metadata": {
        "id": "4fC3Y5IH5JDN"
      },
      "outputs": [],
      "source": [
        "import pandas as pd \n",
        "import numpy as np\n",
        "import math\n",
        "import operator \n",
        "from datetime import datetime\n",
        "import seaborn as sns"
      ]
    },
    {
      "cell_type": "code",
      "execution_count": 2,
      "metadata": {
        "id": "L5dBuJpA5iZp",
        "colab": {
          "base_uri": "https://localhost:8080/"
        },
        "outputId": "e673505b-9bc0-47a0-d4c7-2a4b3aa7615f"
      },
      "outputs": [
        {
          "output_type": "stream",
          "name": "stdout",
          "text": [
            "Mounted at /content/drive\n"
          ]
        }
      ],
      "source": [
        "from google.colab import drive\n",
        "drive.mount('/content/drive')"
      ]
    },
    {
      "cell_type": "code",
      "execution_count": 3,
      "metadata": {
        "id": "0xyHbo3Xwmn1"
      },
      "outputs": [],
      "source": [
        "#from sklearn.metrics import confusion_matrix"
      ]
    },
    {
      "cell_type": "code",
      "execution_count": 4,
      "metadata": {
        "id": "-ImIJUZxbNLH"
      },
      "outputs": [],
      "source": [
        "#from sklearn.ensemble import HistGradientBoostingClassifier"
      ]
    },
    {
      "cell_type": "code",
      "execution_count": 5,
      "metadata": {
        "id": "wSYLIeNXw9NU"
      },
      "outputs": [],
      "source": [
        "#from sklearn.model_selection import train_test_split\n",
        "#import sklearn"
      ]
    },
    {
      "cell_type": "code",
      "execution_count": 6,
      "metadata": {
        "id": "Z8w1h9qVxHqo"
      },
      "outputs": [],
      "source": [
        "#from sklearn.preprocessing import OrdinalEncoder"
      ]
    },
    {
      "cell_type": "markdown",
      "metadata": {
        "id": "KTDKcmdQVRE6"
      },
      "source": [
        "!! Αν δεις και γεμιζει η RAΜ κανε επανεκκινηση χρονου εκτελεσης"
      ]
    },
    {
      "cell_type": "markdown",
      "metadata": {
        "id": "DFWRjCqA_vPK"
      },
      "source": [
        "# The Dataset"
      ]
    },
    {
      "cell_type": "markdown",
      "metadata": {
        "id": "TnZoOskfAL1e"
      },
      "source": [
        "## Powerthefts - Target Variable"
      ]
    },
    {
      "cell_type": "code",
      "execution_count": 7,
      "metadata": {
        "id": "Zh7qy1wz8khy"
      },
      "outputs": [],
      "source": [
        "path = \"/content/drive/MyDrive/HEDNO/PowerThefts_TRAIN.csv\"\n",
        "df_power_thefts = pd.read_csv(path, sep= ',')"
      ]
    },
    {
      "cell_type": "code",
      "execution_count": 8,
      "metadata": {
        "id": "xBTycnN73hRF"
      },
      "outputs": [],
      "source": [
        "df_power_thefts.drop(['Unnamed: 0.1','Unnamed: 0'], axis=1, inplace = True)"
      ]
    },
    {
      "cell_type": "markdown",
      "metadata": {
        "id": "4sMlIounAWLG"
      },
      "source": [
        "## Rest Train + Test"
      ]
    },
    {
      "cell_type": "markdown",
      "metadata": {
        "id": "ZV2s3okMBshw"
      },
      "source": [
        "###Records"
      ]
    },
    {
      "cell_type": "code",
      "execution_count": 9,
      "metadata": {
        "id": "Y4mhAQyH80eh"
      },
      "outputs": [],
      "source": [
        "path = \"/content/drive/MyDrive/HEDNO/Records_TRAIN.csv\"\n",
        "df_records_train = pd.read_csv(path, sep= '|')"
      ]
    },
    {
      "cell_type": "code",
      "execution_count": 10,
      "metadata": {
        "id": "DACsPhYa-oQj"
      },
      "outputs": [],
      "source": [
        "path = \"/content/drive/MyDrive/HEDNO/Records_TEST.csv\"\n",
        "df_records_test = pd.read_csv(path,sep='|')"
      ]
    },
    {
      "cell_type": "markdown",
      "metadata": {
        "id": "jX2mPPXOIQt-"
      },
      "source": [
        "###Representations"
      ]
    },
    {
      "cell_type": "code",
      "execution_count": 11,
      "metadata": {
        "id": "W0rpodLt9RF9"
      },
      "outputs": [],
      "source": [
        "path = \"/content/drive/MyDrive/HEDNO/Representations_TRAIN.csv\"\n",
        "df_representations_train = pd.read_csv(path, sep= '|')"
      ]
    },
    {
      "cell_type": "code",
      "execution_count": 12,
      "metadata": {
        "id": "PIK5pMjj-tfu"
      },
      "outputs": [],
      "source": [
        "path = \"/content/drive/MyDrive/HEDNO/Representations_TEST.csv\"\n",
        "df_representations_test = pd.read_csv(path, sep= '|')"
      ]
    },
    {
      "cell_type": "markdown",
      "metadata": {
        "id": "lOCZ6RXeIgdv"
      },
      "source": [
        "###Requests"
      ]
    },
    {
      "cell_type": "code",
      "execution_count": 13,
      "metadata": {
        "id": "AxqZiBJX9faU"
      },
      "outputs": [],
      "source": [
        "path = \"/content/drive/MyDrive/HEDNO/Requests_TRAIN.csv\"\n",
        "df_requests_train = pd.read_csv(path, sep= '|')"
      ]
    },
    {
      "cell_type": "code",
      "execution_count": 14,
      "metadata": {
        "id": "9r6MpAxW-xOQ"
      },
      "outputs": [],
      "source": [
        "path = \"/content/drive/MyDrive/HEDNO/Requests_TEST.csv\"\n",
        "df_requests_test = pd.read_csv(path, sep= '|')"
      ]
    },
    {
      "cell_type": "markdown",
      "metadata": {
        "id": "Jz6C2Vl3ItIf"
      },
      "source": [
        "###Consumptions"
      ]
    },
    {
      "cell_type": "code",
      "execution_count": 15,
      "metadata": {
        "id": "tISnJZdFSJa8"
      },
      "outputs": [],
      "source": [
        "path = \"/content/drive/MyDrive/HEDNO/Consumptions_TRAIN.csv\"\n",
        "df_consumptions_train = pd.read_csv(path, sep= '|')"
      ]
    },
    {
      "cell_type": "code",
      "execution_count": 16,
      "metadata": {
        "id": "chK_9bhx-3WW"
      },
      "outputs": [],
      "source": [
        "path = \"/content/drive/MyDrive/HEDNO/Consumptions_TEST.csv\"\n",
        "df_consumptions_test = pd.read_csv(path, sep= '|')"
      ]
    },
    {
      "cell_type": "markdown",
      "metadata": {
        "id": "VqYYXmsiNjuA"
      },
      "source": [
        "#SQL"
      ]
    },
    {
      "cell_type": "markdown",
      "metadata": {
        "id": "RYMLTe7eSYP0"
      },
      "source": [
        "##Representations:  group by ACCT_NBR & SUCCESSOR   order by HM/NIA ΕΝΑΡΞΗΣ  sum SUPPLIER and last SUPPLIER "
      ]
    },
    {
      "cell_type": "markdown",
      "metadata": {
        "id": "aWaL6EOKmpNl"
      },
      "source": [
        "SQL: \n",
        "SELECT ACCT_NBR, SUCCESSOR, \n",
        "    SUM(SUPPLIER) as TOTAL_SUPPLIER, \n",
        "    LAST_VALUE(SUPPLIER) OVER (PARTITION BY ACCT_NBR, SUCCESSOR ORDER BY START_DATE) as LAST_SUPPLIER\n",
        "FROM REPRESENTATIONS\n",
        "GROUP BY ACCT_NBR, SUCCESSOR\n",
        "ORDER BY START_DATE\n"
      ]
    },
    {
      "cell_type": "code",
      "execution_count": 17,
      "metadata": {
        "id": "41ORb0ikmXIv"
      },
      "outputs": [],
      "source": [
        "# Calculate the last supplier by account and successor\n",
        "last_supplier = df_representations_train.groupby(['ACCT_NBR', 'SUCCESSOR'])['SUPPLIER'].last().reset_index()\n",
        "last_supplier.columns = ['ACCT_NBR', 'SUCCESSOR', 'LAST_SUPPLIER']\n",
        "#last_supplier.head()"
      ]
    },
    {
      "cell_type": "code",
      "execution_count": 18,
      "metadata": {
        "id": "_bDW3T-Rl_8q"
      },
      "outputs": [],
      "source": [
        "#test\n",
        "last_supplier_test = df_representations_test.groupby(['ACCT_NBR', 'SUCCESSOR'])['SUPPLIER'].last().reset_index()\n",
        "last_supplier_test.columns = ['ACCT_NBR', 'SUCCESSOR', 'LAST_SUPPLIER']\n",
        "#last_supplier_test.head()"
      ]
    },
    {
      "cell_type": "code",
      "execution_count": 19,
      "metadata": {
        "id": "Ug36LilGmXSA"
      },
      "outputs": [],
      "source": [
        "# Calculate the total supplier \n",
        "total_supplier = df_representations_train.groupby(['ACCT_NBR', 'SUCCESSOR'])['SUPPLIER'].nunique().reset_index()\n",
        "total_supplier.columns = ['ACCT_NBR', 'SUCCESSOR', 'TOTAL_SUPPLIER']\n",
        "#total_supplier.head()"
      ]
    },
    {
      "cell_type": "code",
      "execution_count": 20,
      "metadata": {
        "id": "YXZK6pc0mKSK"
      },
      "outputs": [],
      "source": [
        "# test \n",
        "total_supplier_test = df_representations_test.groupby(['ACCT_NBR', 'SUCCESSOR'])['SUPPLIER'].nunique().reset_index()\n",
        "total_supplier_test.columns = ['ACCT_NBR', 'SUCCESSOR', 'TOTAL_SUPPLIER']\n",
        "#total_supplier_test.head()"
      ]
    },
    {
      "cell_type": "code",
      "execution_count": 21,
      "metadata": {
        "id": "qTx0e5J6njbT"
      },
      "outputs": [],
      "source": [
        "#merge\n",
        "result_rep = pd.merge(total_supplier, last_supplier, on=['ACCT_NBR', 'SUCCESSOR'])\n",
        "result_rep = pd.merge(result_rep, df_representations_train, on=['ACCT_NBR', 'SUCCESSOR'])\n",
        "#result_rep.head()"
      ]
    },
    {
      "cell_type": "code",
      "execution_count": 22,
      "metadata": {
        "id": "3h6wlr9amvXS"
      },
      "outputs": [],
      "source": [
        "#test\n",
        "result_rep_test = pd.merge(total_supplier_test, last_supplier_test, on=['ACCT_NBR', 'SUCCESSOR'])\n",
        "result_rep_test = pd.merge(result_rep_test, df_representations_test, on=['ACCT_NBR', 'SUCCESSOR'])\n",
        "#result_rep_test.head()"
      ]
    },
    {
      "cell_type": "code",
      "execution_count": 23,
      "metadata": {
        "id": "mghEPc11nEc4"
      },
      "outputs": [],
      "source": [
        "result_rep = result_rep.sort_values(by='START_DATE',  ascending= True)\n",
        "#result_rep.head()"
      ]
    },
    {
      "cell_type": "code",
      "execution_count": 24,
      "metadata": {
        "id": "OmvV8L_fnyFt",
        "colab": {
          "base_uri": "https://localhost:8080/",
          "height": 206
        },
        "outputId": "d908f370-a91c-4354-f8c3-93642076bb85"
      },
      "outputs": [
        {
          "output_type": "execute_result",
          "data": {
            "text/plain": [
              "                                                 ACCT_NBR  SUCCESSOR  \\\n",
              "500832  000A31FE38C6F648845941B642E287FE020000006838AE...          1   \n",
              "547413  000A31FE38C6F648845941B642E287FE0200000071BF15...          1   \n",
              "742733  000A31FE38C6F648845941B642E287FE020000009A4781...          1   \n",
              "430457  000A31FE38C6F648845941B642E287FE020000005957B0...          1   \n",
              "781795  000A31FE38C6F648845941B642E287FE02000000A271B6...          1   \n",
              "\n",
              "        TOTAL_SUPPLIER LAST_SUPPLIER SUPPLIER SUPPLIER_TO  START_DATE  \\\n",
              "500832               1             Δ        Δ         NaN  1199-11-22   \n",
              "547413               1             Δ        Δ         NaN  1199-12-08   \n",
              "742733               1             Δ        Δ           Κ  1983-12-31   \n",
              "430457               1             Δ        Δ           Κ  1983-12-31   \n",
              "781795               1             Δ        Δ         NaN  1983-12-31   \n",
              "\n",
              "          END_DATE  \n",
              "500832  2001-07-17  \n",
              "547413  2001-04-19  \n",
              "742733  2018-11-14  \n",
              "430457  2018-11-01  \n",
              "781795  2022-09-16  "
            ],
            "text/html": [
              "\n",
              "  <div id=\"df-585d658d-ae39-4382-9634-c7139aafd6b3\">\n",
              "    <div class=\"colab-df-container\">\n",
              "      <div>\n",
              "<style scoped>\n",
              "    .dataframe tbody tr th:only-of-type {\n",
              "        vertical-align: middle;\n",
              "    }\n",
              "\n",
              "    .dataframe tbody tr th {\n",
              "        vertical-align: top;\n",
              "    }\n",
              "\n",
              "    .dataframe thead th {\n",
              "        text-align: right;\n",
              "    }\n",
              "</style>\n",
              "<table border=\"1\" class=\"dataframe\">\n",
              "  <thead>\n",
              "    <tr style=\"text-align: right;\">\n",
              "      <th></th>\n",
              "      <th>ACCT_NBR</th>\n",
              "      <th>SUCCESSOR</th>\n",
              "      <th>TOTAL_SUPPLIER</th>\n",
              "      <th>LAST_SUPPLIER</th>\n",
              "      <th>SUPPLIER</th>\n",
              "      <th>SUPPLIER_TO</th>\n",
              "      <th>START_DATE</th>\n",
              "      <th>END_DATE</th>\n",
              "    </tr>\n",
              "  </thead>\n",
              "  <tbody>\n",
              "    <tr>\n",
              "      <th>500832</th>\n",
              "      <td>000A31FE38C6F648845941B642E287FE020000006838AE...</td>\n",
              "      <td>1</td>\n",
              "      <td>1</td>\n",
              "      <td>Δ</td>\n",
              "      <td>Δ</td>\n",
              "      <td>NaN</td>\n",
              "      <td>1199-11-22</td>\n",
              "      <td>2001-07-17</td>\n",
              "    </tr>\n",
              "    <tr>\n",
              "      <th>547413</th>\n",
              "      <td>000A31FE38C6F648845941B642E287FE0200000071BF15...</td>\n",
              "      <td>1</td>\n",
              "      <td>1</td>\n",
              "      <td>Δ</td>\n",
              "      <td>Δ</td>\n",
              "      <td>NaN</td>\n",
              "      <td>1199-12-08</td>\n",
              "      <td>2001-04-19</td>\n",
              "    </tr>\n",
              "    <tr>\n",
              "      <th>742733</th>\n",
              "      <td>000A31FE38C6F648845941B642E287FE020000009A4781...</td>\n",
              "      <td>1</td>\n",
              "      <td>1</td>\n",
              "      <td>Δ</td>\n",
              "      <td>Δ</td>\n",
              "      <td>Κ</td>\n",
              "      <td>1983-12-31</td>\n",
              "      <td>2018-11-14</td>\n",
              "    </tr>\n",
              "    <tr>\n",
              "      <th>430457</th>\n",
              "      <td>000A31FE38C6F648845941B642E287FE020000005957B0...</td>\n",
              "      <td>1</td>\n",
              "      <td>1</td>\n",
              "      <td>Δ</td>\n",
              "      <td>Δ</td>\n",
              "      <td>Κ</td>\n",
              "      <td>1983-12-31</td>\n",
              "      <td>2018-11-01</td>\n",
              "    </tr>\n",
              "    <tr>\n",
              "      <th>781795</th>\n",
              "      <td>000A31FE38C6F648845941B642E287FE02000000A271B6...</td>\n",
              "      <td>1</td>\n",
              "      <td>1</td>\n",
              "      <td>Δ</td>\n",
              "      <td>Δ</td>\n",
              "      <td>NaN</td>\n",
              "      <td>1983-12-31</td>\n",
              "      <td>2022-09-16</td>\n",
              "    </tr>\n",
              "  </tbody>\n",
              "</table>\n",
              "</div>\n",
              "      <button class=\"colab-df-convert\" onclick=\"convertToInteractive('df-585d658d-ae39-4382-9634-c7139aafd6b3')\"\n",
              "              title=\"Convert this dataframe to an interactive table.\"\n",
              "              style=\"display:none;\">\n",
              "        \n",
              "  <svg xmlns=\"http://www.w3.org/2000/svg\" height=\"24px\"viewBox=\"0 0 24 24\"\n",
              "       width=\"24px\">\n",
              "    <path d=\"M0 0h24v24H0V0z\" fill=\"none\"/>\n",
              "    <path d=\"M18.56 5.44l.94 2.06.94-2.06 2.06-.94-2.06-.94-.94-2.06-.94 2.06-2.06.94zm-11 1L8.5 8.5l.94-2.06 2.06-.94-2.06-.94L8.5 2.5l-.94 2.06-2.06.94zm10 10l.94 2.06.94-2.06 2.06-.94-2.06-.94-.94-2.06-.94 2.06-2.06.94z\"/><path d=\"M17.41 7.96l-1.37-1.37c-.4-.4-.92-.59-1.43-.59-.52 0-1.04.2-1.43.59L10.3 9.45l-7.72 7.72c-.78.78-.78 2.05 0 2.83L4 21.41c.39.39.9.59 1.41.59.51 0 1.02-.2 1.41-.59l7.78-7.78 2.81-2.81c.8-.78.8-2.07 0-2.86zM5.41 20L4 18.59l7.72-7.72 1.47 1.35L5.41 20z\"/>\n",
              "  </svg>\n",
              "      </button>\n",
              "      \n",
              "  <style>\n",
              "    .colab-df-container {\n",
              "      display:flex;\n",
              "      flex-wrap:wrap;\n",
              "      gap: 12px;\n",
              "    }\n",
              "\n",
              "    .colab-df-convert {\n",
              "      background-color: #E8F0FE;\n",
              "      border: none;\n",
              "      border-radius: 50%;\n",
              "      cursor: pointer;\n",
              "      display: none;\n",
              "      fill: #1967D2;\n",
              "      height: 32px;\n",
              "      padding: 0 0 0 0;\n",
              "      width: 32px;\n",
              "    }\n",
              "\n",
              "    .colab-df-convert:hover {\n",
              "      background-color: #E2EBFA;\n",
              "      box-shadow: 0px 1px 2px rgba(60, 64, 67, 0.3), 0px 1px 3px 1px rgba(60, 64, 67, 0.15);\n",
              "      fill: #174EA6;\n",
              "    }\n",
              "\n",
              "    [theme=dark] .colab-df-convert {\n",
              "      background-color: #3B4455;\n",
              "      fill: #D2E3FC;\n",
              "    }\n",
              "\n",
              "    [theme=dark] .colab-df-convert:hover {\n",
              "      background-color: #434B5C;\n",
              "      box-shadow: 0px 1px 3px 1px rgba(0, 0, 0, 0.15);\n",
              "      filter: drop-shadow(0px 1px 2px rgba(0, 0, 0, 0.3));\n",
              "      fill: #FFFFFF;\n",
              "    }\n",
              "  </style>\n",
              "\n",
              "      <script>\n",
              "        const buttonEl =\n",
              "          document.querySelector('#df-585d658d-ae39-4382-9634-c7139aafd6b3 button.colab-df-convert');\n",
              "        buttonEl.style.display =\n",
              "          google.colab.kernel.accessAllowed ? 'block' : 'none';\n",
              "\n",
              "        async function convertToInteractive(key) {\n",
              "          const element = document.querySelector('#df-585d658d-ae39-4382-9634-c7139aafd6b3');\n",
              "          const dataTable =\n",
              "            await google.colab.kernel.invokeFunction('convertToInteractive',\n",
              "                                                     [key], {});\n",
              "          if (!dataTable) return;\n",
              "\n",
              "          const docLinkHtml = 'Like what you see? Visit the ' +\n",
              "            '<a target=\"_blank\" href=https://colab.research.google.com/notebooks/data_table.ipynb>data table notebook</a>'\n",
              "            + ' to learn more about interactive tables.';\n",
              "          element.innerHTML = '';\n",
              "          dataTable['output_type'] = 'display_data';\n",
              "          await google.colab.output.renderOutput(dataTable, element);\n",
              "          const docLink = document.createElement('div');\n",
              "          docLink.innerHTML = docLinkHtml;\n",
              "          element.appendChild(docLink);\n",
              "        }\n",
              "      </script>\n",
              "    </div>\n",
              "  </div>\n",
              "  "
            ]
          },
          "metadata": {},
          "execution_count": 24
        }
      ],
      "source": [
        "result_rep.head()"
      ]
    },
    {
      "cell_type": "code",
      "execution_count": 25,
      "metadata": {
        "id": "QParwRNRnyjs",
        "colab": {
          "base_uri": "https://localhost:8080/",
          "height": 206
        },
        "outputId": "c4499555-ae6f-44d0-a38f-742e192718d8"
      },
      "outputs": [
        {
          "output_type": "execute_result",
          "data": {
            "text/plain": [
              "                                                 ACCT_NBR  SUCCESSOR  \\\n",
              "57898   000A31FE38C6F648845941B642E287FE020000006D291A...          1   \n",
              "117124  000A31FE38C6F648845941B642E287FE02000000DB9213...          1   \n",
              "26637   000A31FE38C6F648845941B642E287FE0200000031D089...          1   \n",
              "6587    000A31FE38C6F648845941B642E287FE020000000C2164...          1   \n",
              "41236   000A31FE38C6F648845941B642E287FE020000004D2BCB...          1   \n",
              "\n",
              "        TOTAL_SUPPLIER LAST_SUPPLIER SUPPLIER SUPPLIER_TO  START_DATE  \\\n",
              "57898                1             Δ        Δ           Δ  1983-12-31   \n",
              "117124               1             Δ        Δ         NaN  1984-01-01   \n",
              "26637                1             Δ        Δ           Κ  1984-01-01   \n",
              "6587                 1             Δ        Δ           Δ  1984-01-01   \n",
              "41236                1             Δ        Δ         NaN  1984-01-01   \n",
              "\n",
              "          END_DATE  \n",
              "57898   2017-02-28  \n",
              "117124  2022-09-16  \n",
              "26637   2019-11-15  \n",
              "6587    2017-05-29  \n",
              "41236   2022-09-16  "
            ],
            "text/html": [
              "\n",
              "  <div id=\"df-a595f1f6-b344-44a2-a75a-02d69e141ac1\">\n",
              "    <div class=\"colab-df-container\">\n",
              "      <div>\n",
              "<style scoped>\n",
              "    .dataframe tbody tr th:only-of-type {\n",
              "        vertical-align: middle;\n",
              "    }\n",
              "\n",
              "    .dataframe tbody tr th {\n",
              "        vertical-align: top;\n",
              "    }\n",
              "\n",
              "    .dataframe thead th {\n",
              "        text-align: right;\n",
              "    }\n",
              "</style>\n",
              "<table border=\"1\" class=\"dataframe\">\n",
              "  <thead>\n",
              "    <tr style=\"text-align: right;\">\n",
              "      <th></th>\n",
              "      <th>ACCT_NBR</th>\n",
              "      <th>SUCCESSOR</th>\n",
              "      <th>TOTAL_SUPPLIER</th>\n",
              "      <th>LAST_SUPPLIER</th>\n",
              "      <th>SUPPLIER</th>\n",
              "      <th>SUPPLIER_TO</th>\n",
              "      <th>START_DATE</th>\n",
              "      <th>END_DATE</th>\n",
              "    </tr>\n",
              "  </thead>\n",
              "  <tbody>\n",
              "    <tr>\n",
              "      <th>57898</th>\n",
              "      <td>000A31FE38C6F648845941B642E287FE020000006D291A...</td>\n",
              "      <td>1</td>\n",
              "      <td>1</td>\n",
              "      <td>Δ</td>\n",
              "      <td>Δ</td>\n",
              "      <td>Δ</td>\n",
              "      <td>1983-12-31</td>\n",
              "      <td>2017-02-28</td>\n",
              "    </tr>\n",
              "    <tr>\n",
              "      <th>117124</th>\n",
              "      <td>000A31FE38C6F648845941B642E287FE02000000DB9213...</td>\n",
              "      <td>1</td>\n",
              "      <td>1</td>\n",
              "      <td>Δ</td>\n",
              "      <td>Δ</td>\n",
              "      <td>NaN</td>\n",
              "      <td>1984-01-01</td>\n",
              "      <td>2022-09-16</td>\n",
              "    </tr>\n",
              "    <tr>\n",
              "      <th>26637</th>\n",
              "      <td>000A31FE38C6F648845941B642E287FE0200000031D089...</td>\n",
              "      <td>1</td>\n",
              "      <td>1</td>\n",
              "      <td>Δ</td>\n",
              "      <td>Δ</td>\n",
              "      <td>Κ</td>\n",
              "      <td>1984-01-01</td>\n",
              "      <td>2019-11-15</td>\n",
              "    </tr>\n",
              "    <tr>\n",
              "      <th>6587</th>\n",
              "      <td>000A31FE38C6F648845941B642E287FE020000000C2164...</td>\n",
              "      <td>1</td>\n",
              "      <td>1</td>\n",
              "      <td>Δ</td>\n",
              "      <td>Δ</td>\n",
              "      <td>Δ</td>\n",
              "      <td>1984-01-01</td>\n",
              "      <td>2017-05-29</td>\n",
              "    </tr>\n",
              "    <tr>\n",
              "      <th>41236</th>\n",
              "      <td>000A31FE38C6F648845941B642E287FE020000004D2BCB...</td>\n",
              "      <td>1</td>\n",
              "      <td>1</td>\n",
              "      <td>Δ</td>\n",
              "      <td>Δ</td>\n",
              "      <td>NaN</td>\n",
              "      <td>1984-01-01</td>\n",
              "      <td>2022-09-16</td>\n",
              "    </tr>\n",
              "  </tbody>\n",
              "</table>\n",
              "</div>\n",
              "      <button class=\"colab-df-convert\" onclick=\"convertToInteractive('df-a595f1f6-b344-44a2-a75a-02d69e141ac1')\"\n",
              "              title=\"Convert this dataframe to an interactive table.\"\n",
              "              style=\"display:none;\">\n",
              "        \n",
              "  <svg xmlns=\"http://www.w3.org/2000/svg\" height=\"24px\"viewBox=\"0 0 24 24\"\n",
              "       width=\"24px\">\n",
              "    <path d=\"M0 0h24v24H0V0z\" fill=\"none\"/>\n",
              "    <path d=\"M18.56 5.44l.94 2.06.94-2.06 2.06-.94-2.06-.94-.94-2.06-.94 2.06-2.06.94zm-11 1L8.5 8.5l.94-2.06 2.06-.94-2.06-.94L8.5 2.5l-.94 2.06-2.06.94zm10 10l.94 2.06.94-2.06 2.06-.94-2.06-.94-.94-2.06-.94 2.06-2.06.94z\"/><path d=\"M17.41 7.96l-1.37-1.37c-.4-.4-.92-.59-1.43-.59-.52 0-1.04.2-1.43.59L10.3 9.45l-7.72 7.72c-.78.78-.78 2.05 0 2.83L4 21.41c.39.39.9.59 1.41.59.51 0 1.02-.2 1.41-.59l7.78-7.78 2.81-2.81c.8-.78.8-2.07 0-2.86zM5.41 20L4 18.59l7.72-7.72 1.47 1.35L5.41 20z\"/>\n",
              "  </svg>\n",
              "      </button>\n",
              "      \n",
              "  <style>\n",
              "    .colab-df-container {\n",
              "      display:flex;\n",
              "      flex-wrap:wrap;\n",
              "      gap: 12px;\n",
              "    }\n",
              "\n",
              "    .colab-df-convert {\n",
              "      background-color: #E8F0FE;\n",
              "      border: none;\n",
              "      border-radius: 50%;\n",
              "      cursor: pointer;\n",
              "      display: none;\n",
              "      fill: #1967D2;\n",
              "      height: 32px;\n",
              "      padding: 0 0 0 0;\n",
              "      width: 32px;\n",
              "    }\n",
              "\n",
              "    .colab-df-convert:hover {\n",
              "      background-color: #E2EBFA;\n",
              "      box-shadow: 0px 1px 2px rgba(60, 64, 67, 0.3), 0px 1px 3px 1px rgba(60, 64, 67, 0.15);\n",
              "      fill: #174EA6;\n",
              "    }\n",
              "\n",
              "    [theme=dark] .colab-df-convert {\n",
              "      background-color: #3B4455;\n",
              "      fill: #D2E3FC;\n",
              "    }\n",
              "\n",
              "    [theme=dark] .colab-df-convert:hover {\n",
              "      background-color: #434B5C;\n",
              "      box-shadow: 0px 1px 3px 1px rgba(0, 0, 0, 0.15);\n",
              "      filter: drop-shadow(0px 1px 2px rgba(0, 0, 0, 0.3));\n",
              "      fill: #FFFFFF;\n",
              "    }\n",
              "  </style>\n",
              "\n",
              "      <script>\n",
              "        const buttonEl =\n",
              "          document.querySelector('#df-a595f1f6-b344-44a2-a75a-02d69e141ac1 button.colab-df-convert');\n",
              "        buttonEl.style.display =\n",
              "          google.colab.kernel.accessAllowed ? 'block' : 'none';\n",
              "\n",
              "        async function convertToInteractive(key) {\n",
              "          const element = document.querySelector('#df-a595f1f6-b344-44a2-a75a-02d69e141ac1');\n",
              "          const dataTable =\n",
              "            await google.colab.kernel.invokeFunction('convertToInteractive',\n",
              "                                                     [key], {});\n",
              "          if (!dataTable) return;\n",
              "\n",
              "          const docLinkHtml = 'Like what you see? Visit the ' +\n",
              "            '<a target=\"_blank\" href=https://colab.research.google.com/notebooks/data_table.ipynb>data table notebook</a>'\n",
              "            + ' to learn more about interactive tables.';\n",
              "          element.innerHTML = '';\n",
              "          dataTable['output_type'] = 'display_data';\n",
              "          await google.colab.output.renderOutput(dataTable, element);\n",
              "          const docLink = document.createElement('div');\n",
              "          docLink.innerHTML = docLinkHtml;\n",
              "          element.appendChild(docLink);\n",
              "        }\n",
              "      </script>\n",
              "    </div>\n",
              "  </div>\n",
              "  "
            ]
          },
          "metadata": {},
          "execution_count": 25
        }
      ],
      "source": [
        "#test\n",
        "result_rep_test = result_rep_test.sort_values(by='START_DATE',  ascending= True)\n",
        "result_rep_test.head()"
      ]
    },
    {
      "cell_type": "markdown",
      "metadata": {
        "id": "d0q-RFCCfRA-"
      },
      "source": [
        "get rid of the first 2 lines from train"
      ]
    },
    {
      "cell_type": "code",
      "execution_count": 26,
      "metadata": {
        "id": "Xsss961XfBmP"
      },
      "outputs": [],
      "source": [
        "result_rep = result_rep.iloc[2:]\n",
        "#result_rep.head()"
      ]
    },
    {
      "cell_type": "code",
      "execution_count": 27,
      "metadata": {
        "id": "SFyjlB_dXNhS"
      },
      "outputs": [],
      "source": [
        "path = \"/content/drive/MyDrive/HEDNO/Edo_ola/result_rep.csv\"\n",
        "with open(path, 'w', encoding = 'utf-8-sig') as f:\n",
        "  result_rep.to_csv(f)"
      ]
    },
    {
      "cell_type": "code",
      "execution_count": 28,
      "metadata": {
        "id": "iFFtkt4aXgey"
      },
      "outputs": [],
      "source": [
        "path = \"/content/drive/MyDrive/HEDNO/Edo_ola/result_rep_test.csv\"\n",
        "with open(path, 'w', encoding = 'utf-8-sig') as f:\n",
        "  result_rep_test.to_csv(f)"
      ]
    },
    {
      "cell_type": "markdown",
      "metadata": {
        "id": "pHVh5K9hgc8B"
      },
      "source": [
        "##Requests:  group by ACCT_NBR & SUCCESSOR order by REQUEST_DATE sum(REQUEST_TYPE)  and last REQUEST"
      ]
    },
    {
      "cell_type": "markdown",
      "metadata": {
        "id": "9YxoKcqqotat"
      },
      "source": [
        "SELECT ACCT_NBR, SUCCESSOR, \n",
        "    SUM(REQUEST_TYPE) as TOTAL_REQUEST_TYPE,\n",
        "    LAST_VALUE(REQUEST_TYPE) OVER (PARTITION BY ACCT_NBR, SUCCESSOR ORDER BY REQUEST_DATE) as LAST_REQUEST_TYPE\n",
        "FROM Requests\n",
        "GROUP BY ACCT_NBR, SUCCESSOR\n",
        "ORDER BY REQUEST_DATE"
      ]
    },
    {
      "cell_type": "code",
      "execution_count": 29,
      "metadata": {
        "id": "tLvExaKYpY3z"
      },
      "outputs": [],
      "source": [
        "# Calculate the total request type by account and successor\n",
        "#value_counts για total_requwst_type\n",
        "total_request_type = df_requests_train.groupby(['ACCT_NBR', 'SUCCESSOR'])['REQUEST_TYPE'].count().reset_index()\n",
        "total_request_type.columns = ['ACCT_NBR', 'SUCCESSOR', 'TOTAL_REQUEST_TYPE']\n",
        "#total_request_type.head()"
      ]
    },
    {
      "cell_type": "code",
      "execution_count": 30,
      "metadata": {
        "id": "HMicLs8xnZ7J"
      },
      "outputs": [],
      "source": [
        "# test\n",
        "total_request_type_test = df_requests_test.groupby(['ACCT_NBR', 'SUCCESSOR'])['REQUEST_TYPE'].count().reset_index()\n",
        "total_request_type_test.columns = ['ACCT_NBR', 'SUCCESSOR', 'TOTAL_REQUEST_TYPE']\n",
        "#total_request_type_test.head()"
      ]
    },
    {
      "cell_type": "code",
      "execution_count": 31,
      "metadata": {
        "id": "ONpvT7oWpY7v"
      },
      "outputs": [],
      "source": [
        "# Calculate the last request type by account and successor\n",
        "last_request_type = df_requests_train.groupby(['ACCT_NBR', 'SUCCESSOR'])['REQUEST_TYPE'].last().reset_index()\n",
        "last_request_type.columns = ['ACCT_NBR', 'SUCCESSOR', 'LAST_REQUEST_TYPE']\n",
        "#last_request_type.head()"
      ]
    },
    {
      "cell_type": "code",
      "execution_count": 32,
      "metadata": {
        "id": "e3mMoHX_nify"
      },
      "outputs": [],
      "source": [
        "# test\n",
        "last_request_type_test = df_requests_test.groupby(['ACCT_NBR', 'SUCCESSOR'])['REQUEST_TYPE'].last().reset_index()\n",
        "last_request_type_test.columns = ['ACCT_NBR', 'SUCCESSOR', 'LAST_REQUEST_TYPE']\n",
        "#last_request_type_test.head()"
      ]
    },
    {
      "cell_type": "code",
      "execution_count": 33,
      "metadata": {
        "id": "dEpc_ZeOpZBK"
      },
      "outputs": [],
      "source": [
        "#merge\n",
        "result_req = pd.merge(total_request_type, last_request_type, on=['ACCT_NBR', 'SUCCESSOR'])\n",
        "#result_req = pd.merge(result_req, df_requests_train, on=['ACCT_NBR', 'SUCCESSOR'])\n",
        "#result_req.head()"
      ]
    },
    {
      "cell_type": "code",
      "execution_count": 34,
      "metadata": {
        "id": "SMkJ_B7Xnp9f"
      },
      "outputs": [],
      "source": [
        "#test\n",
        "result_req_test = pd.merge(total_request_type_test, last_request_type_test, on=['ACCT_NBR', 'SUCCESSOR'])\n",
        "#result_req = pd.merge(result_req, df_requests_train, on=['ACCT_NBR', 'SUCCESSOR'])\n",
        "#result_req_test.head()"
      ]
    },
    {
      "cell_type": "code",
      "execution_count": 35,
      "metadata": {
        "id": "JhGUa5rIX9YA"
      },
      "outputs": [],
      "source": [
        "path = \"/content/drive/MyDrive/HEDNO/Edo_ola/result_req.csv\"\n",
        "with open(path, 'w', encoding = 'utf-8-sig') as f:\n",
        "  result_req.to_csv(f)"
      ]
    },
    {
      "cell_type": "code",
      "execution_count": 36,
      "metadata": {
        "id": "XQ_99zU7X9YB"
      },
      "outputs": [],
      "source": [
        "path = \"/content/drive/MyDrive/HEDNO/Edo_ola/result_req_test.csv\"\n",
        "with open(path, 'w', encoding = 'utf-8-sig') as f:\n",
        "  result_req_test.to_csv(f)"
      ]
    },
    {
      "cell_type": "markdown",
      "metadata": {
        "id": "SG0doX3gqNUv"
      },
      "source": [
        "##Consumptions group by ACCT_NBR & SUCCESSOR   order by MEASUREMENT_DATE  we want the last 50  CSS_MS_HS_USE (consumptions) and SUM MS_METER_NBR  (Did not work finding the last 50 consumptions due to size)\n"
      ]
    },
    {
      "cell_type": "markdown",
      "metadata": {
        "id": "OnyWOt52rNY-"
      },
      "source": [
        "SELECT ACCT_NBR, SUCCESSOR, SUM(MS_METER_NBR) as TOTAL_MS_METER_NBR\n",
        "FROM Consumptions\n",
        "GROUP BY ACCT_NBR, SUCCESSOR\n",
        "ORDER BY MEASUREMENT_DATE CSS_MS_HS_USE\n",
        "ORDER BY MEASUREMENT_DATE"
      ]
    },
    {
      "cell_type": "code",
      "execution_count": 37,
      "metadata": {
        "id": "GI2_qNxKpZGZ"
      },
      "outputs": [],
      "source": [
        "#Sort by MEASUREMENT_DATE\n",
        "#df_consumptions_train = df_consumptions_train.sort_values(by='MEASUREMENT_DATE', ascending=False)"
      ]
    },
    {
      "cell_type": "code",
      "execution_count": 38,
      "metadata": {
        "id": "AJqr9GWurgba"
      },
      "outputs": [],
      "source": [
        "#Group by ACCT_NBR, SUCCESSOR, and CSS_MS_HS_USE\n",
        "#grouped = df_consumptions_train.groupby(['ACCT_NBR', 'SUCCESSOR', 'CSS_MS_HS_USE'])"
      ]
    },
    {
      "cell_type": "code",
      "execution_count": 39,
      "metadata": {
        "id": "Pszb9tZNrgf7"
      },
      "outputs": [],
      "source": [
        "#new df with last 50 rows for each group\n",
        "#last_50 = grouped.apply(lambda x: x.head(50)).reset_index(drop=True)\n",
        "#αργεί πάααρα πολύ να φορτώσει"
      ]
    },
    {
      "cell_type": "code",
      "execution_count": 40,
      "metadata": {
        "id": "bBMHgUCGf58X"
      },
      "outputs": [],
      "source": [
        "#total MS_METER_NBR by ACCT_NBR and SUCCESSOR\n",
        "total_ms_meter_nbr = df_consumptions_train.groupby(['ACCT_NBR', 'SUCCESSOR'])['MS_METER_NBR'].nunique().reset_index()\n",
        "total_ms_meter_nbr.columns = ['ACCT_NBR', 'SUCCESSOR', 'TOTAL_MS_METER_NBR']\n",
        "#total_ms_meter_nbr.head()"
      ]
    },
    {
      "cell_type": "code",
      "execution_count": 41,
      "metadata": {
        "id": "7R2QRETdn7HC"
      },
      "outputs": [],
      "source": [
        "#test\n",
        "total_ms_meter_nbr_test = df_consumptions_test.groupby(['ACCT_NBR', 'SUCCESSOR'])['MS_METER_NBR'].nunique().reset_index()\n",
        "total_ms_meter_nbr_test.columns = ['ACCT_NBR', 'SUCCESSOR', 'TOTAL_MS_METER_NBR']\n",
        "#total_ms_meter_nbr_test.head()"
      ]
    },
    {
      "cell_type": "code",
      "execution_count": 42,
      "metadata": {
        "id": "2nei-cwC2eS2"
      },
      "outputs": [],
      "source": [
        "total_ms_meter_nbr=pd.merge(total_ms_meter_nbr,df_consumptions_train, on=['ACCT_NBR','SUCCESSOR'], how='left')\n",
        "#total_ms_meter_nbr.head()"
      ]
    },
    {
      "cell_type": "code",
      "execution_count": 43,
      "metadata": {
        "id": "RBW6F_M4oD5L"
      },
      "outputs": [],
      "source": [
        "#test\n",
        "total_ms_meter_nbr_test = pd.merge(total_ms_meter_nbr_test,df_consumptions_test, on=['ACCT_NBR','SUCCESSOR'], how='left')\n",
        "#total_ms_meter_nbr_test.head()"
      ]
    },
    {
      "cell_type": "code",
      "execution_count": 44,
      "metadata": {
        "colab": {
          "base_uri": "https://localhost:8080/",
          "height": 0
        },
        "id": "-o02AnRShMnX",
        "outputId": "c7f6f769-709f-445f-eb31-40b4712e3731"
      },
      "outputs": [
        {
          "output_type": "execute_result",
          "data": {
            "text/plain": [
              "                                                  ACCT_NBR  SUCCESSOR  \\\n",
              "0        000A31FE38C6F648845941B642E287FE0200000000004A...          1   \n",
              "1        000A31FE38C6F648845941B642E287FE0200000000004A...          1   \n",
              "2        000A31FE38C6F648845941B642E287FE0200000000004A...          1   \n",
              "3        000A31FE38C6F648845941B642E287FE0200000000004A...          1   \n",
              "4        000A31FE38C6F648845941B642E287FE0200000000004A...          2   \n",
              "...                                                    ...        ...   \n",
              "9201389  000A31FE38C6F648845941B642E287FE02000000FFFFD8...          3   \n",
              "9201390  000A31FE38C6F648845941B642E287FE02000000FFFFEB...          1   \n",
              "9201391  000A31FE38C6F648845941B642E287FE02000000FFFFEB...          1   \n",
              "9201392  000A31FE38C6F648845941B642E287FE02000000FFFFEB...          1   \n",
              "9201393  000A31FE38C6F648845941B642E287FE02000000FFFFEB...          1   \n",
              "\n",
              "         TOTAL_MS_METER_NBR BS_RATE MEASUREMENT_DATE  \n",
              "0                         1      21       2018-11-30  \n",
              "1                         1      21       2018-03-30  \n",
              "2                         1      21       2019-12-02  \n",
              "3                         1      21       2020-07-02  \n",
              "4                         2      21       2020-09-17  \n",
              "...                     ...     ...              ...  \n",
              "9201389                   2      13       2021-10-04  \n",
              "9201390                   2      22       2022-05-23  \n",
              "9201391                   2      11       2022-06-30  \n",
              "9201392                   2      11       2022-05-23  \n",
              "9201393                   2      11       2022-09-14  \n",
              "\n",
              "[9201394 rows x 5 columns]"
            ],
            "text/html": [
              "\n",
              "  <div id=\"df-f73ab312-9e48-4936-a638-38195676c0a4\">\n",
              "    <div class=\"colab-df-container\">\n",
              "      <div>\n",
              "<style scoped>\n",
              "    .dataframe tbody tr th:only-of-type {\n",
              "        vertical-align: middle;\n",
              "    }\n",
              "\n",
              "    .dataframe tbody tr th {\n",
              "        vertical-align: top;\n",
              "    }\n",
              "\n",
              "    .dataframe thead th {\n",
              "        text-align: right;\n",
              "    }\n",
              "</style>\n",
              "<table border=\"1\" class=\"dataframe\">\n",
              "  <thead>\n",
              "    <tr style=\"text-align: right;\">\n",
              "      <th></th>\n",
              "      <th>ACCT_NBR</th>\n",
              "      <th>SUCCESSOR</th>\n",
              "      <th>TOTAL_MS_METER_NBR</th>\n",
              "      <th>BS_RATE</th>\n",
              "      <th>MEASUREMENT_DATE</th>\n",
              "    </tr>\n",
              "  </thead>\n",
              "  <tbody>\n",
              "    <tr>\n",
              "      <th>0</th>\n",
              "      <td>000A31FE38C6F648845941B642E287FE0200000000004A...</td>\n",
              "      <td>1</td>\n",
              "      <td>1</td>\n",
              "      <td>21</td>\n",
              "      <td>2018-11-30</td>\n",
              "    </tr>\n",
              "    <tr>\n",
              "      <th>1</th>\n",
              "      <td>000A31FE38C6F648845941B642E287FE0200000000004A...</td>\n",
              "      <td>1</td>\n",
              "      <td>1</td>\n",
              "      <td>21</td>\n",
              "      <td>2018-03-30</td>\n",
              "    </tr>\n",
              "    <tr>\n",
              "      <th>2</th>\n",
              "      <td>000A31FE38C6F648845941B642E287FE0200000000004A...</td>\n",
              "      <td>1</td>\n",
              "      <td>1</td>\n",
              "      <td>21</td>\n",
              "      <td>2019-12-02</td>\n",
              "    </tr>\n",
              "    <tr>\n",
              "      <th>3</th>\n",
              "      <td>000A31FE38C6F648845941B642E287FE0200000000004A...</td>\n",
              "      <td>1</td>\n",
              "      <td>1</td>\n",
              "      <td>21</td>\n",
              "      <td>2020-07-02</td>\n",
              "    </tr>\n",
              "    <tr>\n",
              "      <th>4</th>\n",
              "      <td>000A31FE38C6F648845941B642E287FE0200000000004A...</td>\n",
              "      <td>2</td>\n",
              "      <td>2</td>\n",
              "      <td>21</td>\n",
              "      <td>2020-09-17</td>\n",
              "    </tr>\n",
              "    <tr>\n",
              "      <th>...</th>\n",
              "      <td>...</td>\n",
              "      <td>...</td>\n",
              "      <td>...</td>\n",
              "      <td>...</td>\n",
              "      <td>...</td>\n",
              "    </tr>\n",
              "    <tr>\n",
              "      <th>9201389</th>\n",
              "      <td>000A31FE38C6F648845941B642E287FE02000000FFFFD8...</td>\n",
              "      <td>3</td>\n",
              "      <td>2</td>\n",
              "      <td>13</td>\n",
              "      <td>2021-10-04</td>\n",
              "    </tr>\n",
              "    <tr>\n",
              "      <th>9201390</th>\n",
              "      <td>000A31FE38C6F648845941B642E287FE02000000FFFFEB...</td>\n",
              "      <td>1</td>\n",
              "      <td>2</td>\n",
              "      <td>22</td>\n",
              "      <td>2022-05-23</td>\n",
              "    </tr>\n",
              "    <tr>\n",
              "      <th>9201391</th>\n",
              "      <td>000A31FE38C6F648845941B642E287FE02000000FFFFEB...</td>\n",
              "      <td>1</td>\n",
              "      <td>2</td>\n",
              "      <td>11</td>\n",
              "      <td>2022-06-30</td>\n",
              "    </tr>\n",
              "    <tr>\n",
              "      <th>9201392</th>\n",
              "      <td>000A31FE38C6F648845941B642E287FE02000000FFFFEB...</td>\n",
              "      <td>1</td>\n",
              "      <td>2</td>\n",
              "      <td>11</td>\n",
              "      <td>2022-05-23</td>\n",
              "    </tr>\n",
              "    <tr>\n",
              "      <th>9201393</th>\n",
              "      <td>000A31FE38C6F648845941B642E287FE02000000FFFFEB...</td>\n",
              "      <td>1</td>\n",
              "      <td>2</td>\n",
              "      <td>11</td>\n",
              "      <td>2022-09-14</td>\n",
              "    </tr>\n",
              "  </tbody>\n",
              "</table>\n",
              "<p>9201394 rows × 5 columns</p>\n",
              "</div>\n",
              "      <button class=\"colab-df-convert\" onclick=\"convertToInteractive('df-f73ab312-9e48-4936-a638-38195676c0a4')\"\n",
              "              title=\"Convert this dataframe to an interactive table.\"\n",
              "              style=\"display:none;\">\n",
              "        \n",
              "  <svg xmlns=\"http://www.w3.org/2000/svg\" height=\"24px\"viewBox=\"0 0 24 24\"\n",
              "       width=\"24px\">\n",
              "    <path d=\"M0 0h24v24H0V0z\" fill=\"none\"/>\n",
              "    <path d=\"M18.56 5.44l.94 2.06.94-2.06 2.06-.94-2.06-.94-.94-2.06-.94 2.06-2.06.94zm-11 1L8.5 8.5l.94-2.06 2.06-.94-2.06-.94L8.5 2.5l-.94 2.06-2.06.94zm10 10l.94 2.06.94-2.06 2.06-.94-2.06-.94-.94-2.06-.94 2.06-2.06.94z\"/><path d=\"M17.41 7.96l-1.37-1.37c-.4-.4-.92-.59-1.43-.59-.52 0-1.04.2-1.43.59L10.3 9.45l-7.72 7.72c-.78.78-.78 2.05 0 2.83L4 21.41c.39.39.9.59 1.41.59.51 0 1.02-.2 1.41-.59l7.78-7.78 2.81-2.81c.8-.78.8-2.07 0-2.86zM5.41 20L4 18.59l7.72-7.72 1.47 1.35L5.41 20z\"/>\n",
              "  </svg>\n",
              "      </button>\n",
              "      \n",
              "  <style>\n",
              "    .colab-df-container {\n",
              "      display:flex;\n",
              "      flex-wrap:wrap;\n",
              "      gap: 12px;\n",
              "    }\n",
              "\n",
              "    .colab-df-convert {\n",
              "      background-color: #E8F0FE;\n",
              "      border: none;\n",
              "      border-radius: 50%;\n",
              "      cursor: pointer;\n",
              "      display: none;\n",
              "      fill: #1967D2;\n",
              "      height: 32px;\n",
              "      padding: 0 0 0 0;\n",
              "      width: 32px;\n",
              "    }\n",
              "\n",
              "    .colab-df-convert:hover {\n",
              "      background-color: #E2EBFA;\n",
              "      box-shadow: 0px 1px 2px rgba(60, 64, 67, 0.3), 0px 1px 3px 1px rgba(60, 64, 67, 0.15);\n",
              "      fill: #174EA6;\n",
              "    }\n",
              "\n",
              "    [theme=dark] .colab-df-convert {\n",
              "      background-color: #3B4455;\n",
              "      fill: #D2E3FC;\n",
              "    }\n",
              "\n",
              "    [theme=dark] .colab-df-convert:hover {\n",
              "      background-color: #434B5C;\n",
              "      box-shadow: 0px 1px 3px 1px rgba(0, 0, 0, 0.15);\n",
              "      filter: drop-shadow(0px 1px 2px rgba(0, 0, 0, 0.3));\n",
              "      fill: #FFFFFF;\n",
              "    }\n",
              "  </style>\n",
              "\n",
              "      <script>\n",
              "        const buttonEl =\n",
              "          document.querySelector('#df-f73ab312-9e48-4936-a638-38195676c0a4 button.colab-df-convert');\n",
              "        buttonEl.style.display =\n",
              "          google.colab.kernel.accessAllowed ? 'block' : 'none';\n",
              "\n",
              "        async function convertToInteractive(key) {\n",
              "          const element = document.querySelector('#df-f73ab312-9e48-4936-a638-38195676c0a4');\n",
              "          const dataTable =\n",
              "            await google.colab.kernel.invokeFunction('convertToInteractive',\n",
              "                                                     [key], {});\n",
              "          if (!dataTable) return;\n",
              "\n",
              "          const docLinkHtml = 'Like what you see? Visit the ' +\n",
              "            '<a target=\"_blank\" href=https://colab.research.google.com/notebooks/data_table.ipynb>data table notebook</a>'\n",
              "            + ' to learn more about interactive tables.';\n",
              "          element.innerHTML = '';\n",
              "          dataTable['output_type'] = 'display_data';\n",
              "          await google.colab.output.renderOutput(dataTable, element);\n",
              "          const docLink = document.createElement('div');\n",
              "          docLink.innerHTML = docLinkHtml;\n",
              "          element.appendChild(docLink);\n",
              "        }\n",
              "      </script>\n",
              "    </div>\n",
              "  </div>\n",
              "  "
            ]
          },
          "metadata": {},
          "execution_count": 44
        }
      ],
      "source": [
        "total_ms_meter_nbr.drop(['MS_METER_NBR', 'CSS_MS_HS_USE'], axis=1)"
      ]
    },
    {
      "cell_type": "code",
      "execution_count": 45,
      "metadata": {
        "colab": {
          "base_uri": "https://localhost:8080/",
          "height": 0
        },
        "id": "PQBDmJ85oNwJ",
        "outputId": "a37d09b5-83d7-4bc0-bd04-b8357c304484"
      },
      "outputs": [
        {
          "output_type": "execute_result",
          "data": {
            "text/plain": [
              "                                                 ACCT_NBR  SUCCESSOR  \\\n",
              "0       000A31FE38C6F648845941B642E287FE0200000000006D...          1   \n",
              "1       000A31FE38C6F648845941B642E287FE0200000000006D...          1   \n",
              "2       000A31FE38C6F648845941B642E287FE0200000000006D...          1   \n",
              "3       000A31FE38C6F648845941B642E287FE0200000000006D...          1   \n",
              "4       000A31FE38C6F648845941B642E287FE0200000000006D...          1   \n",
              "...                                                   ...        ...   \n",
              "718163  000A31FE38C6F648845941B642E287FE02000000FFFD63...          2   \n",
              "718164  000A31FE38C6F648845941B642E287FE02000000FFFD63...          2   \n",
              "718165  000A31FE38C6F648845941B642E287FE02000000FFFD63...          2   \n",
              "718166  000A31FE38C6F648845941B642E287FE02000000FFFD63...          2   \n",
              "718167  000A31FE38C6F648845941B642E287FE02000000FFFD63...          2   \n",
              "\n",
              "        TOTAL_MS_METER_NBR  BS_RATE MEASUREMENT_DATE  \n",
              "0                        1       10       2019-10-02  \n",
              "1                        1       10       2019-02-01  \n",
              "2                        1       10       2020-10-05  \n",
              "3                        1       10       2021-03-08  \n",
              "4                        1       10       2021-02-05  \n",
              "...                    ...      ...              ...  \n",
              "718163                   1       10       2021-12-20  \n",
              "718164                   1       10       2021-10-11  \n",
              "718165                   1       10       2018-04-17  \n",
              "718166                   1       10       2020-10-12  \n",
              "718167                   1       10       2018-08-20  \n",
              "\n",
              "[718168 rows x 5 columns]"
            ],
            "text/html": [
              "\n",
              "  <div id=\"df-1d7f4324-ad1c-4787-9636-b171b214f438\">\n",
              "    <div class=\"colab-df-container\">\n",
              "      <div>\n",
              "<style scoped>\n",
              "    .dataframe tbody tr th:only-of-type {\n",
              "        vertical-align: middle;\n",
              "    }\n",
              "\n",
              "    .dataframe tbody tr th {\n",
              "        vertical-align: top;\n",
              "    }\n",
              "\n",
              "    .dataframe thead th {\n",
              "        text-align: right;\n",
              "    }\n",
              "</style>\n",
              "<table border=\"1\" class=\"dataframe\">\n",
              "  <thead>\n",
              "    <tr style=\"text-align: right;\">\n",
              "      <th></th>\n",
              "      <th>ACCT_NBR</th>\n",
              "      <th>SUCCESSOR</th>\n",
              "      <th>TOTAL_MS_METER_NBR</th>\n",
              "      <th>BS_RATE</th>\n",
              "      <th>MEASUREMENT_DATE</th>\n",
              "    </tr>\n",
              "  </thead>\n",
              "  <tbody>\n",
              "    <tr>\n",
              "      <th>0</th>\n",
              "      <td>000A31FE38C6F648845941B642E287FE0200000000006D...</td>\n",
              "      <td>1</td>\n",
              "      <td>1</td>\n",
              "      <td>10</td>\n",
              "      <td>2019-10-02</td>\n",
              "    </tr>\n",
              "    <tr>\n",
              "      <th>1</th>\n",
              "      <td>000A31FE38C6F648845941B642E287FE0200000000006D...</td>\n",
              "      <td>1</td>\n",
              "      <td>1</td>\n",
              "      <td>10</td>\n",
              "      <td>2019-02-01</td>\n",
              "    </tr>\n",
              "    <tr>\n",
              "      <th>2</th>\n",
              "      <td>000A31FE38C6F648845941B642E287FE0200000000006D...</td>\n",
              "      <td>1</td>\n",
              "      <td>1</td>\n",
              "      <td>10</td>\n",
              "      <td>2020-10-05</td>\n",
              "    </tr>\n",
              "    <tr>\n",
              "      <th>3</th>\n",
              "      <td>000A31FE38C6F648845941B642E287FE0200000000006D...</td>\n",
              "      <td>1</td>\n",
              "      <td>1</td>\n",
              "      <td>10</td>\n",
              "      <td>2021-03-08</td>\n",
              "    </tr>\n",
              "    <tr>\n",
              "      <th>4</th>\n",
              "      <td>000A31FE38C6F648845941B642E287FE0200000000006D...</td>\n",
              "      <td>1</td>\n",
              "      <td>1</td>\n",
              "      <td>10</td>\n",
              "      <td>2021-02-05</td>\n",
              "    </tr>\n",
              "    <tr>\n",
              "      <th>...</th>\n",
              "      <td>...</td>\n",
              "      <td>...</td>\n",
              "      <td>...</td>\n",
              "      <td>...</td>\n",
              "      <td>...</td>\n",
              "    </tr>\n",
              "    <tr>\n",
              "      <th>718163</th>\n",
              "      <td>000A31FE38C6F648845941B642E287FE02000000FFFD63...</td>\n",
              "      <td>2</td>\n",
              "      <td>1</td>\n",
              "      <td>10</td>\n",
              "      <td>2021-12-20</td>\n",
              "    </tr>\n",
              "    <tr>\n",
              "      <th>718164</th>\n",
              "      <td>000A31FE38C6F648845941B642E287FE02000000FFFD63...</td>\n",
              "      <td>2</td>\n",
              "      <td>1</td>\n",
              "      <td>10</td>\n",
              "      <td>2021-10-11</td>\n",
              "    </tr>\n",
              "    <tr>\n",
              "      <th>718165</th>\n",
              "      <td>000A31FE38C6F648845941B642E287FE02000000FFFD63...</td>\n",
              "      <td>2</td>\n",
              "      <td>1</td>\n",
              "      <td>10</td>\n",
              "      <td>2018-04-17</td>\n",
              "    </tr>\n",
              "    <tr>\n",
              "      <th>718166</th>\n",
              "      <td>000A31FE38C6F648845941B642E287FE02000000FFFD63...</td>\n",
              "      <td>2</td>\n",
              "      <td>1</td>\n",
              "      <td>10</td>\n",
              "      <td>2020-10-12</td>\n",
              "    </tr>\n",
              "    <tr>\n",
              "      <th>718167</th>\n",
              "      <td>000A31FE38C6F648845941B642E287FE02000000FFFD63...</td>\n",
              "      <td>2</td>\n",
              "      <td>1</td>\n",
              "      <td>10</td>\n",
              "      <td>2018-08-20</td>\n",
              "    </tr>\n",
              "  </tbody>\n",
              "</table>\n",
              "<p>718168 rows × 5 columns</p>\n",
              "</div>\n",
              "      <button class=\"colab-df-convert\" onclick=\"convertToInteractive('df-1d7f4324-ad1c-4787-9636-b171b214f438')\"\n",
              "              title=\"Convert this dataframe to an interactive table.\"\n",
              "              style=\"display:none;\">\n",
              "        \n",
              "  <svg xmlns=\"http://www.w3.org/2000/svg\" height=\"24px\"viewBox=\"0 0 24 24\"\n",
              "       width=\"24px\">\n",
              "    <path d=\"M0 0h24v24H0V0z\" fill=\"none\"/>\n",
              "    <path d=\"M18.56 5.44l.94 2.06.94-2.06 2.06-.94-2.06-.94-.94-2.06-.94 2.06-2.06.94zm-11 1L8.5 8.5l.94-2.06 2.06-.94-2.06-.94L8.5 2.5l-.94 2.06-2.06.94zm10 10l.94 2.06.94-2.06 2.06-.94-2.06-.94-.94-2.06-.94 2.06-2.06.94z\"/><path d=\"M17.41 7.96l-1.37-1.37c-.4-.4-.92-.59-1.43-.59-.52 0-1.04.2-1.43.59L10.3 9.45l-7.72 7.72c-.78.78-.78 2.05 0 2.83L4 21.41c.39.39.9.59 1.41.59.51 0 1.02-.2 1.41-.59l7.78-7.78 2.81-2.81c.8-.78.8-2.07 0-2.86zM5.41 20L4 18.59l7.72-7.72 1.47 1.35L5.41 20z\"/>\n",
              "  </svg>\n",
              "      </button>\n",
              "      \n",
              "  <style>\n",
              "    .colab-df-container {\n",
              "      display:flex;\n",
              "      flex-wrap:wrap;\n",
              "      gap: 12px;\n",
              "    }\n",
              "\n",
              "    .colab-df-convert {\n",
              "      background-color: #E8F0FE;\n",
              "      border: none;\n",
              "      border-radius: 50%;\n",
              "      cursor: pointer;\n",
              "      display: none;\n",
              "      fill: #1967D2;\n",
              "      height: 32px;\n",
              "      padding: 0 0 0 0;\n",
              "      width: 32px;\n",
              "    }\n",
              "\n",
              "    .colab-df-convert:hover {\n",
              "      background-color: #E2EBFA;\n",
              "      box-shadow: 0px 1px 2px rgba(60, 64, 67, 0.3), 0px 1px 3px 1px rgba(60, 64, 67, 0.15);\n",
              "      fill: #174EA6;\n",
              "    }\n",
              "\n",
              "    [theme=dark] .colab-df-convert {\n",
              "      background-color: #3B4455;\n",
              "      fill: #D2E3FC;\n",
              "    }\n",
              "\n",
              "    [theme=dark] .colab-df-convert:hover {\n",
              "      background-color: #434B5C;\n",
              "      box-shadow: 0px 1px 3px 1px rgba(0, 0, 0, 0.15);\n",
              "      filter: drop-shadow(0px 1px 2px rgba(0, 0, 0, 0.3));\n",
              "      fill: #FFFFFF;\n",
              "    }\n",
              "  </style>\n",
              "\n",
              "      <script>\n",
              "        const buttonEl =\n",
              "          document.querySelector('#df-1d7f4324-ad1c-4787-9636-b171b214f438 button.colab-df-convert');\n",
              "        buttonEl.style.display =\n",
              "          google.colab.kernel.accessAllowed ? 'block' : 'none';\n",
              "\n",
              "        async function convertToInteractive(key) {\n",
              "          const element = document.querySelector('#df-1d7f4324-ad1c-4787-9636-b171b214f438');\n",
              "          const dataTable =\n",
              "            await google.colab.kernel.invokeFunction('convertToInteractive',\n",
              "                                                     [key], {});\n",
              "          if (!dataTable) return;\n",
              "\n",
              "          const docLinkHtml = 'Like what you see? Visit the ' +\n",
              "            '<a target=\"_blank\" href=https://colab.research.google.com/notebooks/data_table.ipynb>data table notebook</a>'\n",
              "            + ' to learn more about interactive tables.';\n",
              "          element.innerHTML = '';\n",
              "          dataTable['output_type'] = 'display_data';\n",
              "          await google.colab.output.renderOutput(dataTable, element);\n",
              "          const docLink = document.createElement('div');\n",
              "          docLink.innerHTML = docLinkHtml;\n",
              "          element.appendChild(docLink);\n",
              "        }\n",
              "      </script>\n",
              "    </div>\n",
              "  </div>\n",
              "  "
            ]
          },
          "metadata": {},
          "execution_count": 45
        }
      ],
      "source": [
        "total_ms_meter_nbr_test.drop(['MS_METER_NBR', 'CSS_MS_HS_USE'], axis=1)"
      ]
    },
    {
      "cell_type": "code",
      "execution_count": 46,
      "metadata": {
        "id": "5F5G49mnvgor"
      },
      "outputs": [],
      "source": [
        "# Sort by MEASUREMENT_DATE\n",
        "result_con = total_ms_meter_nbr.sort_values(by='MEASUREMENT_DATE' , ascending= True)\n",
        "#result_con.head()"
      ]
    },
    {
      "cell_type": "code",
      "execution_count": 47,
      "metadata": {
        "id": "j1JUSWysoQ2j"
      },
      "outputs": [],
      "source": [
        "# test\n",
        "result_con_test = total_ms_meter_nbr_test.sort_values(by='MEASUREMENT_DATE' , ascending= True)\n",
        "#result_con_test.head()"
      ]
    },
    {
      "cell_type": "code",
      "execution_count": 48,
      "metadata": {
        "id": "soV8rfnHYJ87"
      },
      "outputs": [],
      "source": [
        "path = \"/content/drive/MyDrive/HEDNO/Edo_ola/result_con.csv\"\n",
        "with open(path, 'w', encoding = 'utf-8-sig') as f:\n",
        "  result_con.to_csv(f)"
      ]
    },
    {
      "cell_type": "code",
      "execution_count": 49,
      "metadata": {
        "id": "QHzpEuoZYJ89"
      },
      "outputs": [],
      "source": [
        "path = \"/content/drive/MyDrive/HEDNO/Edo_ola/result_con_test.csv\"\n",
        "with open(path, 'w', encoding = 'utf-8-sig') as f:\n",
        "  result_con_test.to_csv(f)"
      ]
    }
  ]
}