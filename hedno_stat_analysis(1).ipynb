{
  "cells": [
    {
      "cell_type": "markdown",
      "metadata": {
        "id": "view-in-github",
        "colab_type": "text"
      },
      "source": [
        "<a href=\"https://colab.research.google.com/github/ElenaNtm/power-thefts-investigation/blob/main/hedno_stat_analysis(1).ipynb\" target=\"_parent\"><img src=\"https://colab.research.google.com/assets/colab-badge.svg\" alt=\"Open In Colab\"/></a>"
      ]
    },
    {
      "cell_type": "markdown",
      "metadata": {
        "id": "v2KY2O-n_rvN"
      },
      "source": [
        "# Libraries"
      ]
    },
    {
      "cell_type": "code",
      "execution_count": 1,
      "metadata": {
        "id": "4fC3Y5IH5JDN"
      },
      "outputs": [],
      "source": [
        "import pandas as pd \n",
        "import numpy as np\n",
        "import math\n",
        "import operator \n",
        "from datetime import datetime\n",
        "import seaborn as sns"
      ]
    },
    {
      "cell_type": "code",
      "execution_count": 2,
      "metadata": {
        "id": "L5dBuJpA5iZp",
        "colab": {
          "base_uri": "https://localhost:8080/"
        },
        "outputId": "54fd9c55-109c-47d6-feda-c1593dc813ce"
      },
      "outputs": [
        {
          "output_type": "stream",
          "name": "stdout",
          "text": [
            "Mounted at /content/drive\n"
          ]
        }
      ],
      "source": [
        "from google.colab import drive\n",
        "drive.mount('/content/drive')"
      ]
    },
    {
      "cell_type": "code",
      "execution_count": 3,
      "metadata": {
        "id": "0xyHbo3Xwmn1"
      },
      "outputs": [],
      "source": [
        "#from sklearn.metrics import confusion_matrix"
      ]
    },
    {
      "cell_type": "code",
      "execution_count": 4,
      "metadata": {
        "id": "-ImIJUZxbNLH"
      },
      "outputs": [],
      "source": [
        "#from sklearn.ensemble import HistGradientBoostingClassifier"
      ]
    },
    {
      "cell_type": "code",
      "execution_count": 5,
      "metadata": {
        "id": "wSYLIeNXw9NU"
      },
      "outputs": [],
      "source": [
        "#from sklearn.model_selection import train_test_split\n",
        "#import sklearn"
      ]
    },
    {
      "cell_type": "code",
      "execution_count": 6,
      "metadata": {
        "id": "Z8w1h9qVxHqo"
      },
      "outputs": [],
      "source": [
        "#from sklearn.preprocessing import OrdinalEncoder"
      ]
    },
    {
      "cell_type": "markdown",
      "metadata": {
        "id": "KTDKcmdQVRE6"
      },
      "source": [
        "!! Αν δεις και γεμιζει η RAΜ κανε επανεκκινηση χρονου εκτελεσης"
      ]
    },
    {
      "cell_type": "markdown",
      "metadata": {
        "id": "DFWRjCqA_vPK"
      },
      "source": [
        "# The Dataset"
      ]
    },
    {
      "cell_type": "markdown",
      "metadata": {
        "id": "TnZoOskfAL1e"
      },
      "source": [
        "## Powerthefts - Target Variable"
      ]
    },
    {
      "cell_type": "code",
      "execution_count": 7,
      "metadata": {
        "id": "Zh7qy1wz8khy",
        "colab": {
          "base_uri": "https://localhost:8080/",
          "height": 0
        },
        "outputId": "3aeea8ca-2fe3-4206-a813-1e84f4d8cfb1"
      },
      "outputs": [
        {
          "output_type": "execute_result",
          "data": {
            "text/plain": [
              "   Unnamed: 0.1  Unnamed: 0  \\\n",
              "0             0           0   \n",
              "1             1           1   \n",
              "2             2           2   \n",
              "3             3           3   \n",
              "4             4           4   \n",
              "\n",
              "                                            ACCT_NBR  SUCCESSOR  \\\n",
              "0  000A31FE38C6F648845941B642E287FE02000000004D63...          3   \n",
              "1  000A31FE38C6F648845941B642E287FE0200000000801E...          8   \n",
              "2  000A31FE38C6F648845941B642E287FE0200000000B03B...          2   \n",
              "3  000A31FE38C6F648845941B642E287FE0200000000BCD9...          2   \n",
              "4  000A31FE38C6F648845941B642E287FE02000000017AA3...          5   \n",
              "\n",
              "                   ΤΡΟΠΟΣ_ΕΝΤΟΠΙΣΜΟΥ    ΣΗΜΕΙΟ_ΕΝΤΟΠΙΣΜΟΥ      HMANAF  \\\n",
              "0  Μέσω Λοιπών Εργασιών & Συντήρησης              ΑΓΝΩΣΤΟ  2018-03-01   \n",
              "1            Μέσω Καταμέτρησης (ΔΑΚ)           ΑΚΡΟΔΕΚΤΕΣ  2018-08-16   \n",
              "2  Μέσω Λοιπών Εργασιών & Συντήρησης  ΜΗΧΑΝΙΣΜΟΣ ΜΕΤΡΗΣΗΣ  2018-12-05   \n",
              "3  Μέσω Λοιπών Εργασιών & Συντήρησης           ΑΚΡΟΔΕΚΤΕΣ  2017-01-19   \n",
              "4  Μέσω Λοιπών Εργασιών & Συντήρησης              ΑΓΝΩΣΤΟ  2019-05-29   \n",
              "\n",
              "  INITIAL_DETECTION_DATE DETECTION_DATE  NON_REGISTERED_ENERGY  \n",
              "0             2018-03-01            NaN                 1283.0  \n",
              "1             2018-11-01     2018-11-01                  640.0  \n",
              "2             2018-12-18            NaN                 4665.0  \n",
              "3             2017-01-30            NaN                    NaN  \n",
              "4             2019-05-29            NaN                 1049.0  "
            ],
            "text/html": [
              "\n",
              "  <div id=\"df-e2631e6d-f0bc-4648-a38c-1bc6c9c50f10\">\n",
              "    <div class=\"colab-df-container\">\n",
              "      <div>\n",
              "<style scoped>\n",
              "    .dataframe tbody tr th:only-of-type {\n",
              "        vertical-align: middle;\n",
              "    }\n",
              "\n",
              "    .dataframe tbody tr th {\n",
              "        vertical-align: top;\n",
              "    }\n",
              "\n",
              "    .dataframe thead th {\n",
              "        text-align: right;\n",
              "    }\n",
              "</style>\n",
              "<table border=\"1\" class=\"dataframe\">\n",
              "  <thead>\n",
              "    <tr style=\"text-align: right;\">\n",
              "      <th></th>\n",
              "      <th>Unnamed: 0.1</th>\n",
              "      <th>Unnamed: 0</th>\n",
              "      <th>ACCT_NBR</th>\n",
              "      <th>SUCCESSOR</th>\n",
              "      <th>ΤΡΟΠΟΣ_ΕΝΤΟΠΙΣΜΟΥ</th>\n",
              "      <th>ΣΗΜΕΙΟ_ΕΝΤΟΠΙΣΜΟΥ</th>\n",
              "      <th>HMANAF</th>\n",
              "      <th>INITIAL_DETECTION_DATE</th>\n",
              "      <th>DETECTION_DATE</th>\n",
              "      <th>NON_REGISTERED_ENERGY</th>\n",
              "    </tr>\n",
              "  </thead>\n",
              "  <tbody>\n",
              "    <tr>\n",
              "      <th>0</th>\n",
              "      <td>0</td>\n",
              "      <td>0</td>\n",
              "      <td>000A31FE38C6F648845941B642E287FE02000000004D63...</td>\n",
              "      <td>3</td>\n",
              "      <td>Μέσω Λοιπών Εργασιών &amp; Συντήρησης</td>\n",
              "      <td>ΑΓΝΩΣΤΟ</td>\n",
              "      <td>2018-03-01</td>\n",
              "      <td>2018-03-01</td>\n",
              "      <td>NaN</td>\n",
              "      <td>1283.0</td>\n",
              "    </tr>\n",
              "    <tr>\n",
              "      <th>1</th>\n",
              "      <td>1</td>\n",
              "      <td>1</td>\n",
              "      <td>000A31FE38C6F648845941B642E287FE0200000000801E...</td>\n",
              "      <td>8</td>\n",
              "      <td>Μέσω Καταμέτρησης (ΔΑΚ)</td>\n",
              "      <td>ΑΚΡΟΔΕΚΤΕΣ</td>\n",
              "      <td>2018-08-16</td>\n",
              "      <td>2018-11-01</td>\n",
              "      <td>2018-11-01</td>\n",
              "      <td>640.0</td>\n",
              "    </tr>\n",
              "    <tr>\n",
              "      <th>2</th>\n",
              "      <td>2</td>\n",
              "      <td>2</td>\n",
              "      <td>000A31FE38C6F648845941B642E287FE0200000000B03B...</td>\n",
              "      <td>2</td>\n",
              "      <td>Μέσω Λοιπών Εργασιών &amp; Συντήρησης</td>\n",
              "      <td>ΜΗΧΑΝΙΣΜΟΣ ΜΕΤΡΗΣΗΣ</td>\n",
              "      <td>2018-12-05</td>\n",
              "      <td>2018-12-18</td>\n",
              "      <td>NaN</td>\n",
              "      <td>4665.0</td>\n",
              "    </tr>\n",
              "    <tr>\n",
              "      <th>3</th>\n",
              "      <td>3</td>\n",
              "      <td>3</td>\n",
              "      <td>000A31FE38C6F648845941B642E287FE0200000000BCD9...</td>\n",
              "      <td>2</td>\n",
              "      <td>Μέσω Λοιπών Εργασιών &amp; Συντήρησης</td>\n",
              "      <td>ΑΚΡΟΔΕΚΤΕΣ</td>\n",
              "      <td>2017-01-19</td>\n",
              "      <td>2017-01-30</td>\n",
              "      <td>NaN</td>\n",
              "      <td>NaN</td>\n",
              "    </tr>\n",
              "    <tr>\n",
              "      <th>4</th>\n",
              "      <td>4</td>\n",
              "      <td>4</td>\n",
              "      <td>000A31FE38C6F648845941B642E287FE02000000017AA3...</td>\n",
              "      <td>5</td>\n",
              "      <td>Μέσω Λοιπών Εργασιών &amp; Συντήρησης</td>\n",
              "      <td>ΑΓΝΩΣΤΟ</td>\n",
              "      <td>2019-05-29</td>\n",
              "      <td>2019-05-29</td>\n",
              "      <td>NaN</td>\n",
              "      <td>1049.0</td>\n",
              "    </tr>\n",
              "  </tbody>\n",
              "</table>\n",
              "</div>\n",
              "      <button class=\"colab-df-convert\" onclick=\"convertToInteractive('df-e2631e6d-f0bc-4648-a38c-1bc6c9c50f10')\"\n",
              "              title=\"Convert this dataframe to an interactive table.\"\n",
              "              style=\"display:none;\">\n",
              "        \n",
              "  <svg xmlns=\"http://www.w3.org/2000/svg\" height=\"24px\"viewBox=\"0 0 24 24\"\n",
              "       width=\"24px\">\n",
              "    <path d=\"M0 0h24v24H0V0z\" fill=\"none\"/>\n",
              "    <path d=\"M18.56 5.44l.94 2.06.94-2.06 2.06-.94-2.06-.94-.94-2.06-.94 2.06-2.06.94zm-11 1L8.5 8.5l.94-2.06 2.06-.94-2.06-.94L8.5 2.5l-.94 2.06-2.06.94zm10 10l.94 2.06.94-2.06 2.06-.94-2.06-.94-.94-2.06-.94 2.06-2.06.94z\"/><path d=\"M17.41 7.96l-1.37-1.37c-.4-.4-.92-.59-1.43-.59-.52 0-1.04.2-1.43.59L10.3 9.45l-7.72 7.72c-.78.78-.78 2.05 0 2.83L4 21.41c.39.39.9.59 1.41.59.51 0 1.02-.2 1.41-.59l7.78-7.78 2.81-2.81c.8-.78.8-2.07 0-2.86zM5.41 20L4 18.59l7.72-7.72 1.47 1.35L5.41 20z\"/>\n",
              "  </svg>\n",
              "      </button>\n",
              "      \n",
              "  <style>\n",
              "    .colab-df-container {\n",
              "      display:flex;\n",
              "      flex-wrap:wrap;\n",
              "      gap: 12px;\n",
              "    }\n",
              "\n",
              "    .colab-df-convert {\n",
              "      background-color: #E8F0FE;\n",
              "      border: none;\n",
              "      border-radius: 50%;\n",
              "      cursor: pointer;\n",
              "      display: none;\n",
              "      fill: #1967D2;\n",
              "      height: 32px;\n",
              "      padding: 0 0 0 0;\n",
              "      width: 32px;\n",
              "    }\n",
              "\n",
              "    .colab-df-convert:hover {\n",
              "      background-color: #E2EBFA;\n",
              "      box-shadow: 0px 1px 2px rgba(60, 64, 67, 0.3), 0px 1px 3px 1px rgba(60, 64, 67, 0.15);\n",
              "      fill: #174EA6;\n",
              "    }\n",
              "\n",
              "    [theme=dark] .colab-df-convert {\n",
              "      background-color: #3B4455;\n",
              "      fill: #D2E3FC;\n",
              "    }\n",
              "\n",
              "    [theme=dark] .colab-df-convert:hover {\n",
              "      background-color: #434B5C;\n",
              "      box-shadow: 0px 1px 3px 1px rgba(0, 0, 0, 0.15);\n",
              "      filter: drop-shadow(0px 1px 2px rgba(0, 0, 0, 0.3));\n",
              "      fill: #FFFFFF;\n",
              "    }\n",
              "  </style>\n",
              "\n",
              "      <script>\n",
              "        const buttonEl =\n",
              "          document.querySelector('#df-e2631e6d-f0bc-4648-a38c-1bc6c9c50f10 button.colab-df-convert');\n",
              "        buttonEl.style.display =\n",
              "          google.colab.kernel.accessAllowed ? 'block' : 'none';\n",
              "\n",
              "        async function convertToInteractive(key) {\n",
              "          const element = document.querySelector('#df-e2631e6d-f0bc-4648-a38c-1bc6c9c50f10');\n",
              "          const dataTable =\n",
              "            await google.colab.kernel.invokeFunction('convertToInteractive',\n",
              "                                                     [key], {});\n",
              "          if (!dataTable) return;\n",
              "\n",
              "          const docLinkHtml = 'Like what you see? Visit the ' +\n",
              "            '<a target=\"_blank\" href=https://colab.research.google.com/notebooks/data_table.ipynb>data table notebook</a>'\n",
              "            + ' to learn more about interactive tables.';\n",
              "          element.innerHTML = '';\n",
              "          dataTable['output_type'] = 'display_data';\n",
              "          await google.colab.output.renderOutput(dataTable, element);\n",
              "          const docLink = document.createElement('div');\n",
              "          docLink.innerHTML = docLinkHtml;\n",
              "          element.appendChild(docLink);\n",
              "        }\n",
              "      </script>\n",
              "    </div>\n",
              "  </div>\n",
              "  "
            ]
          },
          "metadata": {},
          "execution_count": 7
        }
      ],
      "source": [
        "path = \"/content/drive/MyDrive/HEDNO/PowerThefts_TRAIN.csv\"\n",
        "df_power_thefts = pd.read_csv(path, sep= ',')\n",
        "df_power_thefts.head()"
      ]
    },
    {
      "cell_type": "code",
      "execution_count": 8,
      "metadata": {
        "id": "xBTycnN73hRF"
      },
      "outputs": [],
      "source": [
        "df_power_thefts.drop(['Unnamed: 0.1','Unnamed: 0'], axis=1, inplace = True)"
      ]
    },
    {
      "cell_type": "markdown",
      "metadata": {
        "id": "hKENi1rd6Zuq"
      },
      "source": [
        "###Check Duplicate lines - No duplicate lines"
      ]
    },
    {
      "cell_type": "code",
      "execution_count": 9,
      "metadata": {
        "id": "krF3ZaCk6h5p"
      },
      "outputs": [],
      "source": [
        "#bool_series = df_power_thefts.duplicated()"
      ]
    },
    {
      "cell_type": "code",
      "execution_count": 10,
      "metadata": {
        "id": "-LIlyv9e61rJ"
      },
      "outputs": [],
      "source": [
        "#[i for i, x in enumerate(bool_series) if x]"
      ]
    },
    {
      "cell_type": "markdown",
      "metadata": {
        "id": "4sMlIounAWLG"
      },
      "source": [
        "## Rest Train + Test"
      ]
    },
    {
      "cell_type": "markdown",
      "metadata": {
        "id": "ZV2s3okMBshw"
      },
      "source": [
        "###Records"
      ]
    },
    {
      "cell_type": "code",
      "execution_count": 11,
      "metadata": {
        "id": "Y4mhAQyH80eh"
      },
      "outputs": [],
      "source": [
        "path = \"/content/drive/MyDrive/HEDNO/Records_TRAIN.csv\"\n",
        "df_records_train = pd.read_csv(path, sep= '|')"
      ]
    },
    {
      "cell_type": "code",
      "execution_count": 12,
      "metadata": {
        "id": "DACsPhYa-oQj"
      },
      "outputs": [],
      "source": [
        "path = \"/content/drive/MyDrive/HEDNO/Records_TEST.csv\"\n",
        "df_records_test = pd.read_csv(path,sep='|')"
      ]
    },
    {
      "cell_type": "markdown",
      "metadata": {
        "id": "jX2mPPXOIQt-"
      },
      "source": [
        "###Representations"
      ]
    },
    {
      "cell_type": "code",
      "execution_count": 13,
      "metadata": {
        "id": "W0rpodLt9RF9"
      },
      "outputs": [],
      "source": [
        "path = \"/content/drive/MyDrive/HEDNO/Representations_TRAIN.csv\"\n",
        "df_representations_train = pd.read_csv(path, sep= '|')"
      ]
    },
    {
      "cell_type": "code",
      "execution_count": 14,
      "metadata": {
        "id": "PIK5pMjj-tfu"
      },
      "outputs": [],
      "source": [
        "path = \"/content/drive/MyDrive/HEDNO/Representations_TEST.csv\"\n",
        "df_representations_test = pd.read_csv(path, sep= '|')"
      ]
    },
    {
      "cell_type": "markdown",
      "metadata": {
        "id": "lOCZ6RXeIgdv"
      },
      "source": [
        "###Requests"
      ]
    },
    {
      "cell_type": "code",
      "execution_count": 15,
      "metadata": {
        "id": "AxqZiBJX9faU"
      },
      "outputs": [],
      "source": [
        "path = \"/content/drive/MyDrive/HEDNO/Requests_TRAIN.csv\"\n",
        "df_requests_train = pd.read_csv(path, sep= '|')"
      ]
    },
    {
      "cell_type": "code",
      "execution_count": 16,
      "metadata": {
        "id": "9r6MpAxW-xOQ"
      },
      "outputs": [],
      "source": [
        "path = \"/content/drive/MyDrive/HEDNO/Requests_TEST.csv\"\n",
        "df_requests_test = pd.read_csv(path, sep= '|')"
      ]
    },
    {
      "cell_type": "markdown",
      "metadata": {
        "id": "Jz6C2Vl3ItIf"
      },
      "source": [
        "###Consumptions"
      ]
    },
    {
      "cell_type": "code",
      "execution_count": 17,
      "metadata": {
        "id": "tISnJZdFSJa8"
      },
      "outputs": [],
      "source": [
        "path = \"/content/drive/MyDrive/HEDNO/Consumptions_TRAIN.csv\"\n",
        "df_consumptions_train = pd.read_csv(path, sep= '|')"
      ]
    },
    {
      "cell_type": "code",
      "execution_count": 18,
      "metadata": {
        "id": "chK_9bhx-3WW"
      },
      "outputs": [],
      "source": [
        "path = \"/content/drive/MyDrive/HEDNO/Consumptions_TEST.csv\"\n",
        "df_consumptions_test = pd.read_csv(path, sep= '|')"
      ]
    },
    {
      "cell_type": "markdown",
      "metadata": {
        "id": "-bMiiC77kcyM"
      },
      "source": [
        "## Data Heads"
      ]
    },
    {
      "cell_type": "code",
      "execution_count": 19,
      "metadata": {
        "colab": {
          "base_uri": "https://localhost:8080/",
          "height": 0
        },
        "id": "p8KloF9jkg68",
        "outputId": "023139b2-c144-4a17-ae00-4c9205541e09"
      },
      "outputs": [
        {
          "output_type": "execute_result",
          "data": {
            "text/plain": [
              "                                            ACCT_NBR  SUCCESSOR VOLTAGE  \\\n",
              "0  000A31FE38C6F648845941B642E287FE0200000000004A...          1     LOW   \n",
              "1  000A31FE38C6F648845941B642E287FE0200000000008D...          1     LOW   \n",
              "2  000A31FE38C6F648845941B642E287FE0200000000008D...          3     LOW   \n",
              "3  000A31FE38C6F648845941B642E287FE0200000000008D...          4     LOW   \n",
              "4  000A31FE38C6F648845941B642E287FE0200000000008D...          5     LOW   \n",
              "\n",
              "   PARNO  XRHSH  CONTRACT_CAPACITY  ACCT_CONTROL        ACCT_WGS84_X  \\\n",
              "0      0      2               12.0             0  53,422551543686701   \n",
              "1      0      2               12.0             0  53,407108521588633   \n",
              "2      2      2               25.0             0  53,407108521588633   \n",
              "3      2      2               25.0             0  53,407108521588633   \n",
              "4      2      2               25.0             0  53,407108521588633   \n",
              "\n",
              "         ACCT_WGS84_Y  \n",
              "0  19,592757873078753  \n",
              "1  19,569743639932696  \n",
              "2  19,569743639932696  \n",
              "3  19,569743639932696  \n",
              "4  19,569743639932696  "
            ],
            "text/html": [
              "\n",
              "  <div id=\"df-96452760-d47e-40ed-b8d6-1a5826ae5407\">\n",
              "    <div class=\"colab-df-container\">\n",
              "      <div>\n",
              "<style scoped>\n",
              "    .dataframe tbody tr th:only-of-type {\n",
              "        vertical-align: middle;\n",
              "    }\n",
              "\n",
              "    .dataframe tbody tr th {\n",
              "        vertical-align: top;\n",
              "    }\n",
              "\n",
              "    .dataframe thead th {\n",
              "        text-align: right;\n",
              "    }\n",
              "</style>\n",
              "<table border=\"1\" class=\"dataframe\">\n",
              "  <thead>\n",
              "    <tr style=\"text-align: right;\">\n",
              "      <th></th>\n",
              "      <th>ACCT_NBR</th>\n",
              "      <th>SUCCESSOR</th>\n",
              "      <th>VOLTAGE</th>\n",
              "      <th>PARNO</th>\n",
              "      <th>XRHSH</th>\n",
              "      <th>CONTRACT_CAPACITY</th>\n",
              "      <th>ACCT_CONTROL</th>\n",
              "      <th>ACCT_WGS84_X</th>\n",
              "      <th>ACCT_WGS84_Y</th>\n",
              "    </tr>\n",
              "  </thead>\n",
              "  <tbody>\n",
              "    <tr>\n",
              "      <th>0</th>\n",
              "      <td>000A31FE38C6F648845941B642E287FE0200000000004A...</td>\n",
              "      <td>1</td>\n",
              "      <td>LOW</td>\n",
              "      <td>0</td>\n",
              "      <td>2</td>\n",
              "      <td>12.0</td>\n",
              "      <td>0</td>\n",
              "      <td>53,422551543686701</td>\n",
              "      <td>19,592757873078753</td>\n",
              "    </tr>\n",
              "    <tr>\n",
              "      <th>1</th>\n",
              "      <td>000A31FE38C6F648845941B642E287FE0200000000008D...</td>\n",
              "      <td>1</td>\n",
              "      <td>LOW</td>\n",
              "      <td>0</td>\n",
              "      <td>2</td>\n",
              "      <td>12.0</td>\n",
              "      <td>0</td>\n",
              "      <td>53,407108521588633</td>\n",
              "      <td>19,569743639932696</td>\n",
              "    </tr>\n",
              "    <tr>\n",
              "      <th>2</th>\n",
              "      <td>000A31FE38C6F648845941B642E287FE0200000000008D...</td>\n",
              "      <td>3</td>\n",
              "      <td>LOW</td>\n",
              "      <td>2</td>\n",
              "      <td>2</td>\n",
              "      <td>25.0</td>\n",
              "      <td>0</td>\n",
              "      <td>53,407108521588633</td>\n",
              "      <td>19,569743639932696</td>\n",
              "    </tr>\n",
              "    <tr>\n",
              "      <th>3</th>\n",
              "      <td>000A31FE38C6F648845941B642E287FE0200000000008D...</td>\n",
              "      <td>4</td>\n",
              "      <td>LOW</td>\n",
              "      <td>2</td>\n",
              "      <td>2</td>\n",
              "      <td>25.0</td>\n",
              "      <td>0</td>\n",
              "      <td>53,407108521588633</td>\n",
              "      <td>19,569743639932696</td>\n",
              "    </tr>\n",
              "    <tr>\n",
              "      <th>4</th>\n",
              "      <td>000A31FE38C6F648845941B642E287FE0200000000008D...</td>\n",
              "      <td>5</td>\n",
              "      <td>LOW</td>\n",
              "      <td>2</td>\n",
              "      <td>2</td>\n",
              "      <td>25.0</td>\n",
              "      <td>0</td>\n",
              "      <td>53,407108521588633</td>\n",
              "      <td>19,569743639932696</td>\n",
              "    </tr>\n",
              "  </tbody>\n",
              "</table>\n",
              "</div>\n",
              "      <button class=\"colab-df-convert\" onclick=\"convertToInteractive('df-96452760-d47e-40ed-b8d6-1a5826ae5407')\"\n",
              "              title=\"Convert this dataframe to an interactive table.\"\n",
              "              style=\"display:none;\">\n",
              "        \n",
              "  <svg xmlns=\"http://www.w3.org/2000/svg\" height=\"24px\"viewBox=\"0 0 24 24\"\n",
              "       width=\"24px\">\n",
              "    <path d=\"M0 0h24v24H0V0z\" fill=\"none\"/>\n",
              "    <path d=\"M18.56 5.44l.94 2.06.94-2.06 2.06-.94-2.06-.94-.94-2.06-.94 2.06-2.06.94zm-11 1L8.5 8.5l.94-2.06 2.06-.94-2.06-.94L8.5 2.5l-.94 2.06-2.06.94zm10 10l.94 2.06.94-2.06 2.06-.94-2.06-.94-.94-2.06-.94 2.06-2.06.94z\"/><path d=\"M17.41 7.96l-1.37-1.37c-.4-.4-.92-.59-1.43-.59-.52 0-1.04.2-1.43.59L10.3 9.45l-7.72 7.72c-.78.78-.78 2.05 0 2.83L4 21.41c.39.39.9.59 1.41.59.51 0 1.02-.2 1.41-.59l7.78-7.78 2.81-2.81c.8-.78.8-2.07 0-2.86zM5.41 20L4 18.59l7.72-7.72 1.47 1.35L5.41 20z\"/>\n",
              "  </svg>\n",
              "      </button>\n",
              "      \n",
              "  <style>\n",
              "    .colab-df-container {\n",
              "      display:flex;\n",
              "      flex-wrap:wrap;\n",
              "      gap: 12px;\n",
              "    }\n",
              "\n",
              "    .colab-df-convert {\n",
              "      background-color: #E8F0FE;\n",
              "      border: none;\n",
              "      border-radius: 50%;\n",
              "      cursor: pointer;\n",
              "      display: none;\n",
              "      fill: #1967D2;\n",
              "      height: 32px;\n",
              "      padding: 0 0 0 0;\n",
              "      width: 32px;\n",
              "    }\n",
              "\n",
              "    .colab-df-convert:hover {\n",
              "      background-color: #E2EBFA;\n",
              "      box-shadow: 0px 1px 2px rgba(60, 64, 67, 0.3), 0px 1px 3px 1px rgba(60, 64, 67, 0.15);\n",
              "      fill: #174EA6;\n",
              "    }\n",
              "\n",
              "    [theme=dark] .colab-df-convert {\n",
              "      background-color: #3B4455;\n",
              "      fill: #D2E3FC;\n",
              "    }\n",
              "\n",
              "    [theme=dark] .colab-df-convert:hover {\n",
              "      background-color: #434B5C;\n",
              "      box-shadow: 0px 1px 3px 1px rgba(0, 0, 0, 0.15);\n",
              "      filter: drop-shadow(0px 1px 2px rgba(0, 0, 0, 0.3));\n",
              "      fill: #FFFFFF;\n",
              "    }\n",
              "  </style>\n",
              "\n",
              "      <script>\n",
              "        const buttonEl =\n",
              "          document.querySelector('#df-96452760-d47e-40ed-b8d6-1a5826ae5407 button.colab-df-convert');\n",
              "        buttonEl.style.display =\n",
              "          google.colab.kernel.accessAllowed ? 'block' : 'none';\n",
              "\n",
              "        async function convertToInteractive(key) {\n",
              "          const element = document.querySelector('#df-96452760-d47e-40ed-b8d6-1a5826ae5407');\n",
              "          const dataTable =\n",
              "            await google.colab.kernel.invokeFunction('convertToInteractive',\n",
              "                                                     [key], {});\n",
              "          if (!dataTable) return;\n",
              "\n",
              "          const docLinkHtml = 'Like what you see? Visit the ' +\n",
              "            '<a target=\"_blank\" href=https://colab.research.google.com/notebooks/data_table.ipynb>data table notebook</a>'\n",
              "            + ' to learn more about interactive tables.';\n",
              "          element.innerHTML = '';\n",
              "          dataTable['output_type'] = 'display_data';\n",
              "          await google.colab.output.renderOutput(dataTable, element);\n",
              "          const docLink = document.createElement('div');\n",
              "          docLink.innerHTML = docLinkHtml;\n",
              "          element.appendChild(docLink);\n",
              "        }\n",
              "      </script>\n",
              "    </div>\n",
              "  </div>\n",
              "  "
            ]
          },
          "metadata": {},
          "execution_count": 19
        }
      ],
      "source": [
        "df_records_train.head()"
      ]
    },
    {
      "cell_type": "code",
      "execution_count": 20,
      "metadata": {
        "colab": {
          "base_uri": "https://localhost:8080/",
          "height": 0
        },
        "id": "E21YyQTQCTLk",
        "outputId": "b82fd85c-7257-4f48-9825-62700d36431d"
      },
      "outputs": [
        {
          "output_type": "execute_result",
          "data": {
            "text/plain": [
              "                                            ACCT_NBR  SUCCESSOR VOLTAGE  \\\n",
              "0  000A31FE38C6F648845941B642E287FE0200000000006D...          1     LOW   \n",
              "1  000A31FE38C6F648845941B642E287FE0200000000006E...          1     LOW   \n",
              "2  000A31FE38C6F648845941B642E287FE020000000001BF...          2     LOW   \n",
              "3  000A31FE38C6F648845941B642E287FE02000000000357...          1     LOW   \n",
              "4  000A31FE38C6F648845941B642E287FE02000000000536...          1     LOW   \n",
              "\n",
              "   PARNO  XRHSH  CONTRACT_CAPACITY  ACCT_CONTROL        ACCT_WGS84_X  \\\n",
              "0      0      1                 12             0  53,451030471299404   \n",
              "1      0      1                 12             0  53,423690495301905   \n",
              "2      2      1                 25             0  53,466063546765042   \n",
              "3      0      1                 12             0  53,466930013537464   \n",
              "4      0      1                 12             0   53,46529071739247   \n",
              "\n",
              "         ACCT_WGS84_Y  \n",
              "0  19,600792390085896  \n",
              "1  19,615367380585742  \n",
              "2  19,606420323080993  \n",
              "3  19,594032532171479  \n",
              "4  19,608223560803914  "
            ],
            "text/html": [
              "\n",
              "  <div id=\"df-1f8c874d-d4ef-4fe6-8f49-c1130e5736bb\">\n",
              "    <div class=\"colab-df-container\">\n",
              "      <div>\n",
              "<style scoped>\n",
              "    .dataframe tbody tr th:only-of-type {\n",
              "        vertical-align: middle;\n",
              "    }\n",
              "\n",
              "    .dataframe tbody tr th {\n",
              "        vertical-align: top;\n",
              "    }\n",
              "\n",
              "    .dataframe thead th {\n",
              "        text-align: right;\n",
              "    }\n",
              "</style>\n",
              "<table border=\"1\" class=\"dataframe\">\n",
              "  <thead>\n",
              "    <tr style=\"text-align: right;\">\n",
              "      <th></th>\n",
              "      <th>ACCT_NBR</th>\n",
              "      <th>SUCCESSOR</th>\n",
              "      <th>VOLTAGE</th>\n",
              "      <th>PARNO</th>\n",
              "      <th>XRHSH</th>\n",
              "      <th>CONTRACT_CAPACITY</th>\n",
              "      <th>ACCT_CONTROL</th>\n",
              "      <th>ACCT_WGS84_X</th>\n",
              "      <th>ACCT_WGS84_Y</th>\n",
              "    </tr>\n",
              "  </thead>\n",
              "  <tbody>\n",
              "    <tr>\n",
              "      <th>0</th>\n",
              "      <td>000A31FE38C6F648845941B642E287FE0200000000006D...</td>\n",
              "      <td>1</td>\n",
              "      <td>LOW</td>\n",
              "      <td>0</td>\n",
              "      <td>1</td>\n",
              "      <td>12</td>\n",
              "      <td>0</td>\n",
              "      <td>53,451030471299404</td>\n",
              "      <td>19,600792390085896</td>\n",
              "    </tr>\n",
              "    <tr>\n",
              "      <th>1</th>\n",
              "      <td>000A31FE38C6F648845941B642E287FE0200000000006E...</td>\n",
              "      <td>1</td>\n",
              "      <td>LOW</td>\n",
              "      <td>0</td>\n",
              "      <td>1</td>\n",
              "      <td>12</td>\n",
              "      <td>0</td>\n",
              "      <td>53,423690495301905</td>\n",
              "      <td>19,615367380585742</td>\n",
              "    </tr>\n",
              "    <tr>\n",
              "      <th>2</th>\n",
              "      <td>000A31FE38C6F648845941B642E287FE020000000001BF...</td>\n",
              "      <td>2</td>\n",
              "      <td>LOW</td>\n",
              "      <td>2</td>\n",
              "      <td>1</td>\n",
              "      <td>25</td>\n",
              "      <td>0</td>\n",
              "      <td>53,466063546765042</td>\n",
              "      <td>19,606420323080993</td>\n",
              "    </tr>\n",
              "    <tr>\n",
              "      <th>3</th>\n",
              "      <td>000A31FE38C6F648845941B642E287FE02000000000357...</td>\n",
              "      <td>1</td>\n",
              "      <td>LOW</td>\n",
              "      <td>0</td>\n",
              "      <td>1</td>\n",
              "      <td>12</td>\n",
              "      <td>0</td>\n",
              "      <td>53,466930013537464</td>\n",
              "      <td>19,594032532171479</td>\n",
              "    </tr>\n",
              "    <tr>\n",
              "      <th>4</th>\n",
              "      <td>000A31FE38C6F648845941B642E287FE02000000000536...</td>\n",
              "      <td>1</td>\n",
              "      <td>LOW</td>\n",
              "      <td>0</td>\n",
              "      <td>1</td>\n",
              "      <td>12</td>\n",
              "      <td>0</td>\n",
              "      <td>53,46529071739247</td>\n",
              "      <td>19,608223560803914</td>\n",
              "    </tr>\n",
              "  </tbody>\n",
              "</table>\n",
              "</div>\n",
              "      <button class=\"colab-df-convert\" onclick=\"convertToInteractive('df-1f8c874d-d4ef-4fe6-8f49-c1130e5736bb')\"\n",
              "              title=\"Convert this dataframe to an interactive table.\"\n",
              "              style=\"display:none;\">\n",
              "        \n",
              "  <svg xmlns=\"http://www.w3.org/2000/svg\" height=\"24px\"viewBox=\"0 0 24 24\"\n",
              "       width=\"24px\">\n",
              "    <path d=\"M0 0h24v24H0V0z\" fill=\"none\"/>\n",
              "    <path d=\"M18.56 5.44l.94 2.06.94-2.06 2.06-.94-2.06-.94-.94-2.06-.94 2.06-2.06.94zm-11 1L8.5 8.5l.94-2.06 2.06-.94-2.06-.94L8.5 2.5l-.94 2.06-2.06.94zm10 10l.94 2.06.94-2.06 2.06-.94-2.06-.94-.94-2.06-.94 2.06-2.06.94z\"/><path d=\"M17.41 7.96l-1.37-1.37c-.4-.4-.92-.59-1.43-.59-.52 0-1.04.2-1.43.59L10.3 9.45l-7.72 7.72c-.78.78-.78 2.05 0 2.83L4 21.41c.39.39.9.59 1.41.59.51 0 1.02-.2 1.41-.59l7.78-7.78 2.81-2.81c.8-.78.8-2.07 0-2.86zM5.41 20L4 18.59l7.72-7.72 1.47 1.35L5.41 20z\"/>\n",
              "  </svg>\n",
              "      </button>\n",
              "      \n",
              "  <style>\n",
              "    .colab-df-container {\n",
              "      display:flex;\n",
              "      flex-wrap:wrap;\n",
              "      gap: 12px;\n",
              "    }\n",
              "\n",
              "    .colab-df-convert {\n",
              "      background-color: #E8F0FE;\n",
              "      border: none;\n",
              "      border-radius: 50%;\n",
              "      cursor: pointer;\n",
              "      display: none;\n",
              "      fill: #1967D2;\n",
              "      height: 32px;\n",
              "      padding: 0 0 0 0;\n",
              "      width: 32px;\n",
              "    }\n",
              "\n",
              "    .colab-df-convert:hover {\n",
              "      background-color: #E2EBFA;\n",
              "      box-shadow: 0px 1px 2px rgba(60, 64, 67, 0.3), 0px 1px 3px 1px rgba(60, 64, 67, 0.15);\n",
              "      fill: #174EA6;\n",
              "    }\n",
              "\n",
              "    [theme=dark] .colab-df-convert {\n",
              "      background-color: #3B4455;\n",
              "      fill: #D2E3FC;\n",
              "    }\n",
              "\n",
              "    [theme=dark] .colab-df-convert:hover {\n",
              "      background-color: #434B5C;\n",
              "      box-shadow: 0px 1px 3px 1px rgba(0, 0, 0, 0.15);\n",
              "      filter: drop-shadow(0px 1px 2px rgba(0, 0, 0, 0.3));\n",
              "      fill: #FFFFFF;\n",
              "    }\n",
              "  </style>\n",
              "\n",
              "      <script>\n",
              "        const buttonEl =\n",
              "          document.querySelector('#df-1f8c874d-d4ef-4fe6-8f49-c1130e5736bb button.colab-df-convert');\n",
              "        buttonEl.style.display =\n",
              "          google.colab.kernel.accessAllowed ? 'block' : 'none';\n",
              "\n",
              "        async function convertToInteractive(key) {\n",
              "          const element = document.querySelector('#df-1f8c874d-d4ef-4fe6-8f49-c1130e5736bb');\n",
              "          const dataTable =\n",
              "            await google.colab.kernel.invokeFunction('convertToInteractive',\n",
              "                                                     [key], {});\n",
              "          if (!dataTable) return;\n",
              "\n",
              "          const docLinkHtml = 'Like what you see? Visit the ' +\n",
              "            '<a target=\"_blank\" href=https://colab.research.google.com/notebooks/data_table.ipynb>data table notebook</a>'\n",
              "            + ' to learn more about interactive tables.';\n",
              "          element.innerHTML = '';\n",
              "          dataTable['output_type'] = 'display_data';\n",
              "          await google.colab.output.renderOutput(dataTable, element);\n",
              "          const docLink = document.createElement('div');\n",
              "          docLink.innerHTML = docLinkHtml;\n",
              "          element.appendChild(docLink);\n",
              "        }\n",
              "      </script>\n",
              "    </div>\n",
              "  </div>\n",
              "  "
            ]
          },
          "metadata": {},
          "execution_count": 20
        }
      ],
      "source": [
        "df_records_test.head()"
      ]
    },
    {
      "cell_type": "code",
      "execution_count": 21,
      "metadata": {
        "colab": {
          "base_uri": "https://localhost:8080/",
          "height": 0
        },
        "id": "Du7-HW8rkldu",
        "outputId": "befaae9e-ed7d-4f9f-81f4-2f91931a1147"
      },
      "outputs": [
        {
          "output_type": "execute_result",
          "data": {
            "text/plain": [
              "                                            ACCT_NBR  SUCCESSOR SUPPLIER  \\\n",
              "0  000A31FE38C6F648845941B642E287FE0200000043989C...          4        W   \n",
              "1  000A31FE38C6F648845941B642E287FE020000004398BA...          1        Δ   \n",
              "2  000A31FE38C6F648845941B642E287FE020000004398BA...          4        Δ   \n",
              "3  000A31FE38C6F648845941B642E287FE020000004398BA...          5        Δ   \n",
              "4  000A31FE38C6F648845941B642E287FE020000004398BD...          1        Δ   \n",
              "\n",
              "  SUPPLIER_TO  START_DATE    END_DATE  \n",
              "0         NaN  2017-04-04  2022-07-19  \n",
              "1         NaN  1995-10-18  1999-12-22  \n",
              "2           Δ  2019-11-06  2020-06-23  \n",
              "3         NaN  2020-06-23  2022-09-16  \n",
              "4           Δ  1995-10-15  2000-01-13  "
            ],
            "text/html": [
              "\n",
              "  <div id=\"df-6d2e31aa-f567-4b9e-b17e-9456de75d37b\">\n",
              "    <div class=\"colab-df-container\">\n",
              "      <div>\n",
              "<style scoped>\n",
              "    .dataframe tbody tr th:only-of-type {\n",
              "        vertical-align: middle;\n",
              "    }\n",
              "\n",
              "    .dataframe tbody tr th {\n",
              "        vertical-align: top;\n",
              "    }\n",
              "\n",
              "    .dataframe thead th {\n",
              "        text-align: right;\n",
              "    }\n",
              "</style>\n",
              "<table border=\"1\" class=\"dataframe\">\n",
              "  <thead>\n",
              "    <tr style=\"text-align: right;\">\n",
              "      <th></th>\n",
              "      <th>ACCT_NBR</th>\n",
              "      <th>SUCCESSOR</th>\n",
              "      <th>SUPPLIER</th>\n",
              "      <th>SUPPLIER_TO</th>\n",
              "      <th>START_DATE</th>\n",
              "      <th>END_DATE</th>\n",
              "    </tr>\n",
              "  </thead>\n",
              "  <tbody>\n",
              "    <tr>\n",
              "      <th>0</th>\n",
              "      <td>000A31FE38C6F648845941B642E287FE0200000043989C...</td>\n",
              "      <td>4</td>\n",
              "      <td>W</td>\n",
              "      <td>NaN</td>\n",
              "      <td>2017-04-04</td>\n",
              "      <td>2022-07-19</td>\n",
              "    </tr>\n",
              "    <tr>\n",
              "      <th>1</th>\n",
              "      <td>000A31FE38C6F648845941B642E287FE020000004398BA...</td>\n",
              "      <td>1</td>\n",
              "      <td>Δ</td>\n",
              "      <td>NaN</td>\n",
              "      <td>1995-10-18</td>\n",
              "      <td>1999-12-22</td>\n",
              "    </tr>\n",
              "    <tr>\n",
              "      <th>2</th>\n",
              "      <td>000A31FE38C6F648845941B642E287FE020000004398BA...</td>\n",
              "      <td>4</td>\n",
              "      <td>Δ</td>\n",
              "      <td>Δ</td>\n",
              "      <td>2019-11-06</td>\n",
              "      <td>2020-06-23</td>\n",
              "    </tr>\n",
              "    <tr>\n",
              "      <th>3</th>\n",
              "      <td>000A31FE38C6F648845941B642E287FE020000004398BA...</td>\n",
              "      <td>5</td>\n",
              "      <td>Δ</td>\n",
              "      <td>NaN</td>\n",
              "      <td>2020-06-23</td>\n",
              "      <td>2022-09-16</td>\n",
              "    </tr>\n",
              "    <tr>\n",
              "      <th>4</th>\n",
              "      <td>000A31FE38C6F648845941B642E287FE020000004398BD...</td>\n",
              "      <td>1</td>\n",
              "      <td>Δ</td>\n",
              "      <td>Δ</td>\n",
              "      <td>1995-10-15</td>\n",
              "      <td>2000-01-13</td>\n",
              "    </tr>\n",
              "  </tbody>\n",
              "</table>\n",
              "</div>\n",
              "      <button class=\"colab-df-convert\" onclick=\"convertToInteractive('df-6d2e31aa-f567-4b9e-b17e-9456de75d37b')\"\n",
              "              title=\"Convert this dataframe to an interactive table.\"\n",
              "              style=\"display:none;\">\n",
              "        \n",
              "  <svg xmlns=\"http://www.w3.org/2000/svg\" height=\"24px\"viewBox=\"0 0 24 24\"\n",
              "       width=\"24px\">\n",
              "    <path d=\"M0 0h24v24H0V0z\" fill=\"none\"/>\n",
              "    <path d=\"M18.56 5.44l.94 2.06.94-2.06 2.06-.94-2.06-.94-.94-2.06-.94 2.06-2.06.94zm-11 1L8.5 8.5l.94-2.06 2.06-.94-2.06-.94L8.5 2.5l-.94 2.06-2.06.94zm10 10l.94 2.06.94-2.06 2.06-.94-2.06-.94-.94-2.06-.94 2.06-2.06.94z\"/><path d=\"M17.41 7.96l-1.37-1.37c-.4-.4-.92-.59-1.43-.59-.52 0-1.04.2-1.43.59L10.3 9.45l-7.72 7.72c-.78.78-.78 2.05 0 2.83L4 21.41c.39.39.9.59 1.41.59.51 0 1.02-.2 1.41-.59l7.78-7.78 2.81-2.81c.8-.78.8-2.07 0-2.86zM5.41 20L4 18.59l7.72-7.72 1.47 1.35L5.41 20z\"/>\n",
              "  </svg>\n",
              "      </button>\n",
              "      \n",
              "  <style>\n",
              "    .colab-df-container {\n",
              "      display:flex;\n",
              "      flex-wrap:wrap;\n",
              "      gap: 12px;\n",
              "    }\n",
              "\n",
              "    .colab-df-convert {\n",
              "      background-color: #E8F0FE;\n",
              "      border: none;\n",
              "      border-radius: 50%;\n",
              "      cursor: pointer;\n",
              "      display: none;\n",
              "      fill: #1967D2;\n",
              "      height: 32px;\n",
              "      padding: 0 0 0 0;\n",
              "      width: 32px;\n",
              "    }\n",
              "\n",
              "    .colab-df-convert:hover {\n",
              "      background-color: #E2EBFA;\n",
              "      box-shadow: 0px 1px 2px rgba(60, 64, 67, 0.3), 0px 1px 3px 1px rgba(60, 64, 67, 0.15);\n",
              "      fill: #174EA6;\n",
              "    }\n",
              "\n",
              "    [theme=dark] .colab-df-convert {\n",
              "      background-color: #3B4455;\n",
              "      fill: #D2E3FC;\n",
              "    }\n",
              "\n",
              "    [theme=dark] .colab-df-convert:hover {\n",
              "      background-color: #434B5C;\n",
              "      box-shadow: 0px 1px 3px 1px rgba(0, 0, 0, 0.15);\n",
              "      filter: drop-shadow(0px 1px 2px rgba(0, 0, 0, 0.3));\n",
              "      fill: #FFFFFF;\n",
              "    }\n",
              "  </style>\n",
              "\n",
              "      <script>\n",
              "        const buttonEl =\n",
              "          document.querySelector('#df-6d2e31aa-f567-4b9e-b17e-9456de75d37b button.colab-df-convert');\n",
              "        buttonEl.style.display =\n",
              "          google.colab.kernel.accessAllowed ? 'block' : 'none';\n",
              "\n",
              "        async function convertToInteractive(key) {\n",
              "          const element = document.querySelector('#df-6d2e31aa-f567-4b9e-b17e-9456de75d37b');\n",
              "          const dataTable =\n",
              "            await google.colab.kernel.invokeFunction('convertToInteractive',\n",
              "                                                     [key], {});\n",
              "          if (!dataTable) return;\n",
              "\n",
              "          const docLinkHtml = 'Like what you see? Visit the ' +\n",
              "            '<a target=\"_blank\" href=https://colab.research.google.com/notebooks/data_table.ipynb>data table notebook</a>'\n",
              "            + ' to learn more about interactive tables.';\n",
              "          element.innerHTML = '';\n",
              "          dataTable['output_type'] = 'display_data';\n",
              "          await google.colab.output.renderOutput(dataTable, element);\n",
              "          const docLink = document.createElement('div');\n",
              "          docLink.innerHTML = docLinkHtml;\n",
              "          element.appendChild(docLink);\n",
              "        }\n",
              "      </script>\n",
              "    </div>\n",
              "  </div>\n",
              "  "
            ]
          },
          "metadata": {},
          "execution_count": 21
        }
      ],
      "source": [
        "df_representations_train.head()"
      ]
    },
    {
      "cell_type": "code",
      "execution_count": 22,
      "metadata": {
        "colab": {
          "base_uri": "https://localhost:8080/",
          "height": 0
        },
        "id": "ywPY1cVoCWyY",
        "outputId": "cff17bad-945e-403b-8934-df512ac1df93"
      },
      "outputs": [
        {
          "output_type": "execute_result",
          "data": {
            "text/plain": [
              "                                            ACCT_NBR  SUCCESSOR SUPPLIER  \\\n",
              "0  000A31FE38C6F648845941B642E287FE02000000DDCF2A...          2        Δ   \n",
              "1  000A31FE38C6F648845941B642E287FE02000000DDCFC0...          1        Δ   \n",
              "2  000A31FE38C6F648845941B642E287FE02000000DDCFC0...          2        L   \n",
              "3  000A31FE38C6F648845941B642E287FE02000000DDCFC0...          5        Φ   \n",
              "4  000A31FE38C6F648845941B642E287FE02000000DDD043...          1        Δ   \n",
              "\n",
              "  SUPPLIER_TO  START_DATE    END_DATE  \n",
              "0         NaN  1996-11-05  2022-09-16  \n",
              "1           L  1998-03-23  2018-02-27  \n",
              "2           W  2018-02-27  2019-10-02  \n",
              "3         NaN  2021-12-17  2022-09-16  \n",
              "4         NaN  1996-05-20  2016-05-20  "
            ],
            "text/html": [
              "\n",
              "  <div id=\"df-d37930ea-ad39-4174-a7fe-09320e4a3c40\">\n",
              "    <div class=\"colab-df-container\">\n",
              "      <div>\n",
              "<style scoped>\n",
              "    .dataframe tbody tr th:only-of-type {\n",
              "        vertical-align: middle;\n",
              "    }\n",
              "\n",
              "    .dataframe tbody tr th {\n",
              "        vertical-align: top;\n",
              "    }\n",
              "\n",
              "    .dataframe thead th {\n",
              "        text-align: right;\n",
              "    }\n",
              "</style>\n",
              "<table border=\"1\" class=\"dataframe\">\n",
              "  <thead>\n",
              "    <tr style=\"text-align: right;\">\n",
              "      <th></th>\n",
              "      <th>ACCT_NBR</th>\n",
              "      <th>SUCCESSOR</th>\n",
              "      <th>SUPPLIER</th>\n",
              "      <th>SUPPLIER_TO</th>\n",
              "      <th>START_DATE</th>\n",
              "      <th>END_DATE</th>\n",
              "    </tr>\n",
              "  </thead>\n",
              "  <tbody>\n",
              "    <tr>\n",
              "      <th>0</th>\n",
              "      <td>000A31FE38C6F648845941B642E287FE02000000DDCF2A...</td>\n",
              "      <td>2</td>\n",
              "      <td>Δ</td>\n",
              "      <td>NaN</td>\n",
              "      <td>1996-11-05</td>\n",
              "      <td>2022-09-16</td>\n",
              "    </tr>\n",
              "    <tr>\n",
              "      <th>1</th>\n",
              "      <td>000A31FE38C6F648845941B642E287FE02000000DDCFC0...</td>\n",
              "      <td>1</td>\n",
              "      <td>Δ</td>\n",
              "      <td>L</td>\n",
              "      <td>1998-03-23</td>\n",
              "      <td>2018-02-27</td>\n",
              "    </tr>\n",
              "    <tr>\n",
              "      <th>2</th>\n",
              "      <td>000A31FE38C6F648845941B642E287FE02000000DDCFC0...</td>\n",
              "      <td>2</td>\n",
              "      <td>L</td>\n",
              "      <td>W</td>\n",
              "      <td>2018-02-27</td>\n",
              "      <td>2019-10-02</td>\n",
              "    </tr>\n",
              "    <tr>\n",
              "      <th>3</th>\n",
              "      <td>000A31FE38C6F648845941B642E287FE02000000DDCFC0...</td>\n",
              "      <td>5</td>\n",
              "      <td>Φ</td>\n",
              "      <td>NaN</td>\n",
              "      <td>2021-12-17</td>\n",
              "      <td>2022-09-16</td>\n",
              "    </tr>\n",
              "    <tr>\n",
              "      <th>4</th>\n",
              "      <td>000A31FE38C6F648845941B642E287FE02000000DDD043...</td>\n",
              "      <td>1</td>\n",
              "      <td>Δ</td>\n",
              "      <td>NaN</td>\n",
              "      <td>1996-05-20</td>\n",
              "      <td>2016-05-20</td>\n",
              "    </tr>\n",
              "  </tbody>\n",
              "</table>\n",
              "</div>\n",
              "      <button class=\"colab-df-convert\" onclick=\"convertToInteractive('df-d37930ea-ad39-4174-a7fe-09320e4a3c40')\"\n",
              "              title=\"Convert this dataframe to an interactive table.\"\n",
              "              style=\"display:none;\">\n",
              "        \n",
              "  <svg xmlns=\"http://www.w3.org/2000/svg\" height=\"24px\"viewBox=\"0 0 24 24\"\n",
              "       width=\"24px\">\n",
              "    <path d=\"M0 0h24v24H0V0z\" fill=\"none\"/>\n",
              "    <path d=\"M18.56 5.44l.94 2.06.94-2.06 2.06-.94-2.06-.94-.94-2.06-.94 2.06-2.06.94zm-11 1L8.5 8.5l.94-2.06 2.06-.94-2.06-.94L8.5 2.5l-.94 2.06-2.06.94zm10 10l.94 2.06.94-2.06 2.06-.94-2.06-.94-.94-2.06-.94 2.06-2.06.94z\"/><path d=\"M17.41 7.96l-1.37-1.37c-.4-.4-.92-.59-1.43-.59-.52 0-1.04.2-1.43.59L10.3 9.45l-7.72 7.72c-.78.78-.78 2.05 0 2.83L4 21.41c.39.39.9.59 1.41.59.51 0 1.02-.2 1.41-.59l7.78-7.78 2.81-2.81c.8-.78.8-2.07 0-2.86zM5.41 20L4 18.59l7.72-7.72 1.47 1.35L5.41 20z\"/>\n",
              "  </svg>\n",
              "      </button>\n",
              "      \n",
              "  <style>\n",
              "    .colab-df-container {\n",
              "      display:flex;\n",
              "      flex-wrap:wrap;\n",
              "      gap: 12px;\n",
              "    }\n",
              "\n",
              "    .colab-df-convert {\n",
              "      background-color: #E8F0FE;\n",
              "      border: none;\n",
              "      border-radius: 50%;\n",
              "      cursor: pointer;\n",
              "      display: none;\n",
              "      fill: #1967D2;\n",
              "      height: 32px;\n",
              "      padding: 0 0 0 0;\n",
              "      width: 32px;\n",
              "    }\n",
              "\n",
              "    .colab-df-convert:hover {\n",
              "      background-color: #E2EBFA;\n",
              "      box-shadow: 0px 1px 2px rgba(60, 64, 67, 0.3), 0px 1px 3px 1px rgba(60, 64, 67, 0.15);\n",
              "      fill: #174EA6;\n",
              "    }\n",
              "\n",
              "    [theme=dark] .colab-df-convert {\n",
              "      background-color: #3B4455;\n",
              "      fill: #D2E3FC;\n",
              "    }\n",
              "\n",
              "    [theme=dark] .colab-df-convert:hover {\n",
              "      background-color: #434B5C;\n",
              "      box-shadow: 0px 1px 3px 1px rgba(0, 0, 0, 0.15);\n",
              "      filter: drop-shadow(0px 1px 2px rgba(0, 0, 0, 0.3));\n",
              "      fill: #FFFFFF;\n",
              "    }\n",
              "  </style>\n",
              "\n",
              "      <script>\n",
              "        const buttonEl =\n",
              "          document.querySelector('#df-d37930ea-ad39-4174-a7fe-09320e4a3c40 button.colab-df-convert');\n",
              "        buttonEl.style.display =\n",
              "          google.colab.kernel.accessAllowed ? 'block' : 'none';\n",
              "\n",
              "        async function convertToInteractive(key) {\n",
              "          const element = document.querySelector('#df-d37930ea-ad39-4174-a7fe-09320e4a3c40');\n",
              "          const dataTable =\n",
              "            await google.colab.kernel.invokeFunction('convertToInteractive',\n",
              "                                                     [key], {});\n",
              "          if (!dataTable) return;\n",
              "\n",
              "          const docLinkHtml = 'Like what you see? Visit the ' +\n",
              "            '<a target=\"_blank\" href=https://colab.research.google.com/notebooks/data_table.ipynb>data table notebook</a>'\n",
              "            + ' to learn more about interactive tables.';\n",
              "          element.innerHTML = '';\n",
              "          dataTable['output_type'] = 'display_data';\n",
              "          await google.colab.output.renderOutput(dataTable, element);\n",
              "          const docLink = document.createElement('div');\n",
              "          docLink.innerHTML = docLinkHtml;\n",
              "          element.appendChild(docLink);\n",
              "        }\n",
              "      </script>\n",
              "    </div>\n",
              "  </div>\n",
              "  "
            ]
          },
          "metadata": {},
          "execution_count": 22
        }
      ],
      "source": [
        "df_representations_test.head()"
      ]
    },
    {
      "cell_type": "code",
      "execution_count": 23,
      "metadata": {
        "colab": {
          "base_uri": "https://localhost:8080/",
          "height": 0
        },
        "id": "Cr9rU7wpklhl",
        "outputId": "0d984703-960f-4e8c-f0f0-21705ca12bbb"
      },
      "outputs": [
        {
          "output_type": "execute_result",
          "data": {
            "text/plain": [
              "                                            ACCT_NBR  SUCCESSOR REQUEST_TYPE  \\\n",
              "0  000A31FE38C6F648845941B642E287FE020000000AA1CA...          7        recon   \n",
              "1  000A31FE38C6F648845941B642E287FE020000000AA1D1...          3          NaN   \n",
              "2  000A31FE38C6F648845941B642E287FE020000000AA1D1...          4          NaN   \n",
              "3  000A31FE38C6F648845941B642E287FE020000000AA1D1...          5       discon   \n",
              "4  000A31FE38C6F648845941B642E287FE020000000AA1D1...          5   reprChange   \n",
              "\n",
              "  REQUEST_DATE COMPL_REQUEST_STATUS COMPLETION_DATE  \n",
              "0   2019-02-12                compl      2019-02-13  \n",
              "1   2015-05-26                compl      2015-05-28  \n",
              "2   2017-02-06                  NaN      2017-03-14  \n",
              "3   2018-06-28                compl      2018-09-27  \n",
              "4   2018-09-27                compl      2018-10-02  "
            ],
            "text/html": [
              "\n",
              "  <div id=\"df-0ff40dac-9829-434d-88d1-25d0d066e7eb\">\n",
              "    <div class=\"colab-df-container\">\n",
              "      <div>\n",
              "<style scoped>\n",
              "    .dataframe tbody tr th:only-of-type {\n",
              "        vertical-align: middle;\n",
              "    }\n",
              "\n",
              "    .dataframe tbody tr th {\n",
              "        vertical-align: top;\n",
              "    }\n",
              "\n",
              "    .dataframe thead th {\n",
              "        text-align: right;\n",
              "    }\n",
              "</style>\n",
              "<table border=\"1\" class=\"dataframe\">\n",
              "  <thead>\n",
              "    <tr style=\"text-align: right;\">\n",
              "      <th></th>\n",
              "      <th>ACCT_NBR</th>\n",
              "      <th>SUCCESSOR</th>\n",
              "      <th>REQUEST_TYPE</th>\n",
              "      <th>REQUEST_DATE</th>\n",
              "      <th>COMPL_REQUEST_STATUS</th>\n",
              "      <th>COMPLETION_DATE</th>\n",
              "    </tr>\n",
              "  </thead>\n",
              "  <tbody>\n",
              "    <tr>\n",
              "      <th>0</th>\n",
              "      <td>000A31FE38C6F648845941B642E287FE020000000AA1CA...</td>\n",
              "      <td>7</td>\n",
              "      <td>recon</td>\n",
              "      <td>2019-02-12</td>\n",
              "      <td>compl</td>\n",
              "      <td>2019-02-13</td>\n",
              "    </tr>\n",
              "    <tr>\n",
              "      <th>1</th>\n",
              "      <td>000A31FE38C6F648845941B642E287FE020000000AA1D1...</td>\n",
              "      <td>3</td>\n",
              "      <td>NaN</td>\n",
              "      <td>2015-05-26</td>\n",
              "      <td>compl</td>\n",
              "      <td>2015-05-28</td>\n",
              "    </tr>\n",
              "    <tr>\n",
              "      <th>2</th>\n",
              "      <td>000A31FE38C6F648845941B642E287FE020000000AA1D1...</td>\n",
              "      <td>4</td>\n",
              "      <td>NaN</td>\n",
              "      <td>2017-02-06</td>\n",
              "      <td>NaN</td>\n",
              "      <td>2017-03-14</td>\n",
              "    </tr>\n",
              "    <tr>\n",
              "      <th>3</th>\n",
              "      <td>000A31FE38C6F648845941B642E287FE020000000AA1D1...</td>\n",
              "      <td>5</td>\n",
              "      <td>discon</td>\n",
              "      <td>2018-06-28</td>\n",
              "      <td>compl</td>\n",
              "      <td>2018-09-27</td>\n",
              "    </tr>\n",
              "    <tr>\n",
              "      <th>4</th>\n",
              "      <td>000A31FE38C6F648845941B642E287FE020000000AA1D1...</td>\n",
              "      <td>5</td>\n",
              "      <td>reprChange</td>\n",
              "      <td>2018-09-27</td>\n",
              "      <td>compl</td>\n",
              "      <td>2018-10-02</td>\n",
              "    </tr>\n",
              "  </tbody>\n",
              "</table>\n",
              "</div>\n",
              "      <button class=\"colab-df-convert\" onclick=\"convertToInteractive('df-0ff40dac-9829-434d-88d1-25d0d066e7eb')\"\n",
              "              title=\"Convert this dataframe to an interactive table.\"\n",
              "              style=\"display:none;\">\n",
              "        \n",
              "  <svg xmlns=\"http://www.w3.org/2000/svg\" height=\"24px\"viewBox=\"0 0 24 24\"\n",
              "       width=\"24px\">\n",
              "    <path d=\"M0 0h24v24H0V0z\" fill=\"none\"/>\n",
              "    <path d=\"M18.56 5.44l.94 2.06.94-2.06 2.06-.94-2.06-.94-.94-2.06-.94 2.06-2.06.94zm-11 1L8.5 8.5l.94-2.06 2.06-.94-2.06-.94L8.5 2.5l-.94 2.06-2.06.94zm10 10l.94 2.06.94-2.06 2.06-.94-2.06-.94-.94-2.06-.94 2.06-2.06.94z\"/><path d=\"M17.41 7.96l-1.37-1.37c-.4-.4-.92-.59-1.43-.59-.52 0-1.04.2-1.43.59L10.3 9.45l-7.72 7.72c-.78.78-.78 2.05 0 2.83L4 21.41c.39.39.9.59 1.41.59.51 0 1.02-.2 1.41-.59l7.78-7.78 2.81-2.81c.8-.78.8-2.07 0-2.86zM5.41 20L4 18.59l7.72-7.72 1.47 1.35L5.41 20z\"/>\n",
              "  </svg>\n",
              "      </button>\n",
              "      \n",
              "  <style>\n",
              "    .colab-df-container {\n",
              "      display:flex;\n",
              "      flex-wrap:wrap;\n",
              "      gap: 12px;\n",
              "    }\n",
              "\n",
              "    .colab-df-convert {\n",
              "      background-color: #E8F0FE;\n",
              "      border: none;\n",
              "      border-radius: 50%;\n",
              "      cursor: pointer;\n",
              "      display: none;\n",
              "      fill: #1967D2;\n",
              "      height: 32px;\n",
              "      padding: 0 0 0 0;\n",
              "      width: 32px;\n",
              "    }\n",
              "\n",
              "    .colab-df-convert:hover {\n",
              "      background-color: #E2EBFA;\n",
              "      box-shadow: 0px 1px 2px rgba(60, 64, 67, 0.3), 0px 1px 3px 1px rgba(60, 64, 67, 0.15);\n",
              "      fill: #174EA6;\n",
              "    }\n",
              "\n",
              "    [theme=dark] .colab-df-convert {\n",
              "      background-color: #3B4455;\n",
              "      fill: #D2E3FC;\n",
              "    }\n",
              "\n",
              "    [theme=dark] .colab-df-convert:hover {\n",
              "      background-color: #434B5C;\n",
              "      box-shadow: 0px 1px 3px 1px rgba(0, 0, 0, 0.15);\n",
              "      filter: drop-shadow(0px 1px 2px rgba(0, 0, 0, 0.3));\n",
              "      fill: #FFFFFF;\n",
              "    }\n",
              "  </style>\n",
              "\n",
              "      <script>\n",
              "        const buttonEl =\n",
              "          document.querySelector('#df-0ff40dac-9829-434d-88d1-25d0d066e7eb button.colab-df-convert');\n",
              "        buttonEl.style.display =\n",
              "          google.colab.kernel.accessAllowed ? 'block' : 'none';\n",
              "\n",
              "        async function convertToInteractive(key) {\n",
              "          const element = document.querySelector('#df-0ff40dac-9829-434d-88d1-25d0d066e7eb');\n",
              "          const dataTable =\n",
              "            await google.colab.kernel.invokeFunction('convertToInteractive',\n",
              "                                                     [key], {});\n",
              "          if (!dataTable) return;\n",
              "\n",
              "          const docLinkHtml = 'Like what you see? Visit the ' +\n",
              "            '<a target=\"_blank\" href=https://colab.research.google.com/notebooks/data_table.ipynb>data table notebook</a>'\n",
              "            + ' to learn more about interactive tables.';\n",
              "          element.innerHTML = '';\n",
              "          dataTable['output_type'] = 'display_data';\n",
              "          await google.colab.output.renderOutput(dataTable, element);\n",
              "          const docLink = document.createElement('div');\n",
              "          docLink.innerHTML = docLinkHtml;\n",
              "          element.appendChild(docLink);\n",
              "        }\n",
              "      </script>\n",
              "    </div>\n",
              "  </div>\n",
              "  "
            ]
          },
          "metadata": {},
          "execution_count": 23
        }
      ],
      "source": [
        "df_requests_train.head()"
      ]
    },
    {
      "cell_type": "code",
      "execution_count": 24,
      "metadata": {
        "colab": {
          "base_uri": "https://localhost:8080/",
          "height": 0
        },
        "id": "nZYJAJVoCZRz",
        "outputId": "9116a00d-9ac1-4f3a-c4b4-2dfd47d0fd61"
      },
      "outputs": [
        {
          "output_type": "execute_result",
          "data": {
            "text/plain": [
              "                                            ACCT_NBR  SUCCESSOR REQUEST_TYPE  \\\n",
              "0  000A31FE38C6F648845941B642E287FE020000000001BF...          1       discon   \n",
              "1  000A31FE38C6F648845941B642E287FE020000000001BF...          1        recon   \n",
              "2  000A31FE38C6F648845941B642E287FE020000000001BF...          1        recon   \n",
              "3  000A31FE38C6F648845941B642E287FE020000000001BF...          1        recon   \n",
              "4  000A31FE38C6F648845941B642E287FE020000000001BF...          1        recon   \n",
              "\n",
              "  REQUEST_DATE COMPL_REQUEST_STATUS COMPLETION_DATE  \n",
              "0   2014-10-11                compl      2014-11-13  \n",
              "1   2014-11-14                compl      2014-11-19  \n",
              "2   2014-11-24                  NaN      2014-11-24  \n",
              "3   2018-02-02                compl      2018-02-02  \n",
              "4   2018-08-01                compl      2018-08-01  "
            ],
            "text/html": [
              "\n",
              "  <div id=\"df-d79c93b9-330d-4a46-9356-32dd709ef942\">\n",
              "    <div class=\"colab-df-container\">\n",
              "      <div>\n",
              "<style scoped>\n",
              "    .dataframe tbody tr th:only-of-type {\n",
              "        vertical-align: middle;\n",
              "    }\n",
              "\n",
              "    .dataframe tbody tr th {\n",
              "        vertical-align: top;\n",
              "    }\n",
              "\n",
              "    .dataframe thead th {\n",
              "        text-align: right;\n",
              "    }\n",
              "</style>\n",
              "<table border=\"1\" class=\"dataframe\">\n",
              "  <thead>\n",
              "    <tr style=\"text-align: right;\">\n",
              "      <th></th>\n",
              "      <th>ACCT_NBR</th>\n",
              "      <th>SUCCESSOR</th>\n",
              "      <th>REQUEST_TYPE</th>\n",
              "      <th>REQUEST_DATE</th>\n",
              "      <th>COMPL_REQUEST_STATUS</th>\n",
              "      <th>COMPLETION_DATE</th>\n",
              "    </tr>\n",
              "  </thead>\n",
              "  <tbody>\n",
              "    <tr>\n",
              "      <th>0</th>\n",
              "      <td>000A31FE38C6F648845941B642E287FE020000000001BF...</td>\n",
              "      <td>1</td>\n",
              "      <td>discon</td>\n",
              "      <td>2014-10-11</td>\n",
              "      <td>compl</td>\n",
              "      <td>2014-11-13</td>\n",
              "    </tr>\n",
              "    <tr>\n",
              "      <th>1</th>\n",
              "      <td>000A31FE38C6F648845941B642E287FE020000000001BF...</td>\n",
              "      <td>1</td>\n",
              "      <td>recon</td>\n",
              "      <td>2014-11-14</td>\n",
              "      <td>compl</td>\n",
              "      <td>2014-11-19</td>\n",
              "    </tr>\n",
              "    <tr>\n",
              "      <th>2</th>\n",
              "      <td>000A31FE38C6F648845941B642E287FE020000000001BF...</td>\n",
              "      <td>1</td>\n",
              "      <td>recon</td>\n",
              "      <td>2014-11-24</td>\n",
              "      <td>NaN</td>\n",
              "      <td>2014-11-24</td>\n",
              "    </tr>\n",
              "    <tr>\n",
              "      <th>3</th>\n",
              "      <td>000A31FE38C6F648845941B642E287FE020000000001BF...</td>\n",
              "      <td>1</td>\n",
              "      <td>recon</td>\n",
              "      <td>2018-02-02</td>\n",
              "      <td>compl</td>\n",
              "      <td>2018-02-02</td>\n",
              "    </tr>\n",
              "    <tr>\n",
              "      <th>4</th>\n",
              "      <td>000A31FE38C6F648845941B642E287FE020000000001BF...</td>\n",
              "      <td>1</td>\n",
              "      <td>recon</td>\n",
              "      <td>2018-08-01</td>\n",
              "      <td>compl</td>\n",
              "      <td>2018-08-01</td>\n",
              "    </tr>\n",
              "  </tbody>\n",
              "</table>\n",
              "</div>\n",
              "      <button class=\"colab-df-convert\" onclick=\"convertToInteractive('df-d79c93b9-330d-4a46-9356-32dd709ef942')\"\n",
              "              title=\"Convert this dataframe to an interactive table.\"\n",
              "              style=\"display:none;\">\n",
              "        \n",
              "  <svg xmlns=\"http://www.w3.org/2000/svg\" height=\"24px\"viewBox=\"0 0 24 24\"\n",
              "       width=\"24px\">\n",
              "    <path d=\"M0 0h24v24H0V0z\" fill=\"none\"/>\n",
              "    <path d=\"M18.56 5.44l.94 2.06.94-2.06 2.06-.94-2.06-.94-.94-2.06-.94 2.06-2.06.94zm-11 1L8.5 8.5l.94-2.06 2.06-.94-2.06-.94L8.5 2.5l-.94 2.06-2.06.94zm10 10l.94 2.06.94-2.06 2.06-.94-2.06-.94-.94-2.06-.94 2.06-2.06.94z\"/><path d=\"M17.41 7.96l-1.37-1.37c-.4-.4-.92-.59-1.43-.59-.52 0-1.04.2-1.43.59L10.3 9.45l-7.72 7.72c-.78.78-.78 2.05 0 2.83L4 21.41c.39.39.9.59 1.41.59.51 0 1.02-.2 1.41-.59l7.78-7.78 2.81-2.81c.8-.78.8-2.07 0-2.86zM5.41 20L4 18.59l7.72-7.72 1.47 1.35L5.41 20z\"/>\n",
              "  </svg>\n",
              "      </button>\n",
              "      \n",
              "  <style>\n",
              "    .colab-df-container {\n",
              "      display:flex;\n",
              "      flex-wrap:wrap;\n",
              "      gap: 12px;\n",
              "    }\n",
              "\n",
              "    .colab-df-convert {\n",
              "      background-color: #E8F0FE;\n",
              "      border: none;\n",
              "      border-radius: 50%;\n",
              "      cursor: pointer;\n",
              "      display: none;\n",
              "      fill: #1967D2;\n",
              "      height: 32px;\n",
              "      padding: 0 0 0 0;\n",
              "      width: 32px;\n",
              "    }\n",
              "\n",
              "    .colab-df-convert:hover {\n",
              "      background-color: #E2EBFA;\n",
              "      box-shadow: 0px 1px 2px rgba(60, 64, 67, 0.3), 0px 1px 3px 1px rgba(60, 64, 67, 0.15);\n",
              "      fill: #174EA6;\n",
              "    }\n",
              "\n",
              "    [theme=dark] .colab-df-convert {\n",
              "      background-color: #3B4455;\n",
              "      fill: #D2E3FC;\n",
              "    }\n",
              "\n",
              "    [theme=dark] .colab-df-convert:hover {\n",
              "      background-color: #434B5C;\n",
              "      box-shadow: 0px 1px 3px 1px rgba(0, 0, 0, 0.15);\n",
              "      filter: drop-shadow(0px 1px 2px rgba(0, 0, 0, 0.3));\n",
              "      fill: #FFFFFF;\n",
              "    }\n",
              "  </style>\n",
              "\n",
              "      <script>\n",
              "        const buttonEl =\n",
              "          document.querySelector('#df-d79c93b9-330d-4a46-9356-32dd709ef942 button.colab-df-convert');\n",
              "        buttonEl.style.display =\n",
              "          google.colab.kernel.accessAllowed ? 'block' : 'none';\n",
              "\n",
              "        async function convertToInteractive(key) {\n",
              "          const element = document.querySelector('#df-d79c93b9-330d-4a46-9356-32dd709ef942');\n",
              "          const dataTable =\n",
              "            await google.colab.kernel.invokeFunction('convertToInteractive',\n",
              "                                                     [key], {});\n",
              "          if (!dataTable) return;\n",
              "\n",
              "          const docLinkHtml = 'Like what you see? Visit the ' +\n",
              "            '<a target=\"_blank\" href=https://colab.research.google.com/notebooks/data_table.ipynb>data table notebook</a>'\n",
              "            + ' to learn more about interactive tables.';\n",
              "          element.innerHTML = '';\n",
              "          dataTable['output_type'] = 'display_data';\n",
              "          await google.colab.output.renderOutput(dataTable, element);\n",
              "          const docLink = document.createElement('div');\n",
              "          docLink.innerHTML = docLinkHtml;\n",
              "          element.appendChild(docLink);\n",
              "        }\n",
              "      </script>\n",
              "    </div>\n",
              "  </div>\n",
              "  "
            ]
          },
          "metadata": {},
          "execution_count": 24
        }
      ],
      "source": [
        "df_requests_test.head()"
      ]
    },
    {
      "cell_type": "code",
      "execution_count": 25,
      "metadata": {
        "colab": {
          "base_uri": "https://localhost:8080/",
          "height": 0
        },
        "id": "DEYZEFlnklmO",
        "outputId": "10efe44d-a73d-4e08-e3e2-4fdaa40a6c67"
      },
      "outputs": [
        {
          "output_type": "execute_result",
          "data": {
            "text/plain": [
              "                                            ACCT_NBR  SUCCESSOR BS_RATE  \\\n",
              "0  000A31FE38C6F648845941B642E287FE02000000B7602D...          1      13   \n",
              "1  000A31FE38C6F648845941B642E287FE020000003CC307...          1      11   \n",
              "2  000A31FE38C6F648845941B642E287FE02000000543AF1...          1      13   \n",
              "3  000A31FE38C6F648845941B642E287FE02000000617012...          1      13   \n",
              "4  000A31FE38C6F648845941B642E287FE020000006CBF0C...          1      13   \n",
              "\n",
              "                                        MS_METER_NBR  CSS_MS_HS_USE  \\\n",
              "0  000A31FE38C6F648845941B642E287FE0200000032011D...             56   \n",
              "1  000A31FE38C6F648845941B642E287FE020000002BFDE8...           2236   \n",
              "2  000A31FE38C6F648845941B642E287FE0200000055887E...            678   \n",
              "3  000A31FE38C6F648845941B642E287FE02000000310114...            156   \n",
              "4  000A31FE38C6F648845941B642E287FE02000000B94B46...            502   \n",
              "\n",
              "  MEASUREMENT_DATE  \n",
              "0       2019-08-26  \n",
              "1       2022-03-10  \n",
              "2       2021-04-20  \n",
              "3       2022-04-27  \n",
              "4       2022-06-03  "
            ],
            "text/html": [
              "\n",
              "  <div id=\"df-782ff047-91ad-445c-89ce-35b958a5b32c\">\n",
              "    <div class=\"colab-df-container\">\n",
              "      <div>\n",
              "<style scoped>\n",
              "    .dataframe tbody tr th:only-of-type {\n",
              "        vertical-align: middle;\n",
              "    }\n",
              "\n",
              "    .dataframe tbody tr th {\n",
              "        vertical-align: top;\n",
              "    }\n",
              "\n",
              "    .dataframe thead th {\n",
              "        text-align: right;\n",
              "    }\n",
              "</style>\n",
              "<table border=\"1\" class=\"dataframe\">\n",
              "  <thead>\n",
              "    <tr style=\"text-align: right;\">\n",
              "      <th></th>\n",
              "      <th>ACCT_NBR</th>\n",
              "      <th>SUCCESSOR</th>\n",
              "      <th>BS_RATE</th>\n",
              "      <th>MS_METER_NBR</th>\n",
              "      <th>CSS_MS_HS_USE</th>\n",
              "      <th>MEASUREMENT_DATE</th>\n",
              "    </tr>\n",
              "  </thead>\n",
              "  <tbody>\n",
              "    <tr>\n",
              "      <th>0</th>\n",
              "      <td>000A31FE38C6F648845941B642E287FE02000000B7602D...</td>\n",
              "      <td>1</td>\n",
              "      <td>13</td>\n",
              "      <td>000A31FE38C6F648845941B642E287FE0200000032011D...</td>\n",
              "      <td>56</td>\n",
              "      <td>2019-08-26</td>\n",
              "    </tr>\n",
              "    <tr>\n",
              "      <th>1</th>\n",
              "      <td>000A31FE38C6F648845941B642E287FE020000003CC307...</td>\n",
              "      <td>1</td>\n",
              "      <td>11</td>\n",
              "      <td>000A31FE38C6F648845941B642E287FE020000002BFDE8...</td>\n",
              "      <td>2236</td>\n",
              "      <td>2022-03-10</td>\n",
              "    </tr>\n",
              "    <tr>\n",
              "      <th>2</th>\n",
              "      <td>000A31FE38C6F648845941B642E287FE02000000543AF1...</td>\n",
              "      <td>1</td>\n",
              "      <td>13</td>\n",
              "      <td>000A31FE38C6F648845941B642E287FE0200000055887E...</td>\n",
              "      <td>678</td>\n",
              "      <td>2021-04-20</td>\n",
              "    </tr>\n",
              "    <tr>\n",
              "      <th>3</th>\n",
              "      <td>000A31FE38C6F648845941B642E287FE02000000617012...</td>\n",
              "      <td>1</td>\n",
              "      <td>13</td>\n",
              "      <td>000A31FE38C6F648845941B642E287FE02000000310114...</td>\n",
              "      <td>156</td>\n",
              "      <td>2022-04-27</td>\n",
              "    </tr>\n",
              "    <tr>\n",
              "      <th>4</th>\n",
              "      <td>000A31FE38C6F648845941B642E287FE020000006CBF0C...</td>\n",
              "      <td>1</td>\n",
              "      <td>13</td>\n",
              "      <td>000A31FE38C6F648845941B642E287FE02000000B94B46...</td>\n",
              "      <td>502</td>\n",
              "      <td>2022-06-03</td>\n",
              "    </tr>\n",
              "  </tbody>\n",
              "</table>\n",
              "</div>\n",
              "      <button class=\"colab-df-convert\" onclick=\"convertToInteractive('df-782ff047-91ad-445c-89ce-35b958a5b32c')\"\n",
              "              title=\"Convert this dataframe to an interactive table.\"\n",
              "              style=\"display:none;\">\n",
              "        \n",
              "  <svg xmlns=\"http://www.w3.org/2000/svg\" height=\"24px\"viewBox=\"0 0 24 24\"\n",
              "       width=\"24px\">\n",
              "    <path d=\"M0 0h24v24H0V0z\" fill=\"none\"/>\n",
              "    <path d=\"M18.56 5.44l.94 2.06.94-2.06 2.06-.94-2.06-.94-.94-2.06-.94 2.06-2.06.94zm-11 1L8.5 8.5l.94-2.06 2.06-.94-2.06-.94L8.5 2.5l-.94 2.06-2.06.94zm10 10l.94 2.06.94-2.06 2.06-.94-2.06-.94-.94-2.06-.94 2.06-2.06.94z\"/><path d=\"M17.41 7.96l-1.37-1.37c-.4-.4-.92-.59-1.43-.59-.52 0-1.04.2-1.43.59L10.3 9.45l-7.72 7.72c-.78.78-.78 2.05 0 2.83L4 21.41c.39.39.9.59 1.41.59.51 0 1.02-.2 1.41-.59l7.78-7.78 2.81-2.81c.8-.78.8-2.07 0-2.86zM5.41 20L4 18.59l7.72-7.72 1.47 1.35L5.41 20z\"/>\n",
              "  </svg>\n",
              "      </button>\n",
              "      \n",
              "  <style>\n",
              "    .colab-df-container {\n",
              "      display:flex;\n",
              "      flex-wrap:wrap;\n",
              "      gap: 12px;\n",
              "    }\n",
              "\n",
              "    .colab-df-convert {\n",
              "      background-color: #E8F0FE;\n",
              "      border: none;\n",
              "      border-radius: 50%;\n",
              "      cursor: pointer;\n",
              "      display: none;\n",
              "      fill: #1967D2;\n",
              "      height: 32px;\n",
              "      padding: 0 0 0 0;\n",
              "      width: 32px;\n",
              "    }\n",
              "\n",
              "    .colab-df-convert:hover {\n",
              "      background-color: #E2EBFA;\n",
              "      box-shadow: 0px 1px 2px rgba(60, 64, 67, 0.3), 0px 1px 3px 1px rgba(60, 64, 67, 0.15);\n",
              "      fill: #174EA6;\n",
              "    }\n",
              "\n",
              "    [theme=dark] .colab-df-convert {\n",
              "      background-color: #3B4455;\n",
              "      fill: #D2E3FC;\n",
              "    }\n",
              "\n",
              "    [theme=dark] .colab-df-convert:hover {\n",
              "      background-color: #434B5C;\n",
              "      box-shadow: 0px 1px 3px 1px rgba(0, 0, 0, 0.15);\n",
              "      filter: drop-shadow(0px 1px 2px rgba(0, 0, 0, 0.3));\n",
              "      fill: #FFFFFF;\n",
              "    }\n",
              "  </style>\n",
              "\n",
              "      <script>\n",
              "        const buttonEl =\n",
              "          document.querySelector('#df-782ff047-91ad-445c-89ce-35b958a5b32c button.colab-df-convert');\n",
              "        buttonEl.style.display =\n",
              "          google.colab.kernel.accessAllowed ? 'block' : 'none';\n",
              "\n",
              "        async function convertToInteractive(key) {\n",
              "          const element = document.querySelector('#df-782ff047-91ad-445c-89ce-35b958a5b32c');\n",
              "          const dataTable =\n",
              "            await google.colab.kernel.invokeFunction('convertToInteractive',\n",
              "                                                     [key], {});\n",
              "          if (!dataTable) return;\n",
              "\n",
              "          const docLinkHtml = 'Like what you see? Visit the ' +\n",
              "            '<a target=\"_blank\" href=https://colab.research.google.com/notebooks/data_table.ipynb>data table notebook</a>'\n",
              "            + ' to learn more about interactive tables.';\n",
              "          element.innerHTML = '';\n",
              "          dataTable['output_type'] = 'display_data';\n",
              "          await google.colab.output.renderOutput(dataTable, element);\n",
              "          const docLink = document.createElement('div');\n",
              "          docLink.innerHTML = docLinkHtml;\n",
              "          element.appendChild(docLink);\n",
              "        }\n",
              "      </script>\n",
              "    </div>\n",
              "  </div>\n",
              "  "
            ]
          },
          "metadata": {},
          "execution_count": 25
        }
      ],
      "source": [
        "df_consumptions_train.head()"
      ]
    },
    {
      "cell_type": "code",
      "execution_count": 26,
      "metadata": {
        "colab": {
          "base_uri": "https://localhost:8080/",
          "height": 0
        },
        "id": "1sfuydjgCcFn",
        "outputId": "c6bbf69b-b6a5-4674-9459-121a9eb9d1e2"
      },
      "outputs": [
        {
          "output_type": "execute_result",
          "data": {
            "text/plain": [
              "                                            ACCT_NBR  SUCCESSOR  BS_RATE  \\\n",
              "0  000A31FE38C6F648845941B642E287FE0200000011084B...          2       10   \n",
              "1  000A31FE38C6F648845941B642E287FE0200000011084B...          2       10   \n",
              "2  000A31FE38C6F648845941B642E287FE0200000011084B...          1       10   \n",
              "3  000A31FE38C6F648845941B642E287FE02000000BCD832...          4       10   \n",
              "4  000A31FE38C6F648845941B642E287FE02000000BCD832...          2       10   \n",
              "\n",
              "                                        MS_METER_NBR  CSS_MS_HS_USE  \\\n",
              "0  000A31FE38C6F648845941B642E287FE020000003C4E97...            412   \n",
              "1  000A31FE38C6F648845941B642E287FE020000003C4E97...            807   \n",
              "2  000A31FE38C6F648845941B642E287FE020000003C4E97...           1188   \n",
              "3  000A31FE38C6F648845941B642E287FE02000000C30DC8...           1333   \n",
              "4  000A31FE38C6F648845941B642E287FE02000000C30DC8...           1110   \n",
              "\n",
              "  MEASUREMENT_DATE  \n",
              "0       2022-07-18  \n",
              "1       2020-11-17  \n",
              "2       2019-03-14  \n",
              "3       2022-09-14  \n",
              "4       2019-09-12  "
            ],
            "text/html": [
              "\n",
              "  <div id=\"df-b0bad482-7662-4875-a69e-24fc4a58f098\">\n",
              "    <div class=\"colab-df-container\">\n",
              "      <div>\n",
              "<style scoped>\n",
              "    .dataframe tbody tr th:only-of-type {\n",
              "        vertical-align: middle;\n",
              "    }\n",
              "\n",
              "    .dataframe tbody tr th {\n",
              "        vertical-align: top;\n",
              "    }\n",
              "\n",
              "    .dataframe thead th {\n",
              "        text-align: right;\n",
              "    }\n",
              "</style>\n",
              "<table border=\"1\" class=\"dataframe\">\n",
              "  <thead>\n",
              "    <tr style=\"text-align: right;\">\n",
              "      <th></th>\n",
              "      <th>ACCT_NBR</th>\n",
              "      <th>SUCCESSOR</th>\n",
              "      <th>BS_RATE</th>\n",
              "      <th>MS_METER_NBR</th>\n",
              "      <th>CSS_MS_HS_USE</th>\n",
              "      <th>MEASUREMENT_DATE</th>\n",
              "    </tr>\n",
              "  </thead>\n",
              "  <tbody>\n",
              "    <tr>\n",
              "      <th>0</th>\n",
              "      <td>000A31FE38C6F648845941B642E287FE0200000011084B...</td>\n",
              "      <td>2</td>\n",
              "      <td>10</td>\n",
              "      <td>000A31FE38C6F648845941B642E287FE020000003C4E97...</td>\n",
              "      <td>412</td>\n",
              "      <td>2022-07-18</td>\n",
              "    </tr>\n",
              "    <tr>\n",
              "      <th>1</th>\n",
              "      <td>000A31FE38C6F648845941B642E287FE0200000011084B...</td>\n",
              "      <td>2</td>\n",
              "      <td>10</td>\n",
              "      <td>000A31FE38C6F648845941B642E287FE020000003C4E97...</td>\n",
              "      <td>807</td>\n",
              "      <td>2020-11-17</td>\n",
              "    </tr>\n",
              "    <tr>\n",
              "      <th>2</th>\n",
              "      <td>000A31FE38C6F648845941B642E287FE0200000011084B...</td>\n",
              "      <td>1</td>\n",
              "      <td>10</td>\n",
              "      <td>000A31FE38C6F648845941B642E287FE020000003C4E97...</td>\n",
              "      <td>1188</td>\n",
              "      <td>2019-03-14</td>\n",
              "    </tr>\n",
              "    <tr>\n",
              "      <th>3</th>\n",
              "      <td>000A31FE38C6F648845941B642E287FE02000000BCD832...</td>\n",
              "      <td>4</td>\n",
              "      <td>10</td>\n",
              "      <td>000A31FE38C6F648845941B642E287FE02000000C30DC8...</td>\n",
              "      <td>1333</td>\n",
              "      <td>2022-09-14</td>\n",
              "    </tr>\n",
              "    <tr>\n",
              "      <th>4</th>\n",
              "      <td>000A31FE38C6F648845941B642E287FE02000000BCD832...</td>\n",
              "      <td>2</td>\n",
              "      <td>10</td>\n",
              "      <td>000A31FE38C6F648845941B642E287FE02000000C30DC8...</td>\n",
              "      <td>1110</td>\n",
              "      <td>2019-09-12</td>\n",
              "    </tr>\n",
              "  </tbody>\n",
              "</table>\n",
              "</div>\n",
              "      <button class=\"colab-df-convert\" onclick=\"convertToInteractive('df-b0bad482-7662-4875-a69e-24fc4a58f098')\"\n",
              "              title=\"Convert this dataframe to an interactive table.\"\n",
              "              style=\"display:none;\">\n",
              "        \n",
              "  <svg xmlns=\"http://www.w3.org/2000/svg\" height=\"24px\"viewBox=\"0 0 24 24\"\n",
              "       width=\"24px\">\n",
              "    <path d=\"M0 0h24v24H0V0z\" fill=\"none\"/>\n",
              "    <path d=\"M18.56 5.44l.94 2.06.94-2.06 2.06-.94-2.06-.94-.94-2.06-.94 2.06-2.06.94zm-11 1L8.5 8.5l.94-2.06 2.06-.94-2.06-.94L8.5 2.5l-.94 2.06-2.06.94zm10 10l.94 2.06.94-2.06 2.06-.94-2.06-.94-.94-2.06-.94 2.06-2.06.94z\"/><path d=\"M17.41 7.96l-1.37-1.37c-.4-.4-.92-.59-1.43-.59-.52 0-1.04.2-1.43.59L10.3 9.45l-7.72 7.72c-.78.78-.78 2.05 0 2.83L4 21.41c.39.39.9.59 1.41.59.51 0 1.02-.2 1.41-.59l7.78-7.78 2.81-2.81c.8-.78.8-2.07 0-2.86zM5.41 20L4 18.59l7.72-7.72 1.47 1.35L5.41 20z\"/>\n",
              "  </svg>\n",
              "      </button>\n",
              "      \n",
              "  <style>\n",
              "    .colab-df-container {\n",
              "      display:flex;\n",
              "      flex-wrap:wrap;\n",
              "      gap: 12px;\n",
              "    }\n",
              "\n",
              "    .colab-df-convert {\n",
              "      background-color: #E8F0FE;\n",
              "      border: none;\n",
              "      border-radius: 50%;\n",
              "      cursor: pointer;\n",
              "      display: none;\n",
              "      fill: #1967D2;\n",
              "      height: 32px;\n",
              "      padding: 0 0 0 0;\n",
              "      width: 32px;\n",
              "    }\n",
              "\n",
              "    .colab-df-convert:hover {\n",
              "      background-color: #E2EBFA;\n",
              "      box-shadow: 0px 1px 2px rgba(60, 64, 67, 0.3), 0px 1px 3px 1px rgba(60, 64, 67, 0.15);\n",
              "      fill: #174EA6;\n",
              "    }\n",
              "\n",
              "    [theme=dark] .colab-df-convert {\n",
              "      background-color: #3B4455;\n",
              "      fill: #D2E3FC;\n",
              "    }\n",
              "\n",
              "    [theme=dark] .colab-df-convert:hover {\n",
              "      background-color: #434B5C;\n",
              "      box-shadow: 0px 1px 3px 1px rgba(0, 0, 0, 0.15);\n",
              "      filter: drop-shadow(0px 1px 2px rgba(0, 0, 0, 0.3));\n",
              "      fill: #FFFFFF;\n",
              "    }\n",
              "  </style>\n",
              "\n",
              "      <script>\n",
              "        const buttonEl =\n",
              "          document.querySelector('#df-b0bad482-7662-4875-a69e-24fc4a58f098 button.colab-df-convert');\n",
              "        buttonEl.style.display =\n",
              "          google.colab.kernel.accessAllowed ? 'block' : 'none';\n",
              "\n",
              "        async function convertToInteractive(key) {\n",
              "          const element = document.querySelector('#df-b0bad482-7662-4875-a69e-24fc4a58f098');\n",
              "          const dataTable =\n",
              "            await google.colab.kernel.invokeFunction('convertToInteractive',\n",
              "                                                     [key], {});\n",
              "          if (!dataTable) return;\n",
              "\n",
              "          const docLinkHtml = 'Like what you see? Visit the ' +\n",
              "            '<a target=\"_blank\" href=https://colab.research.google.com/notebooks/data_table.ipynb>data table notebook</a>'\n",
              "            + ' to learn more about interactive tables.';\n",
              "          element.innerHTML = '';\n",
              "          dataTable['output_type'] = 'display_data';\n",
              "          await google.colab.output.renderOutput(dataTable, element);\n",
              "          const docLink = document.createElement('div');\n",
              "          docLink.innerHTML = docLinkHtml;\n",
              "          element.appendChild(docLink);\n",
              "        }\n",
              "      </script>\n",
              "    </div>\n",
              "  </div>\n",
              "  "
            ]
          },
          "metadata": {},
          "execution_count": 26
        }
      ],
      "source": [
        "df_consumptions_test.head()"
      ]
    },
    {
      "cell_type": "markdown",
      "metadata": {
        "id": "1-Tqbhpkk7Bp"
      },
      "source": [
        "##Data Info"
      ]
    },
    {
      "cell_type": "code",
      "execution_count": 27,
      "metadata": {
        "colab": {
          "base_uri": "https://localhost:8080/"
        },
        "id": "nZEfnFCZk-oL",
        "outputId": "f8a7c1cd-b899-43ba-c9b2-321ac077be5b"
      },
      "outputs": [
        {
          "output_type": "stream",
          "name": "stdout",
          "text": [
            "<class 'pandas.core.frame.DataFrame'>\n",
            "RangeIndex: 1234509 entries, 0 to 1234508\n",
            "Data columns (total 9 columns):\n",
            " #   Column             Non-Null Count    Dtype  \n",
            "---  ------             --------------    -----  \n",
            " 0   ACCT_NBR           1234509 non-null  object \n",
            " 1   SUCCESSOR          1234509 non-null  int64  \n",
            " 2   VOLTAGE            1234509 non-null  object \n",
            " 3   PARNO              1234509 non-null  int64  \n",
            " 4   XRHSH              1234509 non-null  int64  \n",
            " 5   CONTRACT_CAPACITY  1233327 non-null  float64\n",
            " 6   ACCT_CONTROL       1234509 non-null  int64  \n",
            " 7   ACCT_WGS84_X       1234509 non-null  object \n",
            " 8   ACCT_WGS84_Y       1234509 non-null  object \n",
            "dtypes: float64(1), int64(4), object(4)\n",
            "memory usage: 84.8+ MB\n"
          ]
        }
      ],
      "source": [
        "df_records_train.info()"
      ]
    },
    {
      "cell_type": "code",
      "execution_count": 28,
      "metadata": {
        "colab": {
          "base_uri": "https://localhost:8080/"
        },
        "id": "4PiI_UGpCgsl",
        "outputId": "724b8a90-a062-447a-8069-e0e6e720184d"
      },
      "outputs": [
        {
          "output_type": "stream",
          "name": "stdout",
          "text": [
            "<class 'pandas.core.frame.DataFrame'>\n",
            "RangeIndex: 137534 entries, 0 to 137533\n",
            "Data columns (total 9 columns):\n",
            " #   Column             Non-Null Count   Dtype \n",
            "---  ------             --------------   ----- \n",
            " 0   ACCT_NBR           137534 non-null  object\n",
            " 1   SUCCESSOR          137534 non-null  int64 \n",
            " 2   VOLTAGE            137534 non-null  object\n",
            " 3   PARNO              137534 non-null  int64 \n",
            " 4   XRHSH              137534 non-null  int64 \n",
            " 5   CONTRACT_CAPACITY  137534 non-null  int64 \n",
            " 6   ACCT_CONTROL       137534 non-null  int64 \n",
            " 7   ACCT_WGS84_X       137534 non-null  object\n",
            " 8   ACCT_WGS84_Y       137534 non-null  object\n",
            "dtypes: int64(5), object(4)\n",
            "memory usage: 9.4+ MB\n"
          ]
        }
      ],
      "source": [
        "df_records_test.info()"
      ]
    },
    {
      "cell_type": "code",
      "execution_count": 29,
      "metadata": {
        "colab": {
          "base_uri": "https://localhost:8080/"
        },
        "id": "QtOas44ek-uF",
        "outputId": "77f4e7b7-a836-4a9e-bc49-42cae7e3cffe"
      },
      "outputs": [
        {
          "output_type": "stream",
          "name": "stdout",
          "text": [
            "<class 'pandas.core.frame.DataFrame'>\n",
            "RangeIndex: 1232180 entries, 0 to 1232179\n",
            "Data columns (total 6 columns):\n",
            " #   Column       Non-Null Count    Dtype \n",
            "---  ------       --------------    ----- \n",
            " 0   ACCT_NBR     1232180 non-null  object\n",
            " 1   SUCCESSOR    1232180 non-null  int64 \n",
            " 2   SUPPLIER     1232180 non-null  object\n",
            " 3   SUPPLIER_TO  496905 non-null   object\n",
            " 4   START_DATE   1232180 non-null  object\n",
            " 5   END_DATE     1232180 non-null  object\n",
            "dtypes: int64(1), object(5)\n",
            "memory usage: 56.4+ MB\n"
          ]
        }
      ],
      "source": [
        "df_representations_train.info()"
      ]
    },
    {
      "cell_type": "code",
      "execution_count": 30,
      "metadata": {
        "colab": {
          "base_uri": "https://localhost:8080/"
        },
        "id": "2EtlPBQeCjX3",
        "outputId": "73bb4b86-50a4-46e5-f5df-aaa2d051b731"
      },
      "outputs": [
        {
          "output_type": "stream",
          "name": "stdout",
          "text": [
            "<class 'pandas.core.frame.DataFrame'>\n",
            "RangeIndex: 136960 entries, 0 to 136959\n",
            "Data columns (total 6 columns):\n",
            " #   Column       Non-Null Count   Dtype \n",
            "---  ------       --------------   ----- \n",
            " 0   ACCT_NBR     136960 non-null  object\n",
            " 1   SUCCESSOR    136960 non-null  int64 \n",
            " 2   SUPPLIER     136960 non-null  object\n",
            " 3   SUPPLIER_TO  55809 non-null   object\n",
            " 4   START_DATE   136960 non-null  object\n",
            " 5   END_DATE     136960 non-null  object\n",
            "dtypes: int64(1), object(5)\n",
            "memory usage: 6.3+ MB\n"
          ]
        }
      ],
      "source": [
        "df_representations_test.info()"
      ]
    },
    {
      "cell_type": "code",
      "execution_count": 31,
      "metadata": {
        "colab": {
          "base_uri": "https://localhost:8080/"
        },
        "id": "X0Swi4vxlLN8",
        "outputId": "9021aed2-64b5-451e-e410-1bed5f47b88e"
      },
      "outputs": [
        {
          "output_type": "stream",
          "name": "stdout",
          "text": [
            "<class 'pandas.core.frame.DataFrame'>\n",
            "RangeIndex: 2346360 entries, 0 to 2346359\n",
            "Data columns (total 6 columns):\n",
            " #   Column                Dtype \n",
            "---  ------                ----- \n",
            " 0   ACCT_NBR              object\n",
            " 1   SUCCESSOR             int64 \n",
            " 2   REQUEST_TYPE          object\n",
            " 3   REQUEST_DATE          object\n",
            " 4   COMPL_REQUEST_STATUS  object\n",
            " 5   COMPLETION_DATE       object\n",
            "dtypes: int64(1), object(5)\n",
            "memory usage: 107.4+ MB\n"
          ]
        }
      ],
      "source": [
        "df_requests_train.info()"
      ]
    },
    {
      "cell_type": "code",
      "execution_count": 32,
      "metadata": {
        "colab": {
          "base_uri": "https://localhost:8080/"
        },
        "id": "4Hf2TLN_CmfL",
        "outputId": "d1da6075-9b14-4fa2-f0f1-33f7021b1d1e"
      },
      "outputs": [
        {
          "output_type": "stream",
          "name": "stdout",
          "text": [
            "<class 'pandas.core.frame.DataFrame'>\n",
            "RangeIndex: 94206 entries, 0 to 94205\n",
            "Data columns (total 6 columns):\n",
            " #   Column                Non-Null Count  Dtype \n",
            "---  ------                --------------  ----- \n",
            " 0   ACCT_NBR              94206 non-null  object\n",
            " 1   SUCCESSOR             94206 non-null  int64 \n",
            " 2   REQUEST_TYPE          77332 non-null  object\n",
            " 3   REQUEST_DATE          94206 non-null  object\n",
            " 4   COMPL_REQUEST_STATUS  72407 non-null  object\n",
            " 5   COMPLETION_DATE       93724 non-null  object\n",
            "dtypes: int64(1), object(5)\n",
            "memory usage: 4.3+ MB\n"
          ]
        }
      ],
      "source": [
        "df_requests_test.info()"
      ]
    },
    {
      "cell_type": "code",
      "execution_count": 33,
      "metadata": {
        "colab": {
          "base_uri": "https://localhost:8080/"
        },
        "id": "_QksI3PRk-yh",
        "outputId": "915a2299-ae48-4e45-c0b7-af1ec4b57844"
      },
      "outputs": [
        {
          "output_type": "stream",
          "name": "stdout",
          "text": [
            "<class 'pandas.core.frame.DataFrame'>\n",
            "RangeIndex: 9201394 entries, 0 to 9201393\n",
            "Data columns (total 6 columns):\n",
            " #   Column            Dtype \n",
            "---  ------            ----- \n",
            " 0   ACCT_NBR          object\n",
            " 1   SUCCESSOR         int64 \n",
            " 2   BS_RATE           object\n",
            " 3   MS_METER_NBR      object\n",
            " 4   CSS_MS_HS_USE     int64 \n",
            " 5   MEASUREMENT_DATE  object\n",
            "dtypes: int64(2), object(4)\n",
            "memory usage: 421.2+ MB\n"
          ]
        }
      ],
      "source": [
        "df_consumptions_train.info()"
      ]
    },
    {
      "cell_type": "code",
      "execution_count": 34,
      "metadata": {
        "colab": {
          "base_uri": "https://localhost:8080/"
        },
        "id": "aOQrh80yCpRK",
        "outputId": "d94e6779-e34e-4440-cb14-165fd0f68f34"
      },
      "outputs": [
        {
          "output_type": "stream",
          "name": "stdout",
          "text": [
            "<class 'pandas.core.frame.DataFrame'>\n",
            "RangeIndex: 718168 entries, 0 to 718167\n",
            "Data columns (total 6 columns):\n",
            " #   Column            Non-Null Count   Dtype \n",
            "---  ------            --------------   ----- \n",
            " 0   ACCT_NBR          718168 non-null  object\n",
            " 1   SUCCESSOR         718168 non-null  int64 \n",
            " 2   BS_RATE           718168 non-null  int64 \n",
            " 3   MS_METER_NBR      718168 non-null  object\n",
            " 4   CSS_MS_HS_USE     718168 non-null  int64 \n",
            " 5   MEASUREMENT_DATE  718168 non-null  object\n",
            "dtypes: int64(3), object(3)\n",
            "memory usage: 32.9+ MB\n"
          ]
        }
      ],
      "source": [
        "df_consumptions_test.info()"
      ]
    },
    {
      "cell_type": "markdown",
      "metadata": {
        "id": "RCf5XtooV-M9"
      },
      "source": [
        "To consumptions Test BS_RATE είναι integer ενω στο train είναι object και εχει χαρακτηρες μεσα (πχ Ν4)"
      ]
    },
    {
      "cell_type": "markdown",
      "metadata": {
        "id": "NsOT0JZ9BKJf"
      },
      "source": [
        "# Stat Analysis"
      ]
    },
    {
      "cell_type": "markdown",
      "metadata": {
        "id": "s8tpe5KOWbO_"
      },
      "source": [
        "## Missing values for each dataframe"
      ]
    },
    {
      "cell_type": "markdown",
      "metadata": {
        "id": "e1XVRNA4WfOJ"
      },
      "source": [
        "Records"
      ]
    },
    {
      "cell_type": "code",
      "execution_count": 35,
      "metadata": {
        "colab": {
          "base_uri": "https://localhost:8080/",
          "height": 332
        },
        "id": "OKpb7bEuBOVj",
        "outputId": "283f7cf1-ffdf-442a-cd91-8313cd80b007"
      },
      "outputs": [
        {
          "output_type": "execute_result",
          "data": {
            "text/plain": [
              "                   Total   Percent\n",
              "CONTRACT_CAPACITY   1182  0.000957\n",
              "ACCT_NBR               0  0.000000\n",
              "SUCCESSOR              0  0.000000\n",
              "VOLTAGE                0  0.000000\n",
              "PARNO                  0  0.000000\n",
              "XRHSH                  0  0.000000\n",
              "ACCT_CONTROL           0  0.000000\n",
              "ACCT_WGS84_X           0  0.000000\n",
              "ACCT_WGS84_Y           0  0.000000"
            ],
            "text/html": [
              "\n",
              "  <div id=\"df-bff253cf-ccb6-44db-ba58-e5990df4615e\">\n",
              "    <div class=\"colab-df-container\">\n",
              "      <div>\n",
              "<style scoped>\n",
              "    .dataframe tbody tr th:only-of-type {\n",
              "        vertical-align: middle;\n",
              "    }\n",
              "\n",
              "    .dataframe tbody tr th {\n",
              "        vertical-align: top;\n",
              "    }\n",
              "\n",
              "    .dataframe thead th {\n",
              "        text-align: right;\n",
              "    }\n",
              "</style>\n",
              "<table border=\"1\" class=\"dataframe\">\n",
              "  <thead>\n",
              "    <tr style=\"text-align: right;\">\n",
              "      <th></th>\n",
              "      <th>Total</th>\n",
              "      <th>Percent</th>\n",
              "    </tr>\n",
              "  </thead>\n",
              "  <tbody>\n",
              "    <tr>\n",
              "      <th>CONTRACT_CAPACITY</th>\n",
              "      <td>1182</td>\n",
              "      <td>0.000957</td>\n",
              "    </tr>\n",
              "    <tr>\n",
              "      <th>ACCT_NBR</th>\n",
              "      <td>0</td>\n",
              "      <td>0.000000</td>\n",
              "    </tr>\n",
              "    <tr>\n",
              "      <th>SUCCESSOR</th>\n",
              "      <td>0</td>\n",
              "      <td>0.000000</td>\n",
              "    </tr>\n",
              "    <tr>\n",
              "      <th>VOLTAGE</th>\n",
              "      <td>0</td>\n",
              "      <td>0.000000</td>\n",
              "    </tr>\n",
              "    <tr>\n",
              "      <th>PARNO</th>\n",
              "      <td>0</td>\n",
              "      <td>0.000000</td>\n",
              "    </tr>\n",
              "    <tr>\n",
              "      <th>XRHSH</th>\n",
              "      <td>0</td>\n",
              "      <td>0.000000</td>\n",
              "    </tr>\n",
              "    <tr>\n",
              "      <th>ACCT_CONTROL</th>\n",
              "      <td>0</td>\n",
              "      <td>0.000000</td>\n",
              "    </tr>\n",
              "    <tr>\n",
              "      <th>ACCT_WGS84_X</th>\n",
              "      <td>0</td>\n",
              "      <td>0.000000</td>\n",
              "    </tr>\n",
              "    <tr>\n",
              "      <th>ACCT_WGS84_Y</th>\n",
              "      <td>0</td>\n",
              "      <td>0.000000</td>\n",
              "    </tr>\n",
              "  </tbody>\n",
              "</table>\n",
              "</div>\n",
              "      <button class=\"colab-df-convert\" onclick=\"convertToInteractive('df-bff253cf-ccb6-44db-ba58-e5990df4615e')\"\n",
              "              title=\"Convert this dataframe to an interactive table.\"\n",
              "              style=\"display:none;\">\n",
              "        \n",
              "  <svg xmlns=\"http://www.w3.org/2000/svg\" height=\"24px\"viewBox=\"0 0 24 24\"\n",
              "       width=\"24px\">\n",
              "    <path d=\"M0 0h24v24H0V0z\" fill=\"none\"/>\n",
              "    <path d=\"M18.56 5.44l.94 2.06.94-2.06 2.06-.94-2.06-.94-.94-2.06-.94 2.06-2.06.94zm-11 1L8.5 8.5l.94-2.06 2.06-.94-2.06-.94L8.5 2.5l-.94 2.06-2.06.94zm10 10l.94 2.06.94-2.06 2.06-.94-2.06-.94-.94-2.06-.94 2.06-2.06.94z\"/><path d=\"M17.41 7.96l-1.37-1.37c-.4-.4-.92-.59-1.43-.59-.52 0-1.04.2-1.43.59L10.3 9.45l-7.72 7.72c-.78.78-.78 2.05 0 2.83L4 21.41c.39.39.9.59 1.41.59.51 0 1.02-.2 1.41-.59l7.78-7.78 2.81-2.81c.8-.78.8-2.07 0-2.86zM5.41 20L4 18.59l7.72-7.72 1.47 1.35L5.41 20z\"/>\n",
              "  </svg>\n",
              "      </button>\n",
              "      \n",
              "  <style>\n",
              "    .colab-df-container {\n",
              "      display:flex;\n",
              "      flex-wrap:wrap;\n",
              "      gap: 12px;\n",
              "    }\n",
              "\n",
              "    .colab-df-convert {\n",
              "      background-color: #E8F0FE;\n",
              "      border: none;\n",
              "      border-radius: 50%;\n",
              "      cursor: pointer;\n",
              "      display: none;\n",
              "      fill: #1967D2;\n",
              "      height: 32px;\n",
              "      padding: 0 0 0 0;\n",
              "      width: 32px;\n",
              "    }\n",
              "\n",
              "    .colab-df-convert:hover {\n",
              "      background-color: #E2EBFA;\n",
              "      box-shadow: 0px 1px 2px rgba(60, 64, 67, 0.3), 0px 1px 3px 1px rgba(60, 64, 67, 0.15);\n",
              "      fill: #174EA6;\n",
              "    }\n",
              "\n",
              "    [theme=dark] .colab-df-convert {\n",
              "      background-color: #3B4455;\n",
              "      fill: #D2E3FC;\n",
              "    }\n",
              "\n",
              "    [theme=dark] .colab-df-convert:hover {\n",
              "      background-color: #434B5C;\n",
              "      box-shadow: 0px 1px 3px 1px rgba(0, 0, 0, 0.15);\n",
              "      filter: drop-shadow(0px 1px 2px rgba(0, 0, 0, 0.3));\n",
              "      fill: #FFFFFF;\n",
              "    }\n",
              "  </style>\n",
              "\n",
              "      <script>\n",
              "        const buttonEl =\n",
              "          document.querySelector('#df-bff253cf-ccb6-44db-ba58-e5990df4615e button.colab-df-convert');\n",
              "        buttonEl.style.display =\n",
              "          google.colab.kernel.accessAllowed ? 'block' : 'none';\n",
              "\n",
              "        async function convertToInteractive(key) {\n",
              "          const element = document.querySelector('#df-bff253cf-ccb6-44db-ba58-e5990df4615e');\n",
              "          const dataTable =\n",
              "            await google.colab.kernel.invokeFunction('convertToInteractive',\n",
              "                                                     [key], {});\n",
              "          if (!dataTable) return;\n",
              "\n",
              "          const docLinkHtml = 'Like what you see? Visit the ' +\n",
              "            '<a target=\"_blank\" href=https://colab.research.google.com/notebooks/data_table.ipynb>data table notebook</a>'\n",
              "            + ' to learn more about interactive tables.';\n",
              "          element.innerHTML = '';\n",
              "          dataTable['output_type'] = 'display_data';\n",
              "          await google.colab.output.renderOutput(dataTable, element);\n",
              "          const docLink = document.createElement('div');\n",
              "          docLink.innerHTML = docLinkHtml;\n",
              "          element.appendChild(docLink);\n",
              "        }\n",
              "      </script>\n",
              "    </div>\n",
              "  </div>\n",
              "  "
            ]
          },
          "metadata": {},
          "execution_count": 35
        }
      ],
      "source": [
        "total = df_records_train.isnull().sum().sort_values(ascending=False)\n",
        "percent = (df_records_train.isnull().sum()/df_records_train.isnull().count()).sort_values(ascending=False)\n",
        "missing_data = pd.concat([total, percent], axis=1, keys=['Total', 'Percent'])\n",
        "missing_data.head(20)"
      ]
    },
    {
      "cell_type": "markdown",
      "metadata": {
        "id": "NYqpN34UXrgy"
      },
      "source": [
        "Representations"
      ]
    },
    {
      "cell_type": "code",
      "execution_count": 36,
      "metadata": {
        "colab": {
          "base_uri": "https://localhost:8080/",
          "height": 238
        },
        "id": "nZtHdHq1BOlm",
        "outputId": "d3e1aae3-eab3-4290-bd8a-d9e20aed8311"
      },
      "outputs": [
        {
          "output_type": "execute_result",
          "data": {
            "text/plain": [
              "              Total   Percent\n",
              "SUPPLIER_TO  735275  0.596727\n",
              "ACCT_NBR          0  0.000000\n",
              "SUCCESSOR         0  0.000000\n",
              "SUPPLIER          0  0.000000\n",
              "START_DATE        0  0.000000\n",
              "END_DATE          0  0.000000"
            ],
            "text/html": [
              "\n",
              "  <div id=\"df-e28dab32-c3f2-4ce9-8dc9-72e577053c4d\">\n",
              "    <div class=\"colab-df-container\">\n",
              "      <div>\n",
              "<style scoped>\n",
              "    .dataframe tbody tr th:only-of-type {\n",
              "        vertical-align: middle;\n",
              "    }\n",
              "\n",
              "    .dataframe tbody tr th {\n",
              "        vertical-align: top;\n",
              "    }\n",
              "\n",
              "    .dataframe thead th {\n",
              "        text-align: right;\n",
              "    }\n",
              "</style>\n",
              "<table border=\"1\" class=\"dataframe\">\n",
              "  <thead>\n",
              "    <tr style=\"text-align: right;\">\n",
              "      <th></th>\n",
              "      <th>Total</th>\n",
              "      <th>Percent</th>\n",
              "    </tr>\n",
              "  </thead>\n",
              "  <tbody>\n",
              "    <tr>\n",
              "      <th>SUPPLIER_TO</th>\n",
              "      <td>735275</td>\n",
              "      <td>0.596727</td>\n",
              "    </tr>\n",
              "    <tr>\n",
              "      <th>ACCT_NBR</th>\n",
              "      <td>0</td>\n",
              "      <td>0.000000</td>\n",
              "    </tr>\n",
              "    <tr>\n",
              "      <th>SUCCESSOR</th>\n",
              "      <td>0</td>\n",
              "      <td>0.000000</td>\n",
              "    </tr>\n",
              "    <tr>\n",
              "      <th>SUPPLIER</th>\n",
              "      <td>0</td>\n",
              "      <td>0.000000</td>\n",
              "    </tr>\n",
              "    <tr>\n",
              "      <th>START_DATE</th>\n",
              "      <td>0</td>\n",
              "      <td>0.000000</td>\n",
              "    </tr>\n",
              "    <tr>\n",
              "      <th>END_DATE</th>\n",
              "      <td>0</td>\n",
              "      <td>0.000000</td>\n",
              "    </tr>\n",
              "  </tbody>\n",
              "</table>\n",
              "</div>\n",
              "      <button class=\"colab-df-convert\" onclick=\"convertToInteractive('df-e28dab32-c3f2-4ce9-8dc9-72e577053c4d')\"\n",
              "              title=\"Convert this dataframe to an interactive table.\"\n",
              "              style=\"display:none;\">\n",
              "        \n",
              "  <svg xmlns=\"http://www.w3.org/2000/svg\" height=\"24px\"viewBox=\"0 0 24 24\"\n",
              "       width=\"24px\">\n",
              "    <path d=\"M0 0h24v24H0V0z\" fill=\"none\"/>\n",
              "    <path d=\"M18.56 5.44l.94 2.06.94-2.06 2.06-.94-2.06-.94-.94-2.06-.94 2.06-2.06.94zm-11 1L8.5 8.5l.94-2.06 2.06-.94-2.06-.94L8.5 2.5l-.94 2.06-2.06.94zm10 10l.94 2.06.94-2.06 2.06-.94-2.06-.94-.94-2.06-.94 2.06-2.06.94z\"/><path d=\"M17.41 7.96l-1.37-1.37c-.4-.4-.92-.59-1.43-.59-.52 0-1.04.2-1.43.59L10.3 9.45l-7.72 7.72c-.78.78-.78 2.05 0 2.83L4 21.41c.39.39.9.59 1.41.59.51 0 1.02-.2 1.41-.59l7.78-7.78 2.81-2.81c.8-.78.8-2.07 0-2.86zM5.41 20L4 18.59l7.72-7.72 1.47 1.35L5.41 20z\"/>\n",
              "  </svg>\n",
              "      </button>\n",
              "      \n",
              "  <style>\n",
              "    .colab-df-container {\n",
              "      display:flex;\n",
              "      flex-wrap:wrap;\n",
              "      gap: 12px;\n",
              "    }\n",
              "\n",
              "    .colab-df-convert {\n",
              "      background-color: #E8F0FE;\n",
              "      border: none;\n",
              "      border-radius: 50%;\n",
              "      cursor: pointer;\n",
              "      display: none;\n",
              "      fill: #1967D2;\n",
              "      height: 32px;\n",
              "      padding: 0 0 0 0;\n",
              "      width: 32px;\n",
              "    }\n",
              "\n",
              "    .colab-df-convert:hover {\n",
              "      background-color: #E2EBFA;\n",
              "      box-shadow: 0px 1px 2px rgba(60, 64, 67, 0.3), 0px 1px 3px 1px rgba(60, 64, 67, 0.15);\n",
              "      fill: #174EA6;\n",
              "    }\n",
              "\n",
              "    [theme=dark] .colab-df-convert {\n",
              "      background-color: #3B4455;\n",
              "      fill: #D2E3FC;\n",
              "    }\n",
              "\n",
              "    [theme=dark] .colab-df-convert:hover {\n",
              "      background-color: #434B5C;\n",
              "      box-shadow: 0px 1px 3px 1px rgba(0, 0, 0, 0.15);\n",
              "      filter: drop-shadow(0px 1px 2px rgba(0, 0, 0, 0.3));\n",
              "      fill: #FFFFFF;\n",
              "    }\n",
              "  </style>\n",
              "\n",
              "      <script>\n",
              "        const buttonEl =\n",
              "          document.querySelector('#df-e28dab32-c3f2-4ce9-8dc9-72e577053c4d button.colab-df-convert');\n",
              "        buttonEl.style.display =\n",
              "          google.colab.kernel.accessAllowed ? 'block' : 'none';\n",
              "\n",
              "        async function convertToInteractive(key) {\n",
              "          const element = document.querySelector('#df-e28dab32-c3f2-4ce9-8dc9-72e577053c4d');\n",
              "          const dataTable =\n",
              "            await google.colab.kernel.invokeFunction('convertToInteractive',\n",
              "                                                     [key], {});\n",
              "          if (!dataTable) return;\n",
              "\n",
              "          const docLinkHtml = 'Like what you see? Visit the ' +\n",
              "            '<a target=\"_blank\" href=https://colab.research.google.com/notebooks/data_table.ipynb>data table notebook</a>'\n",
              "            + ' to learn more about interactive tables.';\n",
              "          element.innerHTML = '';\n",
              "          dataTable['output_type'] = 'display_data';\n",
              "          await google.colab.output.renderOutput(dataTable, element);\n",
              "          const docLink = document.createElement('div');\n",
              "          docLink.innerHTML = docLinkHtml;\n",
              "          element.appendChild(docLink);\n",
              "        }\n",
              "      </script>\n",
              "    </div>\n",
              "  </div>\n",
              "  "
            ]
          },
          "metadata": {},
          "execution_count": 36
        }
      ],
      "source": [
        "total = df_representations_train.isnull().sum().sort_values(ascending=False)\n",
        "percent = (df_representations_train.isnull().sum()/df_representations_train.isnull().count()).sort_values(ascending=False)\n",
        "missing_data = pd.concat([total, percent], axis=1, keys=['Total', 'Percent'])\n",
        "missing_data.head(20)"
      ]
    },
    {
      "cell_type": "markdown",
      "metadata": {
        "id": "mFpFE-laYw3y"
      },
      "source": [
        "Drop SUPPLIER_TO almost 60% of the values are missing"
      ]
    },
    {
      "cell_type": "code",
      "execution_count": 37,
      "metadata": {
        "id": "A9wbTe1MY5Gp"
      },
      "outputs": [],
      "source": [
        "df_representations_train.drop(['SUPPLIER_TO'], axis = 1, inplace = True)\n",
        "#df_representations_train.head()"
      ]
    },
    {
      "cell_type": "code",
      "execution_count": 38,
      "metadata": {
        "id": "vuI1NJVZFJBT"
      },
      "outputs": [],
      "source": [
        "#same for test\n",
        "df_representations_test.drop(['SUPPLIER_TO'], axis = 1, inplace = True)"
      ]
    },
    {
      "cell_type": "markdown",
      "metadata": {
        "id": "nMK1ZjGJX-eZ"
      },
      "source": [
        "Requests"
      ]
    },
    {
      "cell_type": "code",
      "execution_count": 39,
      "metadata": {
        "colab": {
          "base_uri": "https://localhost:8080/",
          "height": 238
        },
        "id": "O0JRZkYBX--p",
        "outputId": "9b82a119-56fe-4373-b402-891e38604f46"
      },
      "outputs": [
        {
          "output_type": "execute_result",
          "data": {
            "text/plain": [
              "                       Total   Percent\n",
              "REQUEST_TYPE          433016  0.184548\n",
              "COMPL_REQUEST_STATUS  423768  0.180607\n",
              "COMPLETION_DATE        10273  0.004378\n",
              "ACCT_NBR                   0  0.000000\n",
              "SUCCESSOR                  0  0.000000\n",
              "REQUEST_DATE               0  0.000000"
            ],
            "text/html": [
              "\n",
              "  <div id=\"df-4e612944-bd7b-4967-acc9-ef607cd8d079\">\n",
              "    <div class=\"colab-df-container\">\n",
              "      <div>\n",
              "<style scoped>\n",
              "    .dataframe tbody tr th:only-of-type {\n",
              "        vertical-align: middle;\n",
              "    }\n",
              "\n",
              "    .dataframe tbody tr th {\n",
              "        vertical-align: top;\n",
              "    }\n",
              "\n",
              "    .dataframe thead th {\n",
              "        text-align: right;\n",
              "    }\n",
              "</style>\n",
              "<table border=\"1\" class=\"dataframe\">\n",
              "  <thead>\n",
              "    <tr style=\"text-align: right;\">\n",
              "      <th></th>\n",
              "      <th>Total</th>\n",
              "      <th>Percent</th>\n",
              "    </tr>\n",
              "  </thead>\n",
              "  <tbody>\n",
              "    <tr>\n",
              "      <th>REQUEST_TYPE</th>\n",
              "      <td>433016</td>\n",
              "      <td>0.184548</td>\n",
              "    </tr>\n",
              "    <tr>\n",
              "      <th>COMPL_REQUEST_STATUS</th>\n",
              "      <td>423768</td>\n",
              "      <td>0.180607</td>\n",
              "    </tr>\n",
              "    <tr>\n",
              "      <th>COMPLETION_DATE</th>\n",
              "      <td>10273</td>\n",
              "      <td>0.004378</td>\n",
              "    </tr>\n",
              "    <tr>\n",
              "      <th>ACCT_NBR</th>\n",
              "      <td>0</td>\n",
              "      <td>0.000000</td>\n",
              "    </tr>\n",
              "    <tr>\n",
              "      <th>SUCCESSOR</th>\n",
              "      <td>0</td>\n",
              "      <td>0.000000</td>\n",
              "    </tr>\n",
              "    <tr>\n",
              "      <th>REQUEST_DATE</th>\n",
              "      <td>0</td>\n",
              "      <td>0.000000</td>\n",
              "    </tr>\n",
              "  </tbody>\n",
              "</table>\n",
              "</div>\n",
              "      <button class=\"colab-df-convert\" onclick=\"convertToInteractive('df-4e612944-bd7b-4967-acc9-ef607cd8d079')\"\n",
              "              title=\"Convert this dataframe to an interactive table.\"\n",
              "              style=\"display:none;\">\n",
              "        \n",
              "  <svg xmlns=\"http://www.w3.org/2000/svg\" height=\"24px\"viewBox=\"0 0 24 24\"\n",
              "       width=\"24px\">\n",
              "    <path d=\"M0 0h24v24H0V0z\" fill=\"none\"/>\n",
              "    <path d=\"M18.56 5.44l.94 2.06.94-2.06 2.06-.94-2.06-.94-.94-2.06-.94 2.06-2.06.94zm-11 1L8.5 8.5l.94-2.06 2.06-.94-2.06-.94L8.5 2.5l-.94 2.06-2.06.94zm10 10l.94 2.06.94-2.06 2.06-.94-2.06-.94-.94-2.06-.94 2.06-2.06.94z\"/><path d=\"M17.41 7.96l-1.37-1.37c-.4-.4-.92-.59-1.43-.59-.52 0-1.04.2-1.43.59L10.3 9.45l-7.72 7.72c-.78.78-.78 2.05 0 2.83L4 21.41c.39.39.9.59 1.41.59.51 0 1.02-.2 1.41-.59l7.78-7.78 2.81-2.81c.8-.78.8-2.07 0-2.86zM5.41 20L4 18.59l7.72-7.72 1.47 1.35L5.41 20z\"/>\n",
              "  </svg>\n",
              "      </button>\n",
              "      \n",
              "  <style>\n",
              "    .colab-df-container {\n",
              "      display:flex;\n",
              "      flex-wrap:wrap;\n",
              "      gap: 12px;\n",
              "    }\n",
              "\n",
              "    .colab-df-convert {\n",
              "      background-color: #E8F0FE;\n",
              "      border: none;\n",
              "      border-radius: 50%;\n",
              "      cursor: pointer;\n",
              "      display: none;\n",
              "      fill: #1967D2;\n",
              "      height: 32px;\n",
              "      padding: 0 0 0 0;\n",
              "      width: 32px;\n",
              "    }\n",
              "\n",
              "    .colab-df-convert:hover {\n",
              "      background-color: #E2EBFA;\n",
              "      box-shadow: 0px 1px 2px rgba(60, 64, 67, 0.3), 0px 1px 3px 1px rgba(60, 64, 67, 0.15);\n",
              "      fill: #174EA6;\n",
              "    }\n",
              "\n",
              "    [theme=dark] .colab-df-convert {\n",
              "      background-color: #3B4455;\n",
              "      fill: #D2E3FC;\n",
              "    }\n",
              "\n",
              "    [theme=dark] .colab-df-convert:hover {\n",
              "      background-color: #434B5C;\n",
              "      box-shadow: 0px 1px 3px 1px rgba(0, 0, 0, 0.15);\n",
              "      filter: drop-shadow(0px 1px 2px rgba(0, 0, 0, 0.3));\n",
              "      fill: #FFFFFF;\n",
              "    }\n",
              "  </style>\n",
              "\n",
              "      <script>\n",
              "        const buttonEl =\n",
              "          document.querySelector('#df-4e612944-bd7b-4967-acc9-ef607cd8d079 button.colab-df-convert');\n",
              "        buttonEl.style.display =\n",
              "          google.colab.kernel.accessAllowed ? 'block' : 'none';\n",
              "\n",
              "        async function convertToInteractive(key) {\n",
              "          const element = document.querySelector('#df-4e612944-bd7b-4967-acc9-ef607cd8d079');\n",
              "          const dataTable =\n",
              "            await google.colab.kernel.invokeFunction('convertToInteractive',\n",
              "                                                     [key], {});\n",
              "          if (!dataTable) return;\n",
              "\n",
              "          const docLinkHtml = 'Like what you see? Visit the ' +\n",
              "            '<a target=\"_blank\" href=https://colab.research.google.com/notebooks/data_table.ipynb>data table notebook</a>'\n",
              "            + ' to learn more about interactive tables.';\n",
              "          element.innerHTML = '';\n",
              "          dataTable['output_type'] = 'display_data';\n",
              "          await google.colab.output.renderOutput(dataTable, element);\n",
              "          const docLink = document.createElement('div');\n",
              "          docLink.innerHTML = docLinkHtml;\n",
              "          element.appendChild(docLink);\n",
              "        }\n",
              "      </script>\n",
              "    </div>\n",
              "  </div>\n",
              "  "
            ]
          },
          "metadata": {},
          "execution_count": 39
        }
      ],
      "source": [
        "total = df_requests_train.isnull().sum().sort_values(ascending=False)\n",
        "percent = (df_requests_train.isnull().sum()/df_requests_train.isnull().count()).sort_values(ascending=False)\n",
        "missing_data = pd.concat([total, percent], axis=1, keys=['Total', 'Percent'])\n",
        "missing_data.head(20)"
      ]
    },
    {
      "cell_type": "markdown",
      "metadata": {
        "id": "J7naKsAzXvd7"
      },
      "source": [
        "Consumptions"
      ]
    },
    {
      "cell_type": "code",
      "execution_count": 40,
      "metadata": {
        "colab": {
          "base_uri": "https://localhost:8080/",
          "height": 238
        },
        "id": "CbkNiRNpXvOF",
        "outputId": "4d8c61e5-8e4f-4233-81da-59dc2359beb1"
      },
      "outputs": [
        {
          "output_type": "execute_result",
          "data": {
            "text/plain": [
              "                  Total  Percent\n",
              "ACCT_NBR              0      0.0\n",
              "SUCCESSOR             0      0.0\n",
              "BS_RATE               0      0.0\n",
              "MS_METER_NBR          0      0.0\n",
              "CSS_MS_HS_USE         0      0.0\n",
              "MEASUREMENT_DATE      0      0.0"
            ],
            "text/html": [
              "\n",
              "  <div id=\"df-bd341064-2ec9-4244-a03f-169e5aff728f\">\n",
              "    <div class=\"colab-df-container\">\n",
              "      <div>\n",
              "<style scoped>\n",
              "    .dataframe tbody tr th:only-of-type {\n",
              "        vertical-align: middle;\n",
              "    }\n",
              "\n",
              "    .dataframe tbody tr th {\n",
              "        vertical-align: top;\n",
              "    }\n",
              "\n",
              "    .dataframe thead th {\n",
              "        text-align: right;\n",
              "    }\n",
              "</style>\n",
              "<table border=\"1\" class=\"dataframe\">\n",
              "  <thead>\n",
              "    <tr style=\"text-align: right;\">\n",
              "      <th></th>\n",
              "      <th>Total</th>\n",
              "      <th>Percent</th>\n",
              "    </tr>\n",
              "  </thead>\n",
              "  <tbody>\n",
              "    <tr>\n",
              "      <th>ACCT_NBR</th>\n",
              "      <td>0</td>\n",
              "      <td>0.0</td>\n",
              "    </tr>\n",
              "    <tr>\n",
              "      <th>SUCCESSOR</th>\n",
              "      <td>0</td>\n",
              "      <td>0.0</td>\n",
              "    </tr>\n",
              "    <tr>\n",
              "      <th>BS_RATE</th>\n",
              "      <td>0</td>\n",
              "      <td>0.0</td>\n",
              "    </tr>\n",
              "    <tr>\n",
              "      <th>MS_METER_NBR</th>\n",
              "      <td>0</td>\n",
              "      <td>0.0</td>\n",
              "    </tr>\n",
              "    <tr>\n",
              "      <th>CSS_MS_HS_USE</th>\n",
              "      <td>0</td>\n",
              "      <td>0.0</td>\n",
              "    </tr>\n",
              "    <tr>\n",
              "      <th>MEASUREMENT_DATE</th>\n",
              "      <td>0</td>\n",
              "      <td>0.0</td>\n",
              "    </tr>\n",
              "  </tbody>\n",
              "</table>\n",
              "</div>\n",
              "      <button class=\"colab-df-convert\" onclick=\"convertToInteractive('df-bd341064-2ec9-4244-a03f-169e5aff728f')\"\n",
              "              title=\"Convert this dataframe to an interactive table.\"\n",
              "              style=\"display:none;\">\n",
              "        \n",
              "  <svg xmlns=\"http://www.w3.org/2000/svg\" height=\"24px\"viewBox=\"0 0 24 24\"\n",
              "       width=\"24px\">\n",
              "    <path d=\"M0 0h24v24H0V0z\" fill=\"none\"/>\n",
              "    <path d=\"M18.56 5.44l.94 2.06.94-2.06 2.06-.94-2.06-.94-.94-2.06-.94 2.06-2.06.94zm-11 1L8.5 8.5l.94-2.06 2.06-.94-2.06-.94L8.5 2.5l-.94 2.06-2.06.94zm10 10l.94 2.06.94-2.06 2.06-.94-2.06-.94-.94-2.06-.94 2.06-2.06.94z\"/><path d=\"M17.41 7.96l-1.37-1.37c-.4-.4-.92-.59-1.43-.59-.52 0-1.04.2-1.43.59L10.3 9.45l-7.72 7.72c-.78.78-.78 2.05 0 2.83L4 21.41c.39.39.9.59 1.41.59.51 0 1.02-.2 1.41-.59l7.78-7.78 2.81-2.81c.8-.78.8-2.07 0-2.86zM5.41 20L4 18.59l7.72-7.72 1.47 1.35L5.41 20z\"/>\n",
              "  </svg>\n",
              "      </button>\n",
              "      \n",
              "  <style>\n",
              "    .colab-df-container {\n",
              "      display:flex;\n",
              "      flex-wrap:wrap;\n",
              "      gap: 12px;\n",
              "    }\n",
              "\n",
              "    .colab-df-convert {\n",
              "      background-color: #E8F0FE;\n",
              "      border: none;\n",
              "      border-radius: 50%;\n",
              "      cursor: pointer;\n",
              "      display: none;\n",
              "      fill: #1967D2;\n",
              "      height: 32px;\n",
              "      padding: 0 0 0 0;\n",
              "      width: 32px;\n",
              "    }\n",
              "\n",
              "    .colab-df-convert:hover {\n",
              "      background-color: #E2EBFA;\n",
              "      box-shadow: 0px 1px 2px rgba(60, 64, 67, 0.3), 0px 1px 3px 1px rgba(60, 64, 67, 0.15);\n",
              "      fill: #174EA6;\n",
              "    }\n",
              "\n",
              "    [theme=dark] .colab-df-convert {\n",
              "      background-color: #3B4455;\n",
              "      fill: #D2E3FC;\n",
              "    }\n",
              "\n",
              "    [theme=dark] .colab-df-convert:hover {\n",
              "      background-color: #434B5C;\n",
              "      box-shadow: 0px 1px 3px 1px rgba(0, 0, 0, 0.15);\n",
              "      filter: drop-shadow(0px 1px 2px rgba(0, 0, 0, 0.3));\n",
              "      fill: #FFFFFF;\n",
              "    }\n",
              "  </style>\n",
              "\n",
              "      <script>\n",
              "        const buttonEl =\n",
              "          document.querySelector('#df-bd341064-2ec9-4244-a03f-169e5aff728f button.colab-df-convert');\n",
              "        buttonEl.style.display =\n",
              "          google.colab.kernel.accessAllowed ? 'block' : 'none';\n",
              "\n",
              "        async function convertToInteractive(key) {\n",
              "          const element = document.querySelector('#df-bd341064-2ec9-4244-a03f-169e5aff728f');\n",
              "          const dataTable =\n",
              "            await google.colab.kernel.invokeFunction('convertToInteractive',\n",
              "                                                     [key], {});\n",
              "          if (!dataTable) return;\n",
              "\n",
              "          const docLinkHtml = 'Like what you see? Visit the ' +\n",
              "            '<a target=\"_blank\" href=https://colab.research.google.com/notebooks/data_table.ipynb>data table notebook</a>'\n",
              "            + ' to learn more about interactive tables.';\n",
              "          element.innerHTML = '';\n",
              "          dataTable['output_type'] = 'display_data';\n",
              "          await google.colab.output.renderOutput(dataTable, element);\n",
              "          const docLink = document.createElement('div');\n",
              "          docLink.innerHTML = docLinkHtml;\n",
              "          element.appendChild(docLink);\n",
              "        }\n",
              "      </script>\n",
              "    </div>\n",
              "  </div>\n",
              "  "
            ]
          },
          "metadata": {},
          "execution_count": 40
        }
      ],
      "source": [
        "total = df_consumptions_train.isnull().sum().sort_values(ascending=False)\n",
        "percent = (df_consumptions_train.isnull().sum()/df_consumptions_train.isnull().count()).sort_values(ascending=False)\n",
        "missing_data = pd.concat([total, percent], axis=1, keys=['Total', 'Percent'])\n",
        "missing_data.head(20)"
      ]
    },
    {
      "cell_type": "markdown",
      "metadata": {
        "id": "L-3bPeGTZUGl"
      },
      "source": [
        "## Plotting the variables"
      ]
    },
    {
      "cell_type": "markdown",
      "metadata": {
        "id": "QB7WaDVeZihw"
      },
      "source": [
        "### Records"
      ]
    },
    {
      "cell_type": "code",
      "execution_count": 41,
      "metadata": {
        "colab": {
          "base_uri": "https://localhost:8080/",
          "height": 482
        },
        "id": "XRxi_Vhpa8uo",
        "outputId": "8677c408-2f1c-4e9f-896c-f44d681ed7ff"
      },
      "outputs": [
        {
          "output_type": "execute_result",
          "data": {
            "text/plain": [
              "<Axes: xlabel='VOLTAGE', ylabel='Count'>"
            ]
          },
          "metadata": {},
          "execution_count": 41
        },
        {
          "output_type": "display_data",
          "data": {
            "text/plain": [
              "<Figure size 640x480 with 1 Axes>"
            ],
            "image/png": "[encoded data removed]"
          },
          "metadata": {}
        }
      ],
      "source": [
        "sns.histplot(data=df_records_train, x='VOLTAGE', bins=30)"
      ]
    },
    {
      "cell_type": "code",
      "execution_count": 42,
      "metadata": {
        "colab": {
          "base_uri": "https://localhost:8080/",
          "height": 466
        },
        "id": "RguDHs3cZTAo",
        "outputId": "f331931c-5e68-4c26-baa5-4d034f09aed4"
      },
      "outputs": [
        {
          "output_type": "execute_result",
          "data": {
            "text/plain": [
              "<Axes: xlabel='PARNO', ylabel='Count'>"
            ]
          },
          "metadata": {},
          "execution_count": 42
        },
        {
          "output_type": "display_data",
          "data": {
            "text/plain": [
              "<Figure size 640x480 with 1 Axes>"
            ],
            "image/png": "[encoded data removed]"
          },
          "metadata": {}
        }
      ],
      "source": [
        "sns.histplot(data=df_records_train, x='PARNO', bins=30)"
      ]
    },
    {
      "cell_type": "code",
      "execution_count": 43,
      "metadata": {
        "id": "F41FUMbNgGzS"
      },
      "outputs": [],
      "source": [
        "#df_records_train['PARNO'].value_counts()"
      ]
    },
    {
      "cell_type": "code",
      "execution_count": 44,
      "metadata": {
        "colab": {
          "base_uri": "https://localhost:8080/",
          "height": 482
        },
        "id": "s4xvdVL7faW2",
        "outputId": "db5f30ae-cfcb-4d06-9d1d-81c7eeab6981"
      },
      "outputs": [
        {
          "output_type": "execute_result",
          "data": {
            "text/plain": [
              "<Axes: xlabel='XRHSH', ylabel='Count'>"
            ]
          },
          "metadata": {},
          "execution_count": 44
        },
        {
          "output_type": "display_data",
          "data": {
            "text/plain": [
              "<Figure size 640x480 with 1 Axes>"
            ],
            "image/png": "[encoded data removed]"
          },
          "metadata": {}
        }
      ],
      "source": [
        "sns.histplot(data=df_records_train, x='XRHSH', bins=30)"
      ]
    },
    {
      "cell_type": "code",
      "execution_count": 45,
      "metadata": {
        "id": "_8dif22pgNAG"
      },
      "outputs": [],
      "source": [
        "#df_records_train['XRHSH'].value_counts()"
      ]
    },
    {
      "cell_type": "code",
      "execution_count": 46,
      "metadata": {
        "colab": {
          "base_uri": "https://localhost:8080/",
          "height": 523
        },
        "id": "p1YFfBRzhuhe",
        "outputId": "0e6c0712-2e95-4997-9338-11fda47e5430"
      },
      "outputs": [
        {
          "output_type": "execute_result",
          "data": {
            "text/plain": [
              "<seaborn.axisgrid.FacetGrid at 0x7fb20aa7dd20>"
            ]
          },
          "metadata": {},
          "execution_count": 46
        },
        {
          "output_type": "display_data",
          "data": {
            "text/plain": [
              "<Figure size 500x500 with 1 Axes>"
            ],
            "image/png": "[encoded data removed]"
          },
          "metadata": {}
        }
      ],
      "source": [
        "sns.displot(df_records_train['CONTRACT_CAPACITY'],kde=True,color='blue',height=5,aspect=1) "
      ]
    },
    {
      "cell_type": "code",
      "execution_count": 47,
      "metadata": {
        "id": "TUto9AS3h-kH"
      },
      "outputs": [],
      "source": [
        "#df_records_train['CONTRACT_CAPACITY'].describe()"
      ]
    },
    {
      "cell_type": "code",
      "execution_count": 48,
      "metadata": {
        "colab": {
          "base_uri": "https://localhost:8080/",
          "height": 482
        },
        "id": "kAjCajNYltkH",
        "outputId": "64a89be2-d46f-4c88-c138-0f3048fa3598"
      },
      "outputs": [
        {
          "output_type": "execute_result",
          "data": {
            "text/plain": [
              "<Axes: xlabel='ACCT_CONTROL', ylabel='Count'>"
            ]
          },
          "metadata": {},
          "execution_count": 48
        },
        {
          "output_type": "display_data",
          "data": {
            "text/plain": [
              "<Figure size 640x480 with 1 Axes>"
            ],
            "image/png": "[encoded data removed]"
          },
          "metadata": {}
        }
      ],
      "source": [
        "sns.histplot(data=df_records_train, x='ACCT_CONTROL', bins=30)"
      ]
    },
    {
      "cell_type": "code",
      "execution_count": 49,
      "metadata": {
        "id": "ZZQYQBuyl4MP"
      },
      "outputs": [],
      "source": [
        "#df_records_train['ACCT_CONTROL'].value_counts()"
      ]
    },
    {
      "cell_type": "markdown",
      "metadata": {
        "id": "GGjhxgHhgh6W"
      },
      "source": [
        "### Representations"
      ]
    },
    {
      "cell_type": "code",
      "execution_count": 50,
      "metadata": {
        "colab": {
          "base_uri": "https://localhost:8080/",
          "height": 482
        },
        "id": "vT0KPbgQgf9_",
        "outputId": "33722384-db0c-4971-c604-949801ae9a33"
      },
      "outputs": [
        {
          "output_type": "execute_result",
          "data": {
            "text/plain": [
              "<Axes: xlabel='SUPPLIER', ylabel='Count'>"
            ]
          },
          "metadata": {},
          "execution_count": 50
        },
        {
          "output_type": "display_data",
          "data": {
            "text/plain": [
              "<Figure size 640x480 with 1 Axes>"
            ],
            "image/png": "[encoded data removed]"
          },
          "metadata": {}
        }
      ],
      "source": [
        "sns.histplot(data=df_representations_train, x='SUPPLIER')"
      ]
    },
    {
      "cell_type": "code",
      "execution_count": 51,
      "metadata": {
        "id": "MU-8aUZomcO7"
      },
      "outputs": [],
      "source": [
        "#df_representations_train['SUPPLIER'].value_counts()"
      ]
    },
    {
      "cell_type": "code",
      "execution_count": 52,
      "metadata": {
        "id": "4TvYs_QspN1h"
      },
      "outputs": [],
      "source": [
        "#supplier_time = df_representations_train['START_DATE'] - df_representations_train['END_DATE']"
      ]
    },
    {
      "cell_type": "markdown",
      "metadata": {
        "id": "b_C-6gQgSq5D"
      },
      "source": [
        "### Requests"
      ]
    },
    {
      "cell_type": "code",
      "execution_count": 53,
      "metadata": {
        "colab": {
          "base_uri": "https://localhost:8080/",
          "height": 0
        },
        "id": "zZ_4F6L8qBDR",
        "outputId": "de3628a6-a328-43f8-fec7-08b7cf6ce6c8"
      },
      "outputs": [
        {
          "output_type": "execute_result",
          "data": {
            "text/plain": [
              "<Axes: xlabel='REQUEST_TYPE', ylabel='Count'>"
            ]
          },
          "metadata": {},
          "execution_count": 53
        },
        {
          "output_type": "display_data",
          "data": {
            "text/plain": [
              "<Figure size 640x480 with 1 Axes>"
            ],
            "image/png": "[encoded data removed]"
          },
          "metadata": {}
        }
      ],
      "source": [
        "sns.histplot(data=df_requests_train, x='REQUEST_TYPE')"
      ]
    },
    {
      "cell_type": "code",
      "execution_count": 54,
      "metadata": {
        "colab": {
          "base_uri": "https://localhost:8080/",
          "height": 0
        },
        "id": "X-K-GWMyTFqq",
        "outputId": "d74178a5-dc85-47dd-d55e-83e1c86c54cc"
      },
      "outputs": [
        {
          "output_type": "execute_result",
          "data": {
            "text/plain": [
              "<Axes: xlabel='COMPL_REQUEST_STATUS', ylabel='Count'>"
            ]
          },
          "metadata": {},
          "execution_count": 54
        },
        {
          "output_type": "display_data",
          "data": {
            "text/plain": [
              "<Figure size 640x480 with 1 Axes>"
            ],
            "image/png": "[encoded data removed]"
          },
          "metadata": {}
        }
      ],
      "source": [
        "sns.histplot(data=df_requests_train, x='COMPL_REQUEST_STATUS')"
      ]
    },
    {
      "cell_type": "code",
      "execution_count": 55,
      "metadata": {
        "colab": {
          "base_uri": "https://localhost:8080/"
        },
        "id": "CUMRcKhITQ96",
        "outputId": "b5d27b1e-20e4-4852-a9d0-23de9994cc6f"
      },
      "outputs": [
        {
          "output_type": "execute_result",
          "data": {
            "text/plain": [
              "compl      1913850\n",
              "incompl       8742\n",
              "Name: COMPL_REQUEST_STATUS, dtype: int64"
            ]
          },
          "metadata": {},
          "execution_count": 55
        }
      ],
      "source": [
        "df_requests_train['COMPL_REQUEST_STATUS'].value_counts()"
      ]
    },
    {
      "cell_type": "markdown",
      "metadata": {
        "id": "vTtRCXFoU0Xz"
      },
      "source": [
        "### Consumption"
      ]
    },
    {
      "cell_type": "code",
      "execution_count": 56,
      "metadata": {
        "colab": {
          "base_uri": "https://localhost:8080/",
          "height": 482
        },
        "id": "VlN62VWgU0AT",
        "outputId": "6ec398e2-d74d-4bf1-e4a0-1c3e6800fdc8"
      },
      "outputs": [
        {
          "output_type": "execute_result",
          "data": {
            "text/plain": [
              "<Axes: xlabel='BS_RATE', ylabel='Count'>"
            ]
          },
          "metadata": {},
          "execution_count": 56
        },
        {
          "output_type": "display_data",
          "data": {
            "text/plain": [
              "<Figure size 640x480 with 1 Axes>"
            ],
            "image/png": "[encoded data removed]"
          },
          "metadata": {}
        }
      ],
      "source": [
        "sns.histplot(data=df_consumptions_train, x='BS_RATE')"
      ]
    },
    {
      "cell_type": "code",
      "execution_count": 57,
      "metadata": {
        "id": "99RZWWx_VTFZ"
      },
      "outputs": [],
      "source": [
        "lst=[]\n",
        "lst.append(df_consumptions_train['BS_RATE'].unique())"
      ]
    },
    {
      "cell_type": "code",
      "execution_count": 58,
      "metadata": {
        "id": "SDv4l3_MAu4M"
      },
      "outputs": [],
      "source": [
        "lst1=[]\n",
        "lst1.append(df_consumptions_test['BS_RATE'].unique())"
      ]
    },
    {
      "cell_type": "code",
      "execution_count": 59,
      "metadata": {
        "colab": {
          "base_uri": "https://localhost:8080/"
        },
        "id": "RW-J1NENA_hh",
        "outputId": "95ba28eb-00ea-41d3-9089-5e7cc790f648"
      },
      "outputs": [
        {
          "output_type": "stream",
          "name": "stderr",
          "text": [
            "<ipython-input-59-223f82af9bf3>:1: DeprecationWarning: elementwise comparison failed; this will raise an error in the future.\n",
            "  all(x in lst1 for x in lst)\n"
          ]
        },
        {
          "output_type": "execute_result",
          "data": {
            "text/plain": [
              "False"
            ]
          },
          "metadata": {},
          "execution_count": 59
        }
      ],
      "source": [
        "all(x in lst1 for x in lst)"
      ]
    },
    {
      "cell_type": "code",
      "execution_count": null,
      "metadata": {
        "id": "w90_GH-KVLf6"
      },
      "outputs": [],
      "source": [
        "sns.displot(df_consumptions_train['CSS_MS_HS_USE'],kde=True,color='blue',height=5,aspect=1) #αργει παρα πολυ να τρεξει!!!"
      ]
    },
    {
      "cell_type": "code",
      "execution_count": null,
      "metadata": {
        "id": "AhVEkuh4VLQ5"
      },
      "outputs": [],
      "source": [
        "#df_consumptions_train['CSS_MS_HS_USE'].describe()"
      ]
    },
    {
      "cell_type": "markdown",
      "metadata": {
        "id": "ULf8-SXVmvjL"
      },
      "source": [
        "# Adding the variables to our train set"
      ]
    },
    {
      "cell_type": "markdown",
      "metadata": {
        "id": "GQTBYw9qLMf-"
      },
      "source": [
        "# Creating our df"
      ]
    },
    {
      "cell_type": "markdown",
      "metadata": {
        "id": "vqdCTkxdUONI"
      },
      "source": [
        "##Using the records table as the base for the new dataframe, it contains most of the information that will be used"
      ]
    },
    {
      "cell_type": "markdown",
      "metadata": {
        "id": "jyTjm8Nj4Dos"
      },
      "source": [
        "we can drom the coordinates as we are working for a small area in Athens"
      ]
    },
    {
      "cell_type": "code",
      "execution_count": null,
      "metadata": {
        "id": "p-J1V6ZVLNXF"
      },
      "outputs": [],
      "source": [
        "#df_records_train.drop(['ACCT_WGS84_X', 'ACCT_WGS84_Y'], axis = 1, inplace = True)\n",
        "#df_records_train.head()"
      ]
    },
    {
      "cell_type": "code",
      "execution_count": null,
      "metadata": {
        "id": "hfNSTTwoFfZi"
      },
      "outputs": [],
      "source": [
        "#same for test\n",
        "#df_records_test.drop(['ACCT_WGS84_X', 'ACCT_WGS84_Y'], axis = 1, inplace = True)"
      ]
    },
    {
      "cell_type": "markdown",
      "metadata": {
        "id": "OZKWziwlEYOH"
      },
      "source": [
        "Check if the values are unique"
      ]
    },
    {
      "cell_type": "code",
      "execution_count": null,
      "metadata": {
        "id": "HN8jWRCLEDrb"
      },
      "outputs": [],
      "source": [
        "bool_series = df_records_train.duplicated()\n",
        "[i for i, x in enumerate(bool_series) if x]"
      ]
    },
    {
      "cell_type": "markdown",
      "metadata": {
        "id": "rZT6TVHNZfwv"
      },
      "source": [
        "##drop the columns that we will not use"
      ]
    },
    {
      "cell_type": "code",
      "execution_count": null,
      "metadata": {
        "id": "aNiclA2pZkmq"
      },
      "outputs": [],
      "source": [
        "#df_representations_train.drop(['END_DATE'], axis = 1, inplace = True)# έχω κάνει drop το 'SUPPLIER_TO'\n",
        "#df_representations_train.head()"
      ]
    },
    {
      "cell_type": "code",
      "execution_count": null,
      "metadata": {
        "id": "7CAbkgoaFmKq"
      },
      "outputs": [],
      "source": [
        "#same for test\n",
        "#df_representations_test.drop(['END_DATE'], axis = 1, inplace = True)"
      ]
    },
    {
      "cell_type": "code",
      "execution_count": null,
      "metadata": {
        "id": "2xadj-1kZkz5"
      },
      "outputs": [],
      "source": [
        "#df_requests_train.drop(['COMPL_REQUEST_STATUS', 'COMPLETION_DATE'], axis = 1, inplace = True)\n",
        "#df_requests_train.head()"
      ]
    },
    {
      "cell_type": "code",
      "execution_count": null,
      "metadata": {
        "id": "n2D0AidQFxky"
      },
      "outputs": [],
      "source": [
        "#test\n",
        "#df_requests_test.drop(['COMPL_REQUEST_STATUS', 'COMPLETION_DATE'], axis = 1, inplace = True)"
      ]
    }
  ],
  "metadata": {
    "colab": {
      "collapsed_sections": [
        "v2KY2O-n_rvN",
        "1-Tqbhpkk7Bp",
        "b_C-6gQgSq5D",
        "vTtRCXFoU0Xz",
        "P4iLWBckrV5E",
        "qHzQo5p2s3a6",
        "FM5nUTHKtAgj"
      ],
      "provenance": [],
      "include_colab_link": true
    },
    "kernelspec": {
      "display_name": "Python 3",
      "name": "python3"
    },
    "language_info": {
      "name": "python"
    }
  },
  "nbformat": 4,
  "nbformat_minor": 0
}