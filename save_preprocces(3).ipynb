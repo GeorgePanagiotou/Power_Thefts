{
  "nbformat": 4,
  "nbformat_minor": 0,
  "metadata": {
    "colab": {
      "provenance": [],
      "collapsed_sections": [
        "v2KY2O-n_rvN",
        "KTDKcmdQVRE6",
        "TnZoOskfAL1e",
        "DMrbVgxye-Ia",
        "P4iLWBckrV5E",
        "bDdsAv5rR7Ew",
        "AiNctZs7ihGz"
      ],
      "authorship_tag": "ABX9TyNRkxy/0C8A2JgZiiDGIiee",
      "include_colab_link": true
    },
    "kernelspec": {
      "name": "python3",
      "display_name": "Python 3"
    },
    "language_info": {
      "name": "python"
    }
  },
  "cells": [
    {
      "cell_type": "markdown",
      "metadata": {
        "id": "view-in-github",
        "colab_type": "text"
      },
      "source": [
        "<a href=\"https://colab.research.google.com/github/ElenaNtm/power-thefts-investigation/blob/main/save_preprocces(3).ipynb\" target=\"_parent\"><img src=\"https://colab.research.google.com/assets/colab-badge.svg\" alt=\"Open In Colab\"/></a>"
      ]
    },
    {
      "cell_type": "markdown",
      "metadata": {
        "id": "v2KY2O-n_rvN"
      },
      "source": [
        "# Libraries"
      ]
    },
    {
      "cell_type": "code",
      "execution_count": 1,
      "metadata": {
        "id": "4fC3Y5IH5JDN"
      },
      "outputs": [],
      "source": [
        "import pandas as pd \n",
        "import numpy as np\n",
        "import math\n",
        "import operator "
      ]
    },
    {
      "cell_type": "code",
      "execution_count": 2,
      "metadata": {
        "colab": {
          "base_uri": "https://localhost:8080/"
        },
        "id": "L5dBuJpA5iZp",
        "outputId": "939d79bc-9f6e-43c8-fa32-6abd8e93f649"
      },
      "outputs": [
        {
          "output_type": "stream",
          "name": "stdout",
          "text": [
            "Drive already mounted at /content/drive; to attempt to forcibly remount, call drive.mount(\"/content/drive\", force_remount=True).\n"
          ]
        }
      ],
      "source": [
        "from google.colab import drive\n",
        "drive.mount('/content/drive')"
      ]
    },
    {
      "cell_type": "markdown",
      "metadata": {
        "id": "KTDKcmdQVRE6"
      },
      "source": [
        "# Data"
      ]
    },
    {
      "cell_type": "code",
      "source": [
        "path = \"/content/drive/MyDrive/HEDNO/Edo_ola/result_req.csv\"\n",
        "result_req = pd.read_csv(path, sep= ',')"
      ],
      "metadata": {
        "id": "PIeP0JCGYnYC"
      },
      "execution_count": 3,
      "outputs": []
    },
    {
      "cell_type": "code",
      "source": [
        "path = \"/content/drive/MyDrive/HEDNO/Edo_ola/result_req_test.csv\"\n",
        "result_req_test = pd.read_csv(path, sep= ',')"
      ],
      "metadata": {
        "id": "rlQH0VxXYn1k"
      },
      "execution_count": 4,
      "outputs": []
    },
    {
      "cell_type": "code",
      "source": [
        "path = \"/content/drive/MyDrive/HEDNO/Edo_ola/result_rep.csv\"\n",
        "result_rep = pd.read_csv(path, sep= ',')"
      ],
      "metadata": {
        "id": "CC97RbjJYn4J"
      },
      "execution_count": 5,
      "outputs": []
    },
    {
      "cell_type": "code",
      "source": [
        "path = \"/content/drive/MyDrive/HEDNO/Edo_ola/result_rep_test.csv\"\n",
        "result_rep_test = pd.read_csv(path, sep= ',')"
      ],
      "metadata": {
        "id": "4gyb3rb9Yn9E"
      },
      "execution_count": 6,
      "outputs": []
    },
    {
      "cell_type": "code",
      "source": [
        "path = \"/content/drive/MyDrive/HEDNO/Edo_ola/result_con.csv\"\n",
        "result_con = pd.read_csv(path, sep= ',')"
      ],
      "metadata": {
        "id": "9aGvLofHYoAD"
      },
      "execution_count": null,
      "outputs": []
    },
    {
      "cell_type": "code",
      "source": [
        "path = \"/content/drive/MyDrive/HEDNO/Edo_ola/result_con_test.csv\"\n",
        "result_con_test = pd.read_csv(path, sep= ',')"
      ],
      "metadata": {
        "id": "1HELfWQUZAzs"
      },
      "execution_count": null,
      "outputs": []
    },
    {
      "cell_type": "code",
      "execution_count": null,
      "metadata": {
        "id": "Y4mhAQyH80eh"
      },
      "outputs": [],
      "source": [
        "path = \"/content/drive/MyDrive/HEDNO/Records_TRAIN.csv\"\n",
        "df_records_train = pd.read_csv(path, sep= '|')"
      ]
    },
    {
      "cell_type": "code",
      "execution_count": null,
      "metadata": {
        "id": "DACsPhYa-oQj"
      },
      "outputs": [],
      "source": [
        "path = \"/content/drive/MyDrive/HEDNO/Records_TEST.csv\"\n",
        "df_records_test = pd.read_csv(path, sep= '|')"
      ]
    },
    {
      "cell_type": "markdown",
      "metadata": {
        "id": "TnZoOskfAL1e"
      },
      "source": [
        "## Powerthefts - Target Variable"
      ]
    },
    {
      "cell_type": "code",
      "execution_count": null,
      "metadata": {
        "id": "Zh7qy1wz8khy"
      },
      "outputs": [],
      "source": [
        "path = \"/content/drive/MyDrive/HEDNO/PowerThefts_TRAIN.csv\"\n",
        "df_power_thefts = pd.read_csv(path, sep= ',')"
      ]
    },
    {
      "cell_type": "code",
      "execution_count": null,
      "metadata": {
        "id": "xBTycnN73hRF"
      },
      "outputs": [],
      "source": [
        "df_power_thefts.drop(['Unnamed: 0.1','Unnamed: 0'], axis=1, inplace = True)"
      ]
    },
    {
      "cell_type": "markdown",
      "source": [
        "# Columns"
      ],
      "metadata": {
        "id": "DMrbVgxye-Ia"
      }
    },
    {
      "cell_type": "code",
      "source": [
        "result_req.columns"
      ],
      "metadata": {
        "id": "zcEJou25e_-H"
      },
      "execution_count": null,
      "outputs": []
    },
    {
      "cell_type": "code",
      "source": [
        "result_req.drop(['Unnamed: 0'],axis=1, inplace=True)"
      ],
      "metadata": {
        "id": "Ba_n_cl6fIWb"
      },
      "execution_count": null,
      "outputs": []
    },
    {
      "cell_type": "code",
      "source": [
        "result_req_test.columns"
      ],
      "metadata": {
        "id": "nrbuQ83gfACB"
      },
      "execution_count": null,
      "outputs": []
    },
    {
      "cell_type": "code",
      "source": [
        "result_req_test.drop(['Unnamed: 0'],axis=1, inplace=True)"
      ],
      "metadata": {
        "id": "rC7UFX0kfAHa"
      },
      "execution_count": null,
      "outputs": []
    },
    {
      "cell_type": "code",
      "source": [
        "result_rep.columns"
      ],
      "metadata": {
        "id": "UzeYgW5kfAK8"
      },
      "execution_count": null,
      "outputs": []
    },
    {
      "cell_type": "code",
      "source": [
        "result_rep.drop(['Unnamed: 0'],axis=1, inplace=True)"
      ],
      "metadata": {
        "id": "3mn15nwnfUK1"
      },
      "execution_count": null,
      "outputs": []
    },
    {
      "cell_type": "code",
      "source": [
        "result_rep_test.columns"
      ],
      "metadata": {
        "id": "oQxQVAHCfUNo"
      },
      "execution_count": null,
      "outputs": []
    },
    {
      "cell_type": "code",
      "source": [
        "result_rep_test.drop(['Unnamed: 0'],axis=1, inplace=True)"
      ],
      "metadata": {
        "id": "umuF3IrJfUSP"
      },
      "execution_count": null,
      "outputs": []
    },
    {
      "cell_type": "code",
      "source": [
        "result_con.columns"
      ],
      "metadata": {
        "id": "7WESeCmDfUVY"
      },
      "execution_count": null,
      "outputs": []
    },
    {
      "cell_type": "code",
      "source": [
        "result_con.drop(['Unnamed: 0', 'MS_METER_NBR', 'CSS_MS_HS_USE', 'MEASUREMENT_DATE'],axis=1, inplace=True)"
      ],
      "metadata": {
        "id": "cbdBgqnbfUY1"
      },
      "execution_count": null,
      "outputs": []
    },
    {
      "cell_type": "code",
      "source": [
        "result_con_test.columns"
      ],
      "metadata": {
        "id": "kUrNw7vdfUb2"
      },
      "execution_count": null,
      "outputs": []
    },
    {
      "cell_type": "code",
      "source": [
        "result_con_test.drop(['Unnamed: 0', 'MS_METER_NBR', 'CSS_MS_HS_USE', 'MEASUREMENT_DATE'],axis=1, inplace=True)"
      ],
      "metadata": {
        "id": "cFBr4mOAfpYg"
      },
      "execution_count": null,
      "outputs": []
    },
    {
      "cell_type": "code",
      "source": [
        "df_power_thefts.columns"
      ],
      "metadata": {
        "id": "26rhvPe5fu9P"
      },
      "execution_count": null,
      "outputs": []
    },
    {
      "cell_type": "code",
      "source": [
        "df_power_thefts.drop(['ΤΡΟΠΟΣ_ΕΝΤΟΠΙΣΜΟΥ', 'ΣΗΜΕΙΟ_ΕΝΤΟΠΙΣΜΟΥ','HMANAF', 'INITIAL_DETECTION_DATE', 'DETECTION_DATE',\n",
        "       'NON_REGISTERED_ENERGY'],axis=1, inplace=True)"
      ],
      "metadata": {
        "id": "E7gfEvOdfvBX"
      },
      "execution_count": null,
      "outputs": []
    },
    {
      "cell_type": "markdown",
      "metadata": {
        "id": "P4iLWBckrV5E"
      },
      "source": [
        "#Add column to power thefts with 1"
      ]
    },
    {
      "cell_type": "code",
      "execution_count": null,
      "metadata": {
        "id": "ZHFkEr9yrR8X"
      },
      "outputs": [],
      "source": [
        "df_power_thefts['target'] = 1"
      ]
    },
    {
      "cell_type": "code",
      "execution_count": null,
      "metadata": {
        "id": "XAKAa5JrrgL8"
      },
      "outputs": [],
      "source": [
        "df_power_thefts.head()"
      ]
    },
    {
      "cell_type": "markdown",
      "metadata": {
        "id": "wH5lVEDmEfzJ"
      },
      "source": [
        "##Δημιουργώ το dataframe - Join all except power_thefts"
      ]
    },
    {
      "cell_type": "code",
      "execution_count": null,
      "metadata": {
        "id": "5kyu2Yzy3nYD"
      },
      "outputs": [],
      "source": [
        "new_df=pd.merge(df_records_train,result_req, how='left',on=['ACCT_NBR','SUCCESSOR'])"
      ]
    },
    {
      "cell_type": "code",
      "execution_count": null,
      "metadata": {
        "id": "bzmqlGYzAMqg"
      },
      "outputs": [],
      "source": [
        "#test\n",
        "new_df_test=pd.merge(df_records_test,result_req_test, how='left',on=['ACCT_NBR','SUCCESSOR'])"
      ]
    },
    {
      "cell_type": "code",
      "execution_count": null,
      "metadata": {
        "id": "d9dJKZEmEoYt"
      },
      "outputs": [],
      "source": [
        "new_df=pd.merge(new_df,result_rep, how='left',on=['ACCT_NBR','SUCCESSOR'])"
      ]
    },
    {
      "cell_type": "code",
      "execution_count": null,
      "metadata": {
        "id": "TFi1RnITockm"
      },
      "outputs": [],
      "source": [
        "#test\n",
        "new_df_test=pd.merge(new_df_test,result_rep_test, how='left',on=['ACCT_NBR','SUCCESSOR'])"
      ]
    },
    {
      "cell_type": "code",
      "execution_count": null,
      "metadata": {
        "id": "3q4zafSJEoeG"
      },
      "outputs": [],
      "source": [
        "new_df=pd.merge(new_df,result_con, how='left',on=['ACCT_NBR','SUCCESSOR'] )"
      ]
    },
    {
      "cell_type": "code",
      "execution_count": null,
      "metadata": {
        "id": "ZV8Wjxf5okhi"
      },
      "outputs": [],
      "source": [
        "#test\n",
        "new_df_test=pd.merge(new_df_test,result_con_test, how='left',on=['ACCT_NBR','SUCCESSOR'] )"
      ]
    },
    {
      "cell_type": "code",
      "execution_count": null,
      "metadata": {
        "id": "qs0d332xPmW9"
      },
      "outputs": [],
      "source": [
        "new_df.head()"
      ]
    },
    {
      "cell_type": "code",
      "execution_count": null,
      "metadata": {
        "id": "k6PyChkZPsHQ"
      },
      "outputs": [],
      "source": [
        "new_df_test.head()"
      ]
    },
    {
      "cell_type": "markdown",
      "metadata": {
        "id": "FM5nUTHKtAgj"
      },
      "source": [
        "#Left Join new_df with power_thefts and to target column where value=Nan replace with 0"
      ]
    },
    {
      "cell_type": "code",
      "execution_count": null,
      "metadata": {
        "id": "jmWGzE05TgZi"
      },
      "outputs": [],
      "source": [
        "fin_info= pd.merge(new_df, df_power_thefts , on=['ACCT_NBR', 'SUCCESSOR'], how='left')"
      ]
    },
    {
      "cell_type": "code",
      "source": [
        "fin_info.head()"
      ],
      "metadata": {
        "id": "XoHvicrIcgdC"
      },
      "execution_count": null,
      "outputs": []
    },
    {
      "cell_type": "code",
      "execution_count": null,
      "metadata": {
        "id": "uUOAs7hHU5xj"
      },
      "outputs": [],
      "source": [
        "fin_info['target'] = fin_info['target'].fillna(0)"
      ]
    },
    {
      "cell_type": "code",
      "source": [
        "fin_info['target'].value_counts()"
      ],
      "metadata": {
        "id": "53rb5HzicmKH"
      },
      "execution_count": null,
      "outputs": []
    },
    {
      "cell_type": "code",
      "execution_count": null,
      "metadata": {
        "id": "wdIJfrsCVJWC"
      },
      "outputs": [],
      "source": [
        "fin_info[\"target\"] = fin_info[\"target\"].astype(int)"
      ]
    },
    {
      "cell_type": "markdown",
      "metadata": {
        "id": "PoH_Tm8_aVR5"
      },
      "source": [
        "#Στατιστική ανάλυση στα δεδομένα του τελικού dataframe - Not to run"
      ]
    },
    {
      "cell_type": "markdown",
      "metadata": {
        "id": "C3uiYJzlNzka"
      },
      "source": [
        "##power thefts percentage is almost 10%"
      ]
    },
    {
      "cell_type": "code",
      "execution_count": null,
      "metadata": {
        "id": "WPAt5oPsNyaE"
      },
      "outputs": [],
      "source": [
        "#sns.histplot(data=fin_info_1, x='target', bins=30)"
      ]
    },
    {
      "cell_type": "markdown",
      "metadata": {
        "id": "4jHQ0UB-Nd-r"
      },
      "source": [
        "##Missing Values"
      ]
    },
    {
      "cell_type": "code",
      "execution_count": 40,
      "metadata": {
        "id": "IOntt0M2NRoj",
        "colab": {
          "base_uri": "https://localhost:8080/",
          "height": 0
        },
        "outputId": "926a06e9-08d9-4046-8627-11773e55728f"
      },
      "outputs": [
        {
          "output_type": "execute_result",
          "data": {
            "text/plain": [
              "                      Total   Percent\n",
              "SUPPLIER_TO         7465556  0.766521\n",
              "LAST_REQUEST_TYPE   6864938  0.704853\n",
              "TOTAL_REQUEST_TYPE  6346941  0.651668\n",
              "BS_RATE              520758  0.053468\n",
              "TOTAL_MS_METER_NBR   520758  0.053468\n",
              "CONTRACT_CAPACITY     98877  0.010152\n",
              "TOTAL_SUPPLIER        12983  0.001333\n",
              "END_DATE              12983  0.001333\n",
              "START_DATE            12983  0.001333\n",
              "SUPPLIER              12983  0.001333\n",
              "LAST_SUPPLIER         12983  0.001333\n",
              "ACCT_NBR                  0  0.000000\n",
              "SUCCESSOR                 0  0.000000\n",
              "ACCT_WGS84_Y              0  0.000000\n",
              "ACCT_WGS84_X              0  0.000000\n",
              "ACCT_CONTROL              0  0.000000\n",
              "XRHSH                     0  0.000000\n",
              "PARNO                     0  0.000000\n",
              "VOLTAGE                   0  0.000000\n",
              "target                    0  0.000000"
            ],
            "text/html": [
              "\n",
              "  <div id=\"df-4fcf0b43-89a1-4304-84a3-54d43a8ac9f4\">\n",
              "    <div class=\"colab-df-container\">\n",
              "      <div>\n",
              "<style scoped>\n",
              "    .dataframe tbody tr th:only-of-type {\n",
              "        vertical-align: middle;\n",
              "    }\n",
              "\n",
              "    .dataframe tbody tr th {\n",
              "        vertical-align: top;\n",
              "    }\n",
              "\n",
              "    .dataframe thead th {\n",
              "        text-align: right;\n",
              "    }\n",
              "</style>\n",
              "<table border=\"1\" class=\"dataframe\">\n",
              "  <thead>\n",
              "    <tr style=\"text-align: right;\">\n",
              "      <th></th>\n",
              "      <th>Total</th>\n",
              "      <th>Percent</th>\n",
              "    </tr>\n",
              "  </thead>\n",
              "  <tbody>\n",
              "    <tr>\n",
              "      <th>SUPPLIER_TO</th>\n",
              "      <td>7465556</td>\n",
              "      <td>0.766521</td>\n",
              "    </tr>\n",
              "    <tr>\n",
              "      <th>LAST_REQUEST_TYPE</th>\n",
              "      <td>6864938</td>\n",
              "      <td>0.704853</td>\n",
              "    </tr>\n",
              "    <tr>\n",
              "      <th>TOTAL_REQUEST_TYPE</th>\n",
              "      <td>6346941</td>\n",
              "      <td>0.651668</td>\n",
              "    </tr>\n",
              "    <tr>\n",
              "      <th>BS_RATE</th>\n",
              "      <td>520758</td>\n",
              "      <td>0.053468</td>\n",
              "    </tr>\n",
              "    <tr>\n",
              "      <th>TOTAL_MS_METER_NBR</th>\n",
              "      <td>520758</td>\n",
              "      <td>0.053468</td>\n",
              "    </tr>\n",
              "    <tr>\n",
              "      <th>CONTRACT_CAPACITY</th>\n",
              "      <td>98877</td>\n",
              "      <td>0.010152</td>\n",
              "    </tr>\n",
              "    <tr>\n",
              "      <th>TOTAL_SUPPLIER</th>\n",
              "      <td>12983</td>\n",
              "      <td>0.001333</td>\n",
              "    </tr>\n",
              "    <tr>\n",
              "      <th>END_DATE</th>\n",
              "      <td>12983</td>\n",
              "      <td>0.001333</td>\n",
              "    </tr>\n",
              "    <tr>\n",
              "      <th>START_DATE</th>\n",
              "      <td>12983</td>\n",
              "      <td>0.001333</td>\n",
              "    </tr>\n",
              "    <tr>\n",
              "      <th>SUPPLIER</th>\n",
              "      <td>12983</td>\n",
              "      <td>0.001333</td>\n",
              "    </tr>\n",
              "    <tr>\n",
              "      <th>LAST_SUPPLIER</th>\n",
              "      <td>12983</td>\n",
              "      <td>0.001333</td>\n",
              "    </tr>\n",
              "    <tr>\n",
              "      <th>ACCT_NBR</th>\n",
              "      <td>0</td>\n",
              "      <td>0.000000</td>\n",
              "    </tr>\n",
              "    <tr>\n",
              "      <th>SUCCESSOR</th>\n",
              "      <td>0</td>\n",
              "      <td>0.000000</td>\n",
              "    </tr>\n",
              "    <tr>\n",
              "      <th>ACCT_WGS84_Y</th>\n",
              "      <td>0</td>\n",
              "      <td>0.000000</td>\n",
              "    </tr>\n",
              "    <tr>\n",
              "      <th>ACCT_WGS84_X</th>\n",
              "      <td>0</td>\n",
              "      <td>0.000000</td>\n",
              "    </tr>\n",
              "    <tr>\n",
              "      <th>ACCT_CONTROL</th>\n",
              "      <td>0</td>\n",
              "      <td>0.000000</td>\n",
              "    </tr>\n",
              "    <tr>\n",
              "      <th>XRHSH</th>\n",
              "      <td>0</td>\n",
              "      <td>0.000000</td>\n",
              "    </tr>\n",
              "    <tr>\n",
              "      <th>PARNO</th>\n",
              "      <td>0</td>\n",
              "      <td>0.000000</td>\n",
              "    </tr>\n",
              "    <tr>\n",
              "      <th>VOLTAGE</th>\n",
              "      <td>0</td>\n",
              "      <td>0.000000</td>\n",
              "    </tr>\n",
              "    <tr>\n",
              "      <th>target</th>\n",
              "      <td>0</td>\n",
              "      <td>0.000000</td>\n",
              "    </tr>\n",
              "  </tbody>\n",
              "</table>\n",
              "</div>\n",
              "      <button class=\"colab-df-convert\" onclick=\"convertToInteractive('df-4fcf0b43-89a1-4304-84a3-54d43a8ac9f4')\"\n",
              "              title=\"Convert this dataframe to an interactive table.\"\n",
              "              style=\"display:none;\">\n",
              "        \n",
              "  <svg xmlns=\"http://www.w3.org/2000/svg\" height=\"24px\"viewBox=\"0 0 24 24\"\n",
              "       width=\"24px\">\n",
              "    <path d=\"M0 0h24v24H0V0z\" fill=\"none\"/>\n",
              "    <path d=\"M18.56 5.44l.94 2.06.94-2.06 2.06-.94-2.06-.94-.94-2.06-.94 2.06-2.06.94zm-11 1L8.5 8.5l.94-2.06 2.06-.94-2.06-.94L8.5 2.5l-.94 2.06-2.06.94zm10 10l.94 2.06.94-2.06 2.06-.94-2.06-.94-.94-2.06-.94 2.06-2.06.94z\"/><path d=\"M17.41 7.96l-1.37-1.37c-.4-.4-.92-.59-1.43-.59-.52 0-1.04.2-1.43.59L10.3 9.45l-7.72 7.72c-.78.78-.78 2.05 0 2.83L4 21.41c.39.39.9.59 1.41.59.51 0 1.02-.2 1.41-.59l7.78-7.78 2.81-2.81c.8-.78.8-2.07 0-2.86zM5.41 20L4 18.59l7.72-7.72 1.47 1.35L5.41 20z\"/>\n",
              "  </svg>\n",
              "      </button>\n",
              "      \n",
              "  <style>\n",
              "    .colab-df-container {\n",
              "      display:flex;\n",
              "      flex-wrap:wrap;\n",
              "      gap: 12px;\n",
              "    }\n",
              "\n",
              "    .colab-df-convert {\n",
              "      background-color: #E8F0FE;\n",
              "      border: none;\n",
              "      border-radius: 50%;\n",
              "      cursor: pointer;\n",
              "      display: none;\n",
              "      fill: #1967D2;\n",
              "      height: 32px;\n",
              "      padding: 0 0 0 0;\n",
              "      width: 32px;\n",
              "    }\n",
              "\n",
              "    .colab-df-convert:hover {\n",
              "      background-color: #E2EBFA;\n",
              "      box-shadow: 0px 1px 2px rgba(60, 64, 67, 0.3), 0px 1px 3px 1px rgba(60, 64, 67, 0.15);\n",
              "      fill: #174EA6;\n",
              "    }\n",
              "\n",
              "    [theme=dark] .colab-df-convert {\n",
              "      background-color: #3B4455;\n",
              "      fill: #D2E3FC;\n",
              "    }\n",
              "\n",
              "    [theme=dark] .colab-df-convert:hover {\n",
              "      background-color: #434B5C;\n",
              "      box-shadow: 0px 1px 3px 1px rgba(0, 0, 0, 0.15);\n",
              "      filter: drop-shadow(0px 1px 2px rgba(0, 0, 0, 0.3));\n",
              "      fill: #FFFFFF;\n",
              "    }\n",
              "  </style>\n",
              "\n",
              "      <script>\n",
              "        const buttonEl =\n",
              "          document.querySelector('#df-4fcf0b43-89a1-4304-84a3-54d43a8ac9f4 button.colab-df-convert');\n",
              "        buttonEl.style.display =\n",
              "          google.colab.kernel.accessAllowed ? 'block' : 'none';\n",
              "\n",
              "        async function convertToInteractive(key) {\n",
              "          const element = document.querySelector('#df-4fcf0b43-89a1-4304-84a3-54d43a8ac9f4');\n",
              "          const dataTable =\n",
              "            await google.colab.kernel.invokeFunction('convertToInteractive',\n",
              "                                                     [key], {});\n",
              "          if (!dataTable) return;\n",
              "\n",
              "          const docLinkHtml = 'Like what you see? Visit the ' +\n",
              "            '<a target=\"_blank\" href=https://colab.research.google.com/notebooks/data_table.ipynb>data table notebook</a>'\n",
              "            + ' to learn more about interactive tables.';\n",
              "          element.innerHTML = '';\n",
              "          dataTable['output_type'] = 'display_data';\n",
              "          await google.colab.output.renderOutput(dataTable, element);\n",
              "          const docLink = document.createElement('div');\n",
              "          docLink.innerHTML = docLinkHtml;\n",
              "          element.appendChild(docLink);\n",
              "        }\n",
              "      </script>\n",
              "    </div>\n",
              "  </div>\n",
              "  "
            ]
          },
          "metadata": {},
          "execution_count": 40
        }
      ],
      "source": [
        "total = fin_info.isnull().sum().sort_values(ascending=False)\n",
        "percent = (fin_info.isnull().sum()/fin_info.isnull().count()).sort_values(ascending=False)\n",
        "missing_data = pd.concat([total, percent], axis=1, keys=['Total', 'Percent'])\n",
        "missing_data.head(20)"
      ]
    },
    {
      "cell_type": "code",
      "source": [
        "fin_info.drop(['LAST_REQUEST_TYPE','TOTAL_REQUEST_TYPE'], axis = 1, inplace = True)"
      ],
      "metadata": {
        "id": "B6IWWS96hI-U"
      },
      "execution_count": 41,
      "outputs": []
    },
    {
      "cell_type": "code",
      "source": [
        "#total = new_df_test.isnull().sum().sort_values(ascending=False)\n",
        "#percent = (new_df_test.isnull().sum()/new_df_test.isnull().count()).sort_values(ascending=False)\n",
        "#missing_data = pd.concat([total, percent], axis=1, keys=['Total', 'Percent'])\n",
        "#missing_data.head(20)"
      ],
      "metadata": {
        "id": "S8oReQFdha_P"
      },
      "execution_count": 42,
      "outputs": []
    },
    {
      "cell_type": "code",
      "source": [
        "new_df_test.drop(['LAST_REQUEST_TYPE','TOTAL_REQUEST_TYPE'], axis = 1, inplace = True)"
      ],
      "metadata": {
        "id": "EXXU2mi-hoF5"
      },
      "execution_count": 43,
      "outputs": []
    },
    {
      "cell_type": "markdown",
      "metadata": {
        "id": "bDdsAv5rR7Ew"
      },
      "source": [
        "##Handle missing data"
      ]
    },
    {
      "cell_type": "code",
      "execution_count": null,
      "metadata": {
        "id": "bFkSZShg-oho"
      },
      "outputs": [],
      "source": [
        "fin_info = fin_info.apply(lambda x:x.fillna(x.value_counts().index[0]))\n",
        "fin_info.isnull().sum().max()"
      ]
    },
    {
      "cell_type": "code",
      "source": [
        "new_df_test = new_df_test.apply(lambda x:x.fillna(x.value_counts().index[0]))\n",
        "new_df_test.isnull().sum().max()"
      ],
      "metadata": {
        "id": "b_pDichbhtlc"
      },
      "execution_count": null,
      "outputs": []
    },
    {
      "cell_type": "markdown",
      "source": [
        "#Drop duplicates- if done the precision in the model will drop later"
      ],
      "metadata": {
        "id": "AiNctZs7ihGz"
      }
    },
    {
      "cell_type": "code",
      "source": [
        "fin_info = fin_info.drop_duplicates(subset=['ACCT_NBR', 'SUCCESSOR'], keep='last')"
      ],
      "metadata": {
        "id": "wyj5DPCRh5iU"
      },
      "execution_count": null,
      "outputs": []
    },
    {
      "cell_type": "code",
      "source": [
        "new_df_test = new_df_test.drop_duplicates(subset=['ACCT_NBR', 'SUCCESSOR'], keep='last')"
      ],
      "metadata": {
        "id": "MHDsE5sUitIA"
      },
      "execution_count": null,
      "outputs": []
    },
    {
      "cell_type": "code",
      "source": [
        "fin_info.head()"
      ],
      "metadata": {
        "id": "lTMc81kCi2ET"
      },
      "execution_count": null,
      "outputs": []
    },
    {
      "cell_type": "code",
      "source": [
        "new_df_test.head()"
      ],
      "metadata": {
        "id": "4AguX2tXi2Mc"
      },
      "execution_count": null,
      "outputs": []
    },
    {
      "cell_type": "code",
      "source": [
        "#new_df_test['target'].value_counts()"
      ],
      "metadata": {
        "id": "bCv-8VEOjGeE"
      },
      "execution_count": null,
      "outputs": []
    },
    {
      "cell_type": "markdown",
      "metadata": {
        "id": "x-wQvqu4Olo1"
      },
      "source": [
        "#Save to drive and work with only the two last files"
      ]
    },
    {
      "cell_type": "code",
      "execution_count": null,
      "metadata": {
        "id": "HB4FFqZcOkzd"
      },
      "outputs": [],
      "source": [
        "path = \"/content/drive/MyDrive/HEDNO/Edo_ola/train_data.csv\"\n",
        "with open(path, 'w', encoding = 'utf-8-sig') as f:\n",
        "  fin_info.to_csv(f)"
      ]
    },
    {
      "cell_type": "code",
      "execution_count": null,
      "metadata": {
        "id": "MeBQd8LyPPy1"
      },
      "outputs": [],
      "source": [
        "path = \"/content/drive/MyDrive/HEDNO/Edo_ola/test_data.csv\"\n",
        "with open(path, 'w', encoding = 'utf-8-sig') as f:\n",
        "  new_df_test.to_csv(f)"
      ]
    }
  ]
}